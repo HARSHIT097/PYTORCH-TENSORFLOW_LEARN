{
  "nbformat": 4,
  "nbformat_minor": 0,
  "metadata": {
    "colab": {
      "name": "VGG_vs_Custom_Model.ipynb",
      "provenance": [],
      "toc_visible": true,
      "authorship_tag": "ABX9TyORwQpbonDmFjMpmSAEMgwS",
      "include_colab_link": true
    },
    "kernelspec": {
      "name": "python3",
      "display_name": "Python 3"
    },
    "language_info": {
      "name": "python"
    },
    "accelerator": "GPU",
    "widgets": {
      "application/vnd.jupyter.widget-state+json": {
        "afd5656103284ab19b45896e15286c95": {
          "model_module": "@jupyter-widgets/controls",
          "model_name": "HBoxModel",
          "state": {
            "_view_name": "HBoxView",
            "_dom_classes": [],
            "_model_name": "HBoxModel",
            "_view_module": "@jupyter-widgets/controls",
            "_model_module_version": "1.5.0",
            "_view_count": null,
            "_view_module_version": "1.5.0",
            "box_style": "",
            "layout": "IPY_MODEL_baef5aceb47346a69c7c3207c2dbeae4",
            "_model_module": "@jupyter-widgets/controls",
            "children": [
              "IPY_MODEL_8a8f974852e34c0f9d1cf3a8673de7e3",
              "IPY_MODEL_7394d25714ea4875a61115c5c6b60991"
            ]
          }
        },
        "baef5aceb47346a69c7c3207c2dbeae4": {
          "model_module": "@jupyter-widgets/base",
          "model_name": "LayoutModel",
          "state": {
            "_view_name": "LayoutView",
            "grid_template_rows": null,
            "right": null,
            "justify_content": null,
            "_view_module": "@jupyter-widgets/base",
            "overflow": null,
            "_model_module_version": "1.2.0",
            "_view_count": null,
            "flex_flow": null,
            "width": null,
            "min_width": null,
            "border": null,
            "align_items": null,
            "bottom": null,
            "_model_module": "@jupyter-widgets/base",
            "top": null,
            "grid_column": null,
            "overflow_y": null,
            "overflow_x": null,
            "grid_auto_flow": null,
            "grid_area": null,
            "grid_template_columns": null,
            "flex": null,
            "_model_name": "LayoutModel",
            "justify_items": null,
            "grid_row": null,
            "max_height": null,
            "align_content": null,
            "visibility": null,
            "align_self": null,
            "height": null,
            "min_height": null,
            "padding": null,
            "grid_auto_rows": null,
            "grid_gap": null,
            "max_width": null,
            "order": null,
            "_view_module_version": "1.2.0",
            "grid_template_areas": null,
            "object_position": null,
            "object_fit": null,
            "grid_auto_columns": null,
            "margin": null,
            "display": null,
            "left": null
          }
        },
        "8a8f974852e34c0f9d1cf3a8673de7e3": {
          "model_module": "@jupyter-widgets/controls",
          "model_name": "FloatProgressModel",
          "state": {
            "_view_name": "ProgressView",
            "style": "IPY_MODEL_b78deeffc58f4d879b245a6777467882",
            "_dom_classes": [],
            "description": "Dl Completed...: 100%",
            "_model_name": "FloatProgressModel",
            "bar_style": "success",
            "max": 5,
            "_view_module": "@jupyter-widgets/controls",
            "_model_module_version": "1.5.0",
            "value": 5,
            "_view_count": null,
            "_view_module_version": "1.5.0",
            "orientation": "horizontal",
            "min": 0,
            "description_tooltip": null,
            "_model_module": "@jupyter-widgets/controls",
            "layout": "IPY_MODEL_4db26a9e30034ee3b94ad8f4e79f67e5"
          }
        },
        "7394d25714ea4875a61115c5c6b60991": {
          "model_module": "@jupyter-widgets/controls",
          "model_name": "HTMLModel",
          "state": {
            "_view_name": "HTMLView",
            "style": "IPY_MODEL_4677dc95f06545caa8879b0b263cc3e3",
            "_dom_classes": [],
            "description": "",
            "_model_name": "HTMLModel",
            "placeholder": "​",
            "_view_module": "@jupyter-widgets/controls",
            "_model_module_version": "1.5.0",
            "value": " 5/5 [00:07&lt;00:00,  1.59s/ file]",
            "_view_count": null,
            "_view_module_version": "1.5.0",
            "description_tooltip": null,
            "_model_module": "@jupyter-widgets/controls",
            "layout": "IPY_MODEL_80672d68604f40799e1e1e4a27032770"
          }
        },
        "b78deeffc58f4d879b245a6777467882": {
          "model_module": "@jupyter-widgets/controls",
          "model_name": "ProgressStyleModel",
          "state": {
            "_view_name": "StyleView",
            "_model_name": "ProgressStyleModel",
            "description_width": "initial",
            "_view_module": "@jupyter-widgets/base",
            "_model_module_version": "1.5.0",
            "_view_count": null,
            "_view_module_version": "1.2.0",
            "bar_color": null,
            "_model_module": "@jupyter-widgets/controls"
          }
        },
        "4db26a9e30034ee3b94ad8f4e79f67e5": {
          "model_module": "@jupyter-widgets/base",
          "model_name": "LayoutModel",
          "state": {
            "_view_name": "LayoutView",
            "grid_template_rows": null,
            "right": null,
            "justify_content": null,
            "_view_module": "@jupyter-widgets/base",
            "overflow": null,
            "_model_module_version": "1.2.0",
            "_view_count": null,
            "flex_flow": null,
            "width": null,
            "min_width": null,
            "border": null,
            "align_items": null,
            "bottom": null,
            "_model_module": "@jupyter-widgets/base",
            "top": null,
            "grid_column": null,
            "overflow_y": null,
            "overflow_x": null,
            "grid_auto_flow": null,
            "grid_area": null,
            "grid_template_columns": null,
            "flex": null,
            "_model_name": "LayoutModel",
            "justify_items": null,
            "grid_row": null,
            "max_height": null,
            "align_content": null,
            "visibility": null,
            "align_self": null,
            "height": null,
            "min_height": null,
            "padding": null,
            "grid_auto_rows": null,
            "grid_gap": null,
            "max_width": null,
            "order": null,
            "_view_module_version": "1.2.0",
            "grid_template_areas": null,
            "object_position": null,
            "object_fit": null,
            "grid_auto_columns": null,
            "margin": null,
            "display": null,
            "left": null
          }
        },
        "4677dc95f06545caa8879b0b263cc3e3": {
          "model_module": "@jupyter-widgets/controls",
          "model_name": "DescriptionStyleModel",
          "state": {
            "_view_name": "StyleView",
            "_model_name": "DescriptionStyleModel",
            "description_width": "",
            "_view_module": "@jupyter-widgets/base",
            "_model_module_version": "1.5.0",
            "_view_count": null,
            "_view_module_version": "1.2.0",
            "_model_module": "@jupyter-widgets/controls"
          }
        },
        "80672d68604f40799e1e1e4a27032770": {
          "model_module": "@jupyter-widgets/base",
          "model_name": "LayoutModel",
          "state": {
            "_view_name": "LayoutView",
            "grid_template_rows": null,
            "right": null,
            "justify_content": null,
            "_view_module": "@jupyter-widgets/base",
            "overflow": null,
            "_model_module_version": "1.2.0",
            "_view_count": null,
            "flex_flow": null,
            "width": null,
            "min_width": null,
            "border": null,
            "align_items": null,
            "bottom": null,
            "_model_module": "@jupyter-widgets/base",
            "top": null,
            "grid_column": null,
            "overflow_y": null,
            "overflow_x": null,
            "grid_auto_flow": null,
            "grid_area": null,
            "grid_template_columns": null,
            "flex": null,
            "_model_name": "LayoutModel",
            "justify_items": null,
            "grid_row": null,
            "max_height": null,
            "align_content": null,
            "visibility": null,
            "align_self": null,
            "height": null,
            "min_height": null,
            "padding": null,
            "grid_auto_rows": null,
            "grid_gap": null,
            "max_width": null,
            "order": null,
            "_view_module_version": "1.2.0",
            "grid_template_areas": null,
            "object_position": null,
            "object_fit": null,
            "grid_auto_columns": null,
            "margin": null,
            "display": null,
            "left": null
          }
        }
      }
    }
  },
  "cells": [
    {
      "cell_type": "markdown",
      "metadata": {
        "id": "view-in-github",
        "colab_type": "text"
      },
      "source": [
        "<a href=\"https://colab.research.google.com/github/HARSHIT097/PYTORCH-TENSORFLOW_LEARN/blob/main/VGG_vs_Custom_Model.ipynb\" target=\"_parent\"><img src=\"https://colab.research.google.com/assets/colab-badge.svg\" alt=\"Open In Colab\"/></a>"
      ]
    },
    {
      "cell_type": "markdown",
      "metadata": {
        "id": "GEaShCnI44E1"
      },
      "source": [
        "# Basic - warmup"
      ]
    },
    {
      "cell_type": "code",
      "metadata": {
        "colab": {
          "base_uri": "https://localhost:8080/"
        },
        "id": "_k0dgWjkut_e",
        "outputId": "0abbcbd7-0632-4ed2-9261-4600e948b095"
      },
      "source": [
        "def foo():\n",
        "  x = 'Python'\n",
        "  def bar():\n",
        "    x = 'Java'\n",
        "  bar() \n",
        "  return x\n",
        "\n",
        "print(foo())"
      ],
      "execution_count": 9,
      "outputs": [
        {
          "output_type": "stream",
          "text": [
            "Python\n"
          ],
          "name": "stdout"
        }
      ]
    },
    {
      "cell_type": "code",
      "metadata": {
        "colab": {
          "base_uri": "https://localhost:8080/"
        },
        "id": "oLOXZnnHuzY1",
        "outputId": "f5694e6a-424c-4483-c088-15c4a80c6c50"
      },
      "source": [
        "tuple1=(25)\n",
        "print(tuple1)\n",
        "print(type(tuple1))"
      ],
      "execution_count": 10,
      "outputs": [
        {
          "output_type": "stream",
          "text": [
            "25\n",
            "<class 'int'>\n"
          ],
          "name": "stdout"
        }
      ]
    },
    {
      "cell_type": "code",
      "metadata": {
        "colab": {
          "base_uri": "https://localhost:8080/"
        },
        "id": "-k_OR4CxvWfr",
        "outputId": "822d63e7-5ad7-4a7c-b6f3-86c6ca5f4e7c"
      },
      "source": [
        "def t (a, b=10):\n",
        "  print(a ,b) \n",
        "t(3) \n"
      ],
      "execution_count": 12,
      "outputs": [
        {
          "output_type": "stream",
          "text": [
            "3 10\n"
          ],
          "name": "stdout"
        }
      ]
    },
    {
      "cell_type": "code",
      "metadata": {
        "colab": {
          "base_uri": "https://localhost:8080/"
        },
        "id": "RJg8zgldvf58",
        "outputId": "416825a5-42cb-4075-9b45-844404d979b8"
      },
      "source": [
        "a = 1\n",
        "b = 1\n",
        "k = a+b\n",
        "k = k + True\n",
        "k"
      ],
      "execution_count": 13,
      "outputs": [
        {
          "output_type": "execute_result",
          "data": {
            "text/plain": [
              "3"
            ]
          },
          "metadata": {
            "tags": []
          },
          "execution_count": 13
        }
      ]
    },
    {
      "cell_type": "code",
      "metadata": {
        "colab": {
          "base_uri": "https://localhost:8080/"
        },
        "id": "0gTumCONvr8e",
        "outputId": "2a6a9ac7-d767-4f37-f9be-ed6823c93380"
      },
      "source": [
        "var = 10\n",
        "def foo():\n",
        "  var = 15\n",
        "foo()\n",
        "print(var)"
      ],
      "execution_count": 14,
      "outputs": [
        {
          "output_type": "stream",
          "text": [
            "10\n"
          ],
          "name": "stdout"
        }
      ]
    },
    {
      "cell_type": "code",
      "metadata": {
        "colab": {
          "base_uri": "https://localhost:8080/"
        },
        "id": "A8dqebA1wx0d",
        "outputId": "6f4cb450-9394-46a9-b422-331277ab0503"
      },
      "source": [
        "import numpy as np\n",
        "\n",
        "percentiles = [98, 76.37, 55.55, 69, 88]\n",
        "first_subject = np.array(percentiles)\n",
        "print(first_subject.dtype)"
      ],
      "execution_count": 15,
      "outputs": [
        {
          "output_type": "stream",
          "text": [
            "float64\n"
          ],
          "name": "stdout"
        }
      ]
    },
    {
      "cell_type": "code",
      "metadata": {
        "colab": {
          "base_uri": "https://localhost:8080/"
        },
        "id": "WF3B7Npvw4Ot",
        "outputId": "3ea72522-e697-4641-c287-701f0f7f2809"
      },
      "source": [
        "import numpy as np\n",
        "series = [[23,45,12,679], [14,48,69,38]]\n",
        "new_series = np.array(series)\n",
        "print(new_series.ndim)\n",
        "print(new_series.shape)\n",
        "print(new_series.dtype)"
      ],
      "execution_count": 16,
      "outputs": [
        {
          "output_type": "stream",
          "text": [
            "2\n",
            "(2, 4)\n",
            "int64\n"
          ],
          "name": "stdout"
        }
      ]
    },
    {
      "cell_type": "code",
      "metadata": {
        "id": "mlrW3MCYxmDp",
        "colab": {
          "base_uri": "https://localhost:8080/"
        },
        "outputId": "2f7cc124-baab-4aa8-94fc-608381bf33b6"
      },
      "source": [
        "from numpy import random \n",
        "dataset = np.array(['paul', 'jacob', 'vince', 'paul', 'miky', 'jacob', 'warren'])\n",
        "new_var = (dataset == 'paul') | (dataset == 'jacob')\n",
        "print(new_var)"
      ],
      "execution_count": 17,
      "outputs": [
        {
          "output_type": "stream",
          "text": [
            "[ True  True False  True False  True False]\n"
          ],
          "name": "stdout"
        }
      ]
    },
    {
      "cell_type": "markdown",
      "metadata": {
        "id": "H18FLxmj2ycm"
      },
      "source": [
        "#To Understand the model:\n",
        "\n",
        "A CNN can be divided into two main parts: Feature learning and classification.\n",
        "\n",
        "##Feature Learning\n",
        "In this part, the main goal of the NN is to find patterns in the pixels of the images that can be useful to identify the targets of the classification. That happens in the convolution layers of the network that specializes in those patterns for the problem at hand.\n",
        "\n",
        "##Classification\n",
        "Now we want to use those patterns to classify our images to their correct label. This part of the network does exactly that job, it uses the inputs from the previous layers to find the best class to your matched patterns in the new image.\n",
        "\n"
      ]
    },
    {
      "cell_type": "code",
      "metadata": {
        "id": "pxQAtJF12v0r"
      },
      "source": [
        ""
      ],
      "execution_count": null,
      "outputs": []
    },
    {
      "cell_type": "code",
      "metadata": {
        "id": "EzvuSk031i4c"
      },
      "source": [
        "import tensorflow as tf\n"
      ],
      "execution_count": 1,
      "outputs": []
    },
    {
      "cell_type": "code",
      "metadata": {
        "colab": {
          "base_uri": "https://localhost:8080/",
          "height": 222,
          "referenced_widgets": [
            "afd5656103284ab19b45896e15286c95",
            "baef5aceb47346a69c7c3207c2dbeae4",
            "8a8f974852e34c0f9d1cf3a8673de7e3",
            "7394d25714ea4875a61115c5c6b60991",
            "b78deeffc58f4d879b245a6777467882",
            "4db26a9e30034ee3b94ad8f4e79f67e5",
            "4677dc95f06545caa8879b0b263cc3e3",
            "80672d68604f40799e1e1e4a27032770"
          ]
        },
        "id": "yizClA8S1VPe",
        "outputId": "338af14f-fba0-4050-a272-5419e2be9f0f"
      },
      "source": [
        "import tensorflow_datasets as tfds\n",
        "from tensorflow.keras.utils import to_categorical\n",
        "\n",
        "## Loading images and labels\n",
        "(train_ds, train_labels), (test_ds, test_labels) = tfds.load(\n",
        "    \"tf_flowers\",\n",
        "    split=[\"train[:70%]\", \"train[:30%]\"], ## Train test split\n",
        "    batch_size=-1,\n",
        "    as_supervised=True,  # Include labels\n",
        ")\n",
        "\n",
        "## Resizing images\n",
        "train_ds = tf.image.resize(train_ds, (150, 150))\n",
        "test_ds = tf.image.resize(test_ds, (150, 150))\n",
        "\n",
        "## Transforming labels to correct format\n",
        "train_labels = to_categorical(train_labels, num_classes=5)\n",
        "test_labels = to_categorical(test_labels, num_classes=5)"
      ],
      "execution_count": 2,
      "outputs": [
        {
          "output_type": "stream",
          "text": [
            "\u001b[1mDownloading and preparing dataset tf_flowers/3.0.1 (download: 218.21 MiB, generated: 221.83 MiB, total: 440.05 MiB) to /root/tensorflow_datasets/tf_flowers/3.0.1...\u001b[0m\n"
          ],
          "name": "stdout"
        },
        {
          "output_type": "stream",
          "text": [
            "WARNING:absl:Dataset tf_flowers is hosted on GCS. It will automatically be downloaded to your\n",
            "local data directory. If you'd instead prefer to read directly from our public\n",
            "GCS bucket (recommended if you're running on GCP), you can instead pass\n",
            "`try_gcs=True` to `tfds.load` or set `data_dir=gs://tfds-data/datasets`.\n",
            "\n"
          ],
          "name": "stderr"
        },
        {
          "output_type": "display_data",
          "data": {
            "application/vnd.jupyter.widget-view+json": {
              "model_id": "afd5656103284ab19b45896e15286c95",
              "version_minor": 0,
              "version_major": 2
            },
            "text/plain": [
              "HBox(children=(FloatProgress(value=0.0, description='Dl Completed...', max=5.0, style=ProgressStyle(descriptio…"
            ]
          },
          "metadata": {
            "tags": []
          }
        },
        {
          "output_type": "stream",
          "text": [
            "\n",
            "\n",
            "\u001b[1mDataset tf_flowers downloaded and prepared to /root/tensorflow_datasets/tf_flowers/3.0.1. Subsequent calls will reuse this data.\u001b[0m\n"
          ],
          "name": "stdout"
        }
      ]
    },
    {
      "cell_type": "code",
      "metadata": {
        "colab": {
          "base_uri": "https://localhost:8080/"
        },
        "id": "KyukKEYH1Wiy",
        "outputId": "ae5ea26d-d0b1-4b68-ec45-0688e60cd0dc"
      },
      "source": [
        "from tensorflow.keras.applications.vgg16 import VGG16\n",
        "from tensorflow.keras.applications.vgg16 import preprocess_input\n",
        "\n",
        "## Loading VGG16 model\n",
        "base_model = VGG16(weights=\"imagenet\", include_top=False, input_shape=train_ds[0].shape)\n",
        "base_model.trainable = False ## Not trainable weights\n",
        "\n",
        "## Preprocessing input\n",
        "train_ds = preprocess_input(train_ds) \n",
        "test_ds = preprocess_input(test_ds)"
      ],
      "execution_count": 3,
      "outputs": [
        {
          "output_type": "stream",
          "text": [
            "Downloading data from https://storage.googleapis.com/tensorflow/keras-applications/vgg16/vgg16_weights_tf_dim_ordering_tf_kernels_notop.h5\n",
            "58892288/58889256 [==============================] - 0s 0us/step\n"
          ],
          "name": "stdout"
        }
      ]
    },
    {
      "cell_type": "code",
      "metadata": {
        "colab": {
          "base_uri": "https://localhost:8080/"
        },
        "id": "rsN4Wl951x3q",
        "outputId": "e775fb58-b7c1-415e-e03c-934bc19ae00b"
      },
      "source": [
        "base_model.summary()"
      ],
      "execution_count": 4,
      "outputs": [
        {
          "output_type": "stream",
          "text": [
            "Model: \"vgg16\"\n",
            "_________________________________________________________________\n",
            "Layer (type)                 Output Shape              Param #   \n",
            "=================================================================\n",
            "input_1 (InputLayer)         [(None, 150, 150, 3)]     0         \n",
            "_________________________________________________________________\n",
            "block1_conv1 (Conv2D)        (None, 150, 150, 64)      1792      \n",
            "_________________________________________________________________\n",
            "block1_conv2 (Conv2D)        (None, 150, 150, 64)      36928     \n",
            "_________________________________________________________________\n",
            "block1_pool (MaxPooling2D)   (None, 75, 75, 64)        0         \n",
            "_________________________________________________________________\n",
            "block2_conv1 (Conv2D)        (None, 75, 75, 128)       73856     \n",
            "_________________________________________________________________\n",
            "block2_conv2 (Conv2D)        (None, 75, 75, 128)       147584    \n",
            "_________________________________________________________________\n",
            "block2_pool (MaxPooling2D)   (None, 37, 37, 128)       0         \n",
            "_________________________________________________________________\n",
            "block3_conv1 (Conv2D)        (None, 37, 37, 256)       295168    \n",
            "_________________________________________________________________\n",
            "block3_conv2 (Conv2D)        (None, 37, 37, 256)       590080    \n",
            "_________________________________________________________________\n",
            "block3_conv3 (Conv2D)        (None, 37, 37, 256)       590080    \n",
            "_________________________________________________________________\n",
            "block3_pool (MaxPooling2D)   (None, 18, 18, 256)       0         \n",
            "_________________________________________________________________\n",
            "block4_conv1 (Conv2D)        (None, 18, 18, 512)       1180160   \n",
            "_________________________________________________________________\n",
            "block4_conv2 (Conv2D)        (None, 18, 18, 512)       2359808   \n",
            "_________________________________________________________________\n",
            "block4_conv3 (Conv2D)        (None, 18, 18, 512)       2359808   \n",
            "_________________________________________________________________\n",
            "block4_pool (MaxPooling2D)   (None, 9, 9, 512)         0         \n",
            "_________________________________________________________________\n",
            "block5_conv1 (Conv2D)        (None, 9, 9, 512)         2359808   \n",
            "_________________________________________________________________\n",
            "block5_conv2 (Conv2D)        (None, 9, 9, 512)         2359808   \n",
            "_________________________________________________________________\n",
            "block5_conv3 (Conv2D)        (None, 9, 9, 512)         2359808   \n",
            "_________________________________________________________________\n",
            "block5_pool (MaxPooling2D)   (None, 4, 4, 512)         0         \n",
            "=================================================================\n",
            "Total params: 14,714,688\n",
            "Trainable params: 0\n",
            "Non-trainable params: 14,714,688\n",
            "_________________________________________________________________\n"
          ],
          "name": "stdout"
        }
      ]
    },
    {
      "cell_type": "code",
      "metadata": {
        "id": "TE9tI7m017UI"
      },
      "source": [
        "from tensorflow.keras import layers, models\n",
        "\n",
        "flatten_layer = layers.Flatten()\n",
        "dense_layer_1 = layers.Dense(50, activation='relu')\n",
        "dense_layer_2 = layers.Dense(20, activation='relu')\n",
        "prediction_layer = layers.Dense(5, activation='softmax')\n",
        "\n",
        "\n",
        "model = models.Sequential([\n",
        "    base_model,\n",
        "    flatten_layer,\n",
        "    dense_layer_1,\n",
        "    dense_layer_2,\n",
        "    prediction_layer\n",
        "])"
      ],
      "execution_count": 5,
      "outputs": []
    },
    {
      "cell_type": "code",
      "metadata": {
        "id": "P5WQlpka2CE0"
      },
      "source": [
        "from tensorflow.keras.callbacks import EarlyStopping\n",
        "\n",
        "model.compile(\n",
        "    optimizer='adam',\n",
        "    loss='categorical_crossentropy',\n",
        "    metrics=['accuracy'],\n",
        ")"
      ],
      "execution_count": 6,
      "outputs": []
    },
    {
      "cell_type": "code",
      "metadata": {
        "colab": {
          "base_uri": "https://localhost:8080/"
        },
        "id": "mzl4ByZ_2Hiv",
        "outputId": "885ab9cc-be16-4041-c431-95280ad3ecb7"
      },
      "source": [
        "es = EarlyStopping(monitor='val_accuracy', mode='max', patience=5,  restore_best_weights=True)\n",
        "\n",
        "model.fit(train_ds, train_labels, epochs=50, validation_split=0.2, batch_size=32, callbacks=[es])\n"
      ],
      "execution_count": 7,
      "outputs": [
        {
          "output_type": "stream",
          "text": [
            "Epoch 1/50\n",
            "65/65 [==============================] - 40s 117ms/step - loss: 1.7778 - accuracy: 0.4710 - val_loss: 1.1123 - val_accuracy: 0.5953\n",
            "Epoch 2/50\n",
            "65/65 [==============================] - 5s 81ms/step - loss: 0.9527 - accuracy: 0.6720 - val_loss: 0.9609 - val_accuracy: 0.6401\n",
            "Epoch 3/50\n",
            "65/65 [==============================] - 5s 83ms/step - loss: 0.6749 - accuracy: 0.7557 - val_loss: 0.9511 - val_accuracy: 0.6946\n",
            "Epoch 4/50\n",
            "65/65 [==============================] - 5s 83ms/step - loss: 0.4595 - accuracy: 0.8311 - val_loss: 0.9821 - val_accuracy: 0.6965\n",
            "Epoch 5/50\n",
            "65/65 [==============================] - 5s 83ms/step - loss: 0.3361 - accuracy: 0.8740 - val_loss: 0.9136 - val_accuracy: 0.7160\n",
            "Epoch 6/50\n",
            "65/65 [==============================] - 5s 81ms/step - loss: 0.2554 - accuracy: 0.9080 - val_loss: 1.0250 - val_accuracy: 0.7043\n",
            "Epoch 7/50\n",
            "65/65 [==============================] - 5s 80ms/step - loss: 0.1967 - accuracy: 0.9294 - val_loss: 1.0290 - val_accuracy: 0.7043\n",
            "Epoch 8/50\n",
            "65/65 [==============================] - 5s 80ms/step - loss: 0.1402 - accuracy: 0.9538 - val_loss: 1.0781 - val_accuracy: 0.7237\n",
            "Epoch 9/50\n",
            "65/65 [==============================] - 5s 80ms/step - loss: 0.1269 - accuracy: 0.9562 - val_loss: 1.2082 - val_accuracy: 0.7082\n",
            "Epoch 10/50\n",
            "65/65 [==============================] - 5s 79ms/step - loss: 0.0964 - accuracy: 0.9679 - val_loss: 1.1580 - val_accuracy: 0.6965\n",
            "Epoch 11/50\n",
            "65/65 [==============================] - 5s 79ms/step - loss: 0.0645 - accuracy: 0.9796 - val_loss: 1.2685 - val_accuracy: 0.7121\n",
            "Epoch 12/50\n",
            "65/65 [==============================] - 5s 79ms/step - loss: 0.0591 - accuracy: 0.9781 - val_loss: 1.3995 - val_accuracy: 0.7043\n",
            "Epoch 13/50\n",
            "65/65 [==============================] - 5s 79ms/step - loss: 0.0694 - accuracy: 0.9776 - val_loss: 1.3103 - val_accuracy: 0.7198\n"
          ],
          "name": "stdout"
        },
        {
          "output_type": "execute_result",
          "data": {
            "text/plain": [
              "<tensorflow.python.keras.callbacks.History at 0x7f4a2f26d710>"
            ]
          },
          "metadata": {
            "tags": []
          },
          "execution_count": 7
        }
      ]
    },
    {
      "cell_type": "markdown",
      "metadata": {
        "id": "2WlNoQNh3ycO"
      },
      "source": [
        "#comparing to hand-made model"
      ]
    },
    {
      "cell_type": "code",
      "metadata": {
        "colab": {
          "base_uri": "https://localhost:8080/"
        },
        "id": "lM360gsK2MjB",
        "outputId": "fcb5501e-2746-4530-a89b-13b0e7e24ee8"
      },
      "source": [
        "from tensorflow.keras import Sequential, layers\n",
        "from tensorflow.keras.callbacks import EarlyStopping\n",
        "from tensorflow.keras.layers.experimental.preprocessing import Rescaling\n",
        "\n",
        "\n",
        "hand_made_model = Sequential()\n",
        "hand_made_model.add(Rescaling(1./255, input_shape=(150,150,3)))\n",
        "\n",
        "hand_made_model.add(layers.Conv2D(16, kernel_size=10, activation='relu'))\n",
        "hand_made_model.add(layers.MaxPooling2D(3))\n",
        "\n",
        "hand_made_model.add(layers.Conv2D(32, kernel_size=8, activation=\"relu\"))\n",
        "hand_made_model.add(layers.MaxPooling2D(2))\n",
        "\n",
        "hand_made_model.add(layers.Conv2D(32, kernel_size=6, activation=\"relu\"))\n",
        "hand_made_model.add(layers.MaxPooling2D(2))\n",
        "\n",
        "hand_made_model.add(layers.Flatten())\n",
        "hand_made_model.add(layers.Dense(50, activation='relu'))\n",
        "hand_made_model.add(layers.Dense(20, activation='relu'))\n",
        "hand_made_model.add(layers.Dense(5, activation='softmax'))\n",
        "\n",
        "\n",
        "hand_made_model.compile(\n",
        "    optimizer='adam',\n",
        "    loss='categorical_crossentropy',\n",
        "    metrics=['accuracy'],\n",
        ")\n",
        "\n",
        "\n",
        "es = EarlyStopping(monitor='val_accuracy', mode='max', patience=5,  restore_best_weights=True)\n",
        "\n",
        "hand_made_model.fit(train_ds, train_labels, epochs=50, validation_split=0.2, batch_size=32, callbacks=[es])"
      ],
      "execution_count": 8,
      "outputs": [
        {
          "output_type": "stream",
          "text": [
            "Epoch 1/50\n",
            "65/65 [==============================] - 4s 26ms/step - loss: 1.5387 - accuracy: 0.3163 - val_loss: 1.4218 - val_accuracy: 0.3288\n",
            "Epoch 2/50\n",
            "65/65 [==============================] - 1s 21ms/step - loss: 1.3659 - accuracy: 0.3927 - val_loss: 1.3116 - val_accuracy: 0.4669\n",
            "Epoch 3/50\n",
            "65/65 [==============================] - 1s 22ms/step - loss: 1.2732 - accuracy: 0.4506 - val_loss: 1.2821 - val_accuracy: 0.4494\n",
            "Epoch 4/50\n",
            "65/65 [==============================] - 1s 21ms/step - loss: 1.2371 - accuracy: 0.4642 - val_loss: 1.2434 - val_accuracy: 0.5233\n",
            "Epoch 5/50\n",
            "65/65 [==============================] - 1s 22ms/step - loss: 1.1417 - accuracy: 0.5168 - val_loss: 1.1909 - val_accuracy: 0.5195\n",
            "Epoch 6/50\n",
            "65/65 [==============================] - 1s 21ms/step - loss: 1.0642 - accuracy: 0.5562 - val_loss: 1.1717 - val_accuracy: 0.5350\n",
            "Epoch 7/50\n",
            "65/65 [==============================] - 1s 22ms/step - loss: 0.9702 - accuracy: 0.6214 - val_loss: 1.1191 - val_accuracy: 0.5525\n",
            "Epoch 8/50\n",
            "65/65 [==============================] - 1s 21ms/step - loss: 0.9090 - accuracy: 0.6384 - val_loss: 1.1485 - val_accuracy: 0.5603\n",
            "Epoch 9/50\n",
            "65/65 [==============================] - 1s 21ms/step - loss: 0.8631 - accuracy: 0.6511 - val_loss: 1.2360 - val_accuracy: 0.5467\n",
            "Epoch 10/50\n",
            "65/65 [==============================] - 1s 22ms/step - loss: 0.8174 - accuracy: 0.6720 - val_loss: 1.1829 - val_accuracy: 0.5700\n",
            "Epoch 11/50\n",
            "65/65 [==============================] - 1s 22ms/step - loss: 0.6960 - accuracy: 0.7236 - val_loss: 1.3028 - val_accuracy: 0.5895\n",
            "Epoch 12/50\n",
            "65/65 [==============================] - 1s 22ms/step - loss: 0.6806 - accuracy: 0.7285 - val_loss: 1.2403 - val_accuracy: 0.5837\n",
            "Epoch 13/50\n",
            "65/65 [==============================] - 1s 22ms/step - loss: 0.5624 - accuracy: 0.7771 - val_loss: 1.3409 - val_accuracy: 0.5837\n",
            "Epoch 14/50\n",
            "65/65 [==============================] - 1s 22ms/step - loss: 0.4910 - accuracy: 0.8165 - val_loss: 1.4344 - val_accuracy: 0.5642\n",
            "Epoch 15/50\n",
            "65/65 [==============================] - 1s 22ms/step - loss: 0.4360 - accuracy: 0.8268 - val_loss: 1.6590 - val_accuracy: 0.5681\n",
            "Epoch 16/50\n",
            "65/65 [==============================] - 1s 21ms/step - loss: 0.3956 - accuracy: 0.8404 - val_loss: 1.6546 - val_accuracy: 0.5681\n"
          ],
          "name": "stdout"
        },
        {
          "output_type": "execute_result",
          "data": {
            "text/plain": [
              "<tensorflow.python.keras.callbacks.History at 0x7f4a200638d0>"
            ]
          },
          "metadata": {
            "tags": []
          },
          "execution_count": 8
        }
      ]
    },
    {
      "cell_type": "code",
      "metadata": {
        "id": "c7K4GxT839cY"
      },
      "source": [
        ""
      ],
      "execution_count": null,
      "outputs": []
    },
    {
      "cell_type": "markdown",
      "metadata": {
        "id": "j-opHuEJ3_xU"
      },
      "source": [
        "#conclusion\n",
        "\n",
        "The VGG model is performing better than our custom model."
      ]
    }
  ]
}