{
  "nbformat": 4,
  "nbformat_minor": 0,
  "metadata": {
    "colab": {
      "name": "pYTORCH001.ipynb",
      "provenance": [],
      "toc_visible": true,
      "authorship_tag": "ABX9TyOsKq3sNsiuPoZvQjvVhKIz",
      "include_colab_link": true
    },
    "kernelspec": {
      "name": "python3",
      "display_name": "Python 3"
    },
    "language_info": {
      "name": "python"
    }
  },
  "cells": [
    {
      "cell_type": "markdown",
      "metadata": {
        "id": "view-in-github",
        "colab_type": "text"
      },
      "source": [
        "<a href=\"https://colab.research.google.com/github/HARSHIT097/PYTORCH_LEARN/blob/main/pYTORCH001.ipynb\" target=\"_parent\"><img src=\"https://colab.research.google.com/assets/colab-badge.svg\" alt=\"Open In Colab\"/></a>"
      ]
    },
    {
      "cell_type": "markdown",
      "metadata": {
        "id": "Z7jQIBALARoy"
      },
      "source": [
        "# Basics"
      ]
    },
    {
      "cell_type": "code",
      "metadata": {
        "id": "Vf0-kxOSO8yz"
      },
      "source": [
        "#!pip install torch\n",
        "import torch\n"
      ],
      "execution_count": 709,
      "outputs": []
    },
    {
      "cell_type": "code",
      "metadata": {
        "colab": {
          "base_uri": "https://localhost:8080/"
        },
        "id": "lcyyWNyNPJHA",
        "outputId": "129919ba-7218-4b44-ee7a-1e9186e8079d"
      },
      "source": [
        "v = torch.tensor([1, 2, 3])\n",
        "print(v.dtype)"
      ],
      "execution_count": 710,
      "outputs": [
        {
          "output_type": "stream",
          "text": [
            "torch.int64\n"
          ],
          "name": "stdout"
        }
      ]
    },
    {
      "cell_type": "code",
      "metadata": {
        "colab": {
          "base_uri": "https://localhost:8080/"
        },
        "id": "Gx-6RkOiS7ER",
        "outputId": "5297fe10-4f28-4a0b-df29-458fd7e26dc8"
      },
      "source": [
        "f = torch.FloatTensor([1, 2, 3,4])\n",
        "f"
      ],
      "execution_count": 711,
      "outputs": [
        {
          "output_type": "execute_result",
          "data": {
            "text/plain": [
              "tensor([1., 2., 3., 4.])"
            ]
          },
          "metadata": {
            "tags": []
          },
          "execution_count": 711
        }
      ]
    },
    {
      "cell_type": "code",
      "metadata": {
        "colab": {
          "base_uri": "https://localhost:8080/"
        },
        "id": "BVD-eRYxacof",
        "outputId": "a00848cb-45ae-481d-f080-01eafcb2c07c"
      },
      "source": [
        "f.size()"
      ],
      "execution_count": 712,
      "outputs": [
        {
          "output_type": "execute_result",
          "data": {
            "text/plain": [
              "torch.Size([4])"
            ]
          },
          "metadata": {
            "tags": []
          },
          "execution_count": 712
        }
      ]
    },
    {
      "cell_type": "code",
      "metadata": {
        "colab": {
          "base_uri": "https://localhost:8080/"
        },
        "id": "ZS-3YPtGawZK",
        "outputId": "c61f46c4-9316-4f4c-c3c5-c7c13ca09a70"
      },
      "source": [
        "#in dimension\n",
        "f.view(2,2)"
      ],
      "execution_count": 713,
      "outputs": [
        {
          "output_type": "execute_result",
          "data": {
            "text/plain": [
              "tensor([[1., 2.],\n",
              "        [3., 4.]])"
            ]
          },
          "metadata": {
            "tags": []
          },
          "execution_count": 713
        }
      ]
    },
    {
      "cell_type": "code",
      "metadata": {
        "colab": {
          "base_uri": "https://localhost:8080/"
        },
        "id": "fXPJBSyza1Ob",
        "outputId": "f46ea768-326d-48c4-a7e8-cc1a9ff8c86f"
      },
      "source": [
        "#converting a numpy array to tensor\n",
        "import numpy as np\n",
        "\n",
        "a = np.array([1,2,3,4,5,6])\n",
        "ten_cnv = torch.from_numpy(a)\n",
        "print(ten_cnv)\n",
        "\n"
      ],
      "execution_count": 714,
      "outputs": [
        {
          "output_type": "stream",
          "text": [
            "tensor([1, 2, 3, 4, 5, 6])\n"
          ],
          "name": "stdout"
        }
      ]
    },
    {
      "cell_type": "code",
      "metadata": {
        "colab": {
          "base_uri": "https://localhost:8080/",
          "height": 0
        },
        "id": "bx-2v8gNbzcb",
        "outputId": "1459b75b-39e4-4c97-dae0-f57e4434e82b"
      },
      "source": [
        "ten_cnv.type()"
      ],
      "execution_count": 715,
      "outputs": [
        {
          "output_type": "execute_result",
          "data": {
            "application/vnd.google.colaboratory.intrinsic+json": {
              "type": "string"
            },
            "text/plain": [
              "'torch.LongTensor'"
            ]
          },
          "metadata": {
            "tags": []
          },
          "execution_count": 715
        }
      ]
    },
    {
      "cell_type": "code",
      "metadata": {
        "colab": {
          "base_uri": "https://localhost:8080/"
        },
        "id": "Auwkiy8Db-IZ",
        "outputId": "542bc4eb-96c2-4983-acd5-703b2d779819"
      },
      "source": [
        "#vice versa\n",
        "numpy_cnv = ten_cnv.numpy()\n",
        "numpy_cnv"
      ],
      "execution_count": 716,
      "outputs": [
        {
          "output_type": "execute_result",
          "data": {
            "text/plain": [
              "array([1, 2, 3, 4, 5, 6])"
            ]
          },
          "metadata": {
            "tags": []
          },
          "execution_count": 716
        }
      ]
    },
    {
      "cell_type": "code",
      "metadata": {
        "colab": {
          "base_uri": "https://localhost:8080/"
        },
        "id": "sw2lPNUwdgu7",
        "outputId": "e6a7aca4-dc6a-4898-dce4-ab509c6d8510"
      },
      "source": [
        "t_one = torch.tensor([1,2,3])\n",
        "t_two = torch.tensor([3,2,5])\n",
        "\n",
        "t_one*5"
      ],
      "execution_count": 717,
      "outputs": [
        {
          "output_type": "execute_result",
          "data": {
            "text/plain": [
              "tensor([ 5, 10, 15])"
            ]
          },
          "metadata": {
            "tags": []
          },
          "execution_count": 717
        }
      ]
    },
    {
      "cell_type": "code",
      "metadata": {
        "colab": {
          "base_uri": "https://localhost:8080/"
        },
        "id": "MedthwXi1PP1",
        "outputId": "e878a3c9-2019-4eef-f505-90af6b5352d5"
      },
      "source": [
        "t_one + t_two"
      ],
      "execution_count": 718,
      "outputs": [
        {
          "output_type": "execute_result",
          "data": {
            "text/plain": [
              "tensor([4, 4, 8])"
            ]
          },
          "metadata": {
            "tags": []
          },
          "execution_count": 718
        }
      ]
    },
    {
      "cell_type": "code",
      "metadata": {
        "colab": {
          "base_uri": "https://localhost:8080/"
        },
        "id": "3tVruU841YJl",
        "outputId": "e37963b5-c4e6-46d4-9518-1d2484411ff3"
      },
      "source": [
        "torch.dot(t_one, t_two)"
      ],
      "execution_count": 719,
      "outputs": [
        {
          "output_type": "execute_result",
          "data": {
            "text/plain": [
              "tensor(22)"
            ]
          },
          "metadata": {
            "tags": []
          },
          "execution_count": 719
        }
      ]
    },
    {
      "cell_type": "code",
      "metadata": {
        "colab": {
          "base_uri": "https://localhost:8080/"
        },
        "id": "mnELja891fcy",
        "outputId": "80b9adc9-08ff-44cc-b09a-7384c36b5655"
      },
      "source": [
        "#equally spaced nmmbers\n",
        "torch.linspace(0,10,50)"
      ],
      "execution_count": 720,
      "outputs": [
        {
          "output_type": "execute_result",
          "data": {
            "text/plain": [
              "tensor([ 0.0000,  0.2041,  0.4082,  0.6122,  0.8163,  1.0204,  1.2245,  1.4286,\n",
              "         1.6327,  1.8367,  2.0408,  2.2449,  2.4490,  2.6531,  2.8571,  3.0612,\n",
              "         3.2653,  3.4694,  3.6735,  3.8776,  4.0816,  4.2857,  4.4898,  4.6939,\n",
              "         4.8980,  5.1020,  5.3061,  5.5102,  5.7143,  5.9184,  6.1224,  6.3265,\n",
              "         6.5306,  6.7347,  6.9388,  7.1429,  7.3469,  7.5510,  7.7551,  7.9592,\n",
              "         8.1633,  8.3673,  8.5714,  8.7755,  8.9796,  9.1837,  9.3878,  9.5918,\n",
              "         9.7959, 10.0000])"
            ]
          },
          "metadata": {
            "tags": []
          },
          "execution_count": 720
        }
      ]
    },
    {
      "cell_type": "code",
      "metadata": {
        "id": "vb1BKpu01rP9"
      },
      "source": [
        "x = torch.linspace(0,10,50)\n",
        "#y = torch.exp(x)\n",
        "y = torch.cos(x)"
      ],
      "execution_count": 721,
      "outputs": []
    },
    {
      "cell_type": "code",
      "metadata": {
        "colab": {
          "base_uri": "https://localhost:8080/",
          "height": 0
        },
        "id": "exiM6G3W2RE-",
        "outputId": "25f77e89-31b7-470f-b62b-7ffa3a4eefe9"
      },
      "source": [
        "#plotiing the above value using matplotlib\n",
        "\n",
        "import matplotlib.pyplot as plt\n",
        "#x and y must be numpy arrays not tensors\n",
        "plt.plot(x.numpy(),y.numpy())"
      ],
      "execution_count": 722,
      "outputs": [
        {
          "output_type": "execute_result",
          "data": {
            "text/plain": [
              "[<matplotlib.lines.Line2D at 0x7fb8a7c23210>]"
            ]
          },
          "metadata": {
            "tags": []
          },
          "execution_count": 722
        },
        {
          "output_type": "display_data",
          "data": {
            "image/png": "[encoded data removed]",
            "text/plain": [
              "<Figure size 432x288 with 1 Axes>"
            ]
          },
          "metadata": {
            "tags": [],
            "needs_background": "light"
          }
        }
      ]
    },
    {
      "cell_type": "code",
      "metadata": {
        "colab": {
          "base_uri": "https://localhost:8080/"
        },
        "id": "SkyMCGUe25fM",
        "outputId": "0356ea5f-5ef4-4284-c94e-98788a017674"
      },
      "source": [
        "# 2 dimensional tensors\n",
        "\n",
        "one_d = torch.arange(0,6)\n",
        "one_d"
      ],
      "execution_count": 723,
      "outputs": [
        {
          "output_type": "execute_result",
          "data": {
            "text/plain": [
              "tensor([0, 1, 2, 3, 4, 5])"
            ]
          },
          "metadata": {
            "tags": []
          },
          "execution_count": 723
        }
      ]
    },
    {
      "cell_type": "code",
      "metadata": {
        "colab": {
          "base_uri": "https://localhost:8080/"
        },
        "id": "L_NwMeO_3tJt",
        "outputId": "8678e7ec-fee1-4806-f9f6-358d92fe4d38"
      },
      "source": [
        "two_d = one_d.view(3,2)\n",
        "two_d"
      ],
      "execution_count": 724,
      "outputs": [
        {
          "output_type": "execute_result",
          "data": {
            "text/plain": [
              "tensor([[0, 1],\n",
              "        [2, 3],\n",
              "        [4, 5]])"
            ]
          },
          "metadata": {
            "tags": []
          },
          "execution_count": 724
        }
      ]
    },
    {
      "cell_type": "code",
      "metadata": {
        "colab": {
          "base_uri": "https://localhost:8080/"
        },
        "id": "92kC7GY931_z",
        "outputId": "45d4a4ec-1eee-4179-d9ae-cc5051960813"
      },
      "source": [
        "two_d.dim()"
      ],
      "execution_count": 725,
      "outputs": [
        {
          "output_type": "execute_result",
          "data": {
            "text/plain": [
              "2"
            ]
          },
          "metadata": {
            "tags": []
          },
          "execution_count": 725
        }
      ]
    },
    {
      "cell_type": "code",
      "metadata": {
        "colab": {
          "base_uri": "https://localhost:8080/"
        },
        "id": "-zg6nUuU3_1Q",
        "outputId": "18de38a1-21eb-427a-ba49-01559fd5e42a"
      },
      "source": [
        "two_d[2,1]"
      ],
      "execution_count": 726,
      "outputs": [
        {
          "output_type": "execute_result",
          "data": {
            "text/plain": [
              "tensor(5)"
            ]
          },
          "metadata": {
            "tags": []
          },
          "execution_count": 726
        }
      ]
    },
    {
      "cell_type": "code",
      "metadata": {
        "id": "TTryAhTK4Ewe"
      },
      "source": [
        "#3 d\n",
        "\n",
        "x = torch.arange(27).view(3, 3,3)"
      ],
      "execution_count": 727,
      "outputs": []
    },
    {
      "cell_type": "code",
      "metadata": {
        "colab": {
          "base_uri": "https://localhost:8080/"
        },
        "id": "-CYAorhT4n83",
        "outputId": "ced51cfe-c817-4df0-85d4-8770ed4906ef"
      },
      "source": [
        "x"
      ],
      "execution_count": 728,
      "outputs": [
        {
          "output_type": "execute_result",
          "data": {
            "text/plain": [
              "tensor([[[ 0,  1,  2],\n",
              "         [ 3,  4,  5],\n",
              "         [ 6,  7,  8]],\n",
              "\n",
              "        [[ 9, 10, 11],\n",
              "         [12, 13, 14],\n",
              "         [15, 16, 17]],\n",
              "\n",
              "        [[18, 19, 20],\n",
              "         [21, 22, 23],\n",
              "         [24, 25, 26]]])"
            ]
          },
          "metadata": {
            "tags": []
          },
          "execution_count": 728
        }
      ]
    },
    {
      "cell_type": "code",
      "metadata": {
        "colab": {
          "base_uri": "https://localhost:8080/"
        },
        "id": "Yig4mfp74o5m",
        "outputId": "f31638da-f902-40ee-bc28-eb1f1e9a3edf"
      },
      "source": [
        "x[1,0:3,0:3]"
      ],
      "execution_count": 729,
      "outputs": [
        {
          "output_type": "execute_result",
          "data": {
            "text/plain": [
              "tensor([[ 9, 10, 11],\n",
              "        [12, 13, 14],\n",
              "        [15, 16, 17]])"
            ]
          },
          "metadata": {
            "tags": []
          },
          "execution_count": 729
        }
      ]
    },
    {
      "cell_type": "code",
      "metadata": {
        "colab": {
          "base_uri": "https://localhost:8080/"
        },
        "id": "UjxdyH6C8Agt",
        "outputId": "97f0fbaa-14da-4bed-a4a0-9031df8d5962"
      },
      "source": [
        "x[2,:,:]"
      ],
      "execution_count": 730,
      "outputs": [
        {
          "output_type": "execute_result",
          "data": {
            "text/plain": [
              "tensor([[18, 19, 20],\n",
              "        [21, 22, 23],\n",
              "        [24, 25, 26]])"
            ]
          },
          "metadata": {
            "tags": []
          },
          "execution_count": 730
        }
      ]
    },
    {
      "cell_type": "code",
      "metadata": {
        "colab": {
          "base_uri": "https://localhost:8080/"
        },
        "id": "SHZ5Blut9Ljw",
        "outputId": "f2be0358-ce8e-403a-f226-f58c828e93ad"
      },
      "source": [
        "#mat multiplication\n",
        "mat_a = torch.tensor([0,3,2,5,5,8]).view(3,2)\n",
        "mat_a"
      ],
      "execution_count": 731,
      "outputs": [
        {
          "output_type": "execute_result",
          "data": {
            "text/plain": [
              "tensor([[0, 3],\n",
              "        [2, 5],\n",
              "        [5, 8]])"
            ]
          },
          "metadata": {
            "tags": []
          },
          "execution_count": 731
        }
      ]
    },
    {
      "cell_type": "code",
      "metadata": {
        "colab": {
          "base_uri": "https://localhost:8080/"
        },
        "id": "xZzhsbWX9_yZ",
        "outputId": "3816a8d4-b1f0-403e-c765-43a3b8625188"
      },
      "source": [
        "mat_b = torch.tensor([0,3,2,5,5,8]).view(2,3)\n",
        "mat_b"
      ],
      "execution_count": 732,
      "outputs": [
        {
          "output_type": "execute_result",
          "data": {
            "text/plain": [
              "tensor([[0, 3, 2],\n",
              "        [5, 5, 8]])"
            ]
          },
          "metadata": {
            "tags": []
          },
          "execution_count": 732
        }
      ]
    },
    {
      "cell_type": "code",
      "metadata": {
        "colab": {
          "base_uri": "https://localhost:8080/"
        },
        "id": "oUNtFfw2-EY6",
        "outputId": "aa6c1f02-94a7-40ac-8c28-bf499ce47ed5"
      },
      "source": [
        "mat_a @ mat_b"
      ],
      "execution_count": 733,
      "outputs": [
        {
          "output_type": "execute_result",
          "data": {
            "text/plain": [
              "tensor([[15, 15, 24],\n",
              "        [25, 31, 44],\n",
              "        [40, 55, 74]])"
            ]
          },
          "metadata": {
            "tags": []
          },
          "execution_count": 733
        }
      ]
    },
    {
      "cell_type": "code",
      "metadata": {
        "colab": {
          "base_uri": "https://localhost:8080/"
        },
        "id": "j28ZtmJu-O9o",
        "outputId": "eaf45879-c3dd-45c9-a6fd-48e75edd35c1"
      },
      "source": [
        "torch.matmul(mat_a, mat_b)"
      ],
      "execution_count": 734,
      "outputs": [
        {
          "output_type": "execute_result",
          "data": {
            "text/plain": [
              "tensor([[15, 15, 24],\n",
              "        [25, 31, 44],\n",
              "        [40, 55, 74]])"
            ]
          },
          "metadata": {
            "tags": []
          },
          "execution_count": 734
        }
      ]
    },
    {
      "cell_type": "code",
      "metadata": {
        "colab": {
          "base_uri": "https://localhost:8080/"
        },
        "id": "o7Iuqlmy-VDh",
        "outputId": "a727b8e5-d83a-4c01-ad0c-8bae52c85bc7"
      },
      "source": [
        "#gradient/ differential \n",
        "\n",
        "x = torch.tensor(2.0, requires_grad=True)\n",
        "y = 8*x**4 + 7*x**3 + 4*x**2 + 2*x + 1\n",
        "y.backward()\n",
        "x.grad"
      ],
      "execution_count": 735,
      "outputs": [
        {
          "output_type": "execute_result",
          "data": {
            "text/plain": [
              "tensor(358.)"
            ]
          },
          "metadata": {
            "tags": []
          },
          "execution_count": 735
        }
      ]
    },
    {
      "cell_type": "code",
      "metadata": {
        "colab": {
          "base_uri": "https://localhost:8080/"
        },
        "id": "IFuVDjpg_XOj",
        "outputId": "fb939d55-a817-4857-c93d-0a3e46f8ec3c"
      },
      "source": [
        "#partial derrivatives\n",
        "x = torch.tensor(1.0, requires_grad=True)\n",
        "z = torch.tensor(2.0, requires_grad=True)\n",
        "y = x**2 + z **3\n",
        "y.backward()\n",
        "x.grad"
      ],
      "execution_count": 736,
      "outputs": [
        {
          "output_type": "execute_result",
          "data": {
            "text/plain": [
              "tensor(2.)"
            ]
          },
          "metadata": {
            "tags": []
          },
          "execution_count": 736
        }
      ]
    },
    {
      "cell_type": "code",
      "metadata": {
        "colab": {
          "base_uri": "https://localhost:8080/"
        },
        "id": "_xV3UxEu_8L9",
        "outputId": "55f78c1c-3696-4798-8176-d0447134cfa4"
      },
      "source": [
        "z.grad"
      ],
      "execution_count": 737,
      "outputs": [
        {
          "output_type": "execute_result",
          "data": {
            "text/plain": [
              "tensor(12.)"
            ]
          },
          "metadata": {
            "tags": []
          },
          "execution_count": 737
        }
      ]
    },
    {
      "cell_type": "code",
      "metadata": {
        "id": "D-ESGq80__cy"
      },
      "source": [
        ""
      ],
      "execution_count": 737,
      "outputs": []
    },
    {
      "cell_type": "markdown",
      "metadata": {
        "id": "k84gcOtSASXN"
      },
      "source": [
        "# Modelling - Linear Regression"
      ]
    },
    {
      "cell_type": "markdown",
      "metadata": {
        "id": "vXLKY4KFQM61"
      },
      "source": [
        "## Creating a model and understanding it from scratch"
      ]
    },
    {
      "cell_type": "code",
      "metadata": {
        "id": "zCh6FdjOAidn"
      },
      "source": [
        "import torch"
      ],
      "execution_count": 738,
      "outputs": []
    },
    {
      "cell_type": "code",
      "metadata": {
        "id": "4BiNlCkzBueH"
      },
      "source": [
        "w = torch.tensor(3.0, requires_grad=True)\n",
        "b = torch.tensor(1.0, requires_grad=True)"
      ],
      "execution_count": 739,
      "outputs": []
    },
    {
      "cell_type": "code",
      "metadata": {
        "id": "XzMCcfPhB5D0"
      },
      "source": [
        "def forward(x):\n",
        "  y = w*x +b\n",
        "  return y"
      ],
      "execution_count": 740,
      "outputs": []
    },
    {
      "cell_type": "code",
      "metadata": {
        "colab": {
          "base_uri": "https://localhost:8080/"
        },
        "id": "RbLiYDbYCA10",
        "outputId": "9976a48d-a4e8-4aef-9af0-41f6e241e793"
      },
      "source": [
        "x=torch.tensor(2)\n",
        "forward(x)"
      ],
      "execution_count": 741,
      "outputs": [
        {
          "output_type": "execute_result",
          "data": {
            "text/plain": [
              "tensor(7., grad_fn=<AddBackward0>)"
            ]
          },
          "metadata": {
            "tags": []
          },
          "execution_count": 741
        }
      ]
    },
    {
      "cell_type": "code",
      "metadata": {
        "colab": {
          "base_uri": "https://localhost:8080/"
        },
        "id": "lnQp9ItTCL-b",
        "outputId": "b8587a13-4cf9-4a86-f376-b8836c9c06f4"
      },
      "source": [
        "x=torch.tensor([[4],[7]])\n",
        "forward(x)"
      ],
      "execution_count": 742,
      "outputs": [
        {
          "output_type": "execute_result",
          "data": {
            "text/plain": [
              "tensor([[13.],\n",
              "        [22.]], grad_fn=<AddBackward0>)"
            ]
          },
          "metadata": {
            "tags": []
          },
          "execution_count": 742
        }
      ]
    },
    {
      "cell_type": "code",
      "metadata": {
        "id": "8aWE5QdxCTYN"
      },
      "source": [
        "#from nn class importing linear function\n",
        "from torch.nn import Linear"
      ],
      "execution_count": 743,
      "outputs": []
    },
    {
      "cell_type": "code",
      "metadata": {
        "colab": {
          "base_uri": "https://localhost:8080/"
        },
        "id": "PM0taSpaCwVj",
        "outputId": "1472b867-6d6a-443e-e3c0-db3ffd634582"
      },
      "source": [
        "torch.manual_seed(5)\n",
        "model = Linear(in_features=1, out_features=1)\n",
        "print(model.bias, model.weight)"
      ],
      "execution_count": 744,
      "outputs": [
        {
          "output_type": "stream",
          "text": [
            "Parameter containing:\n",
            "tensor([-0.7478], requires_grad=True) Parameter containing:\n",
            "tensor([[0.6605]], requires_grad=True)\n"
          ],
          "name": "stdout"
        }
      ]
    },
    {
      "cell_type": "code",
      "metadata": {
        "colab": {
          "base_uri": "https://localhost:8080/"
        },
        "id": "Wlk-2iVBC8gF",
        "outputId": "d6c0b14e-f9dc-491e-a21e-2a4f8df07b16"
      },
      "source": [
        "x = torch.tensor([[2.0], [3.3], [4.2]])\n",
        "print(model(x))"
      ],
      "execution_count": 745,
      "outputs": [
        {
          "output_type": "stream",
          "text": [
            "tensor([[0.5732],\n",
            "        [1.4319],\n",
            "        [2.0263]], grad_fn=<AddmmBackward>)\n"
          ],
          "name": "stdout"
        }
      ]
    },
    {
      "cell_type": "code",
      "metadata": {
        "colab": {
          "base_uri": "https://localhost:8080/"
        },
        "id": "y9EY2KtHGGn-",
        "outputId": "1d25f23e-7e91-44d0-ed0f-98c7a2c1f26f"
      },
      "source": [
        "##using class method\n",
        "\n",
        "import torch\n",
        "import torch.nn as nn\n",
        "class LR(nn.Module):\n",
        "     #using inheritance\n",
        "     #creating constructor\n",
        "     def __init__(self, input_size, output_size):\n",
        "       super().__init__()\n",
        "       self.linear = nn.Linear(input_size, output_size)\n",
        "     def forward(self,x):\n",
        "       \n",
        "       pred = self.linear(x)\n",
        "       return pred\n",
        "\n",
        "torch.manual_seed(5)\n",
        "model = LR(1,1)\n",
        "print(list(model.parameters()))\n",
        "\n",
        "x = torch.tensor([[2.0], [3.3], [4.2]])\n",
        "print(model.forward(x))"
      ],
      "execution_count": 746,
      "outputs": [
        {
          "output_type": "stream",
          "text": [
            "[Parameter containing:\n",
            "tensor([[0.6605]], requires_grad=True), Parameter containing:\n",
            "tensor([-0.7478], requires_grad=True)]\n",
            "tensor([[0.5732],\n",
            "        [1.4319],\n",
            "        [2.0263]], grad_fn=<AddmmBackward>)\n"
          ],
          "name": "stdout"
        }
      ]
    },
    {
      "cell_type": "code",
      "metadata": {
        "colab": {
          "base_uri": "https://localhost:8080/",
          "height": 296
        },
        "id": "hdarT_VIHI_T",
        "outputId": "0aa41b12-b42d-4c05-c453-20bb3b44997a"
      },
      "source": [
        "import matplotlib.pyplot as plt\n",
        "\n",
        "x = torch.randn(100, 1)*10\n",
        "y = x + torch.randn(100, 1)*3\n",
        "plt.plot(x.numpy(), y.numpy(), \"*\")\n",
        "plt.ylabel(\"y - values\")\n",
        "plt.xlabel(\"x - values\")"
      ],
      "execution_count": 747,
      "outputs": [
        {
          "output_type": "execute_result",
          "data": {
            "text/plain": [
              "Text(0.5, 0, 'x - values')"
            ]
          },
          "metadata": {
            "tags": []
          },
          "execution_count": 747
        },
        {
          "output_type": "display_data",
          "data": {
            "image/png": "[encoded data removed]",
            "text/plain": [
              "<Figure size 432x288 with 1 Axes>"
            ]
          },
          "metadata": {
            "tags": [],
            "needs_background": "light"
          }
        }
      ]
    },
    {
      "cell_type": "code",
      "metadata": {
        "colab": {
          "base_uri": "https://localhost:8080/"
        },
        "id": "NWyxVD8_K9Pp",
        "outputId": "29340f88-a510-4e9c-e862-44087aebdfa5"
      },
      "source": [
        "\n",
        "torch.manual_seed(5)\n",
        "model = LR(1,1)\n",
        "print(model)\n",
        "[w, b] = model.parameters()\n",
        "print(w, b)"
      ],
      "execution_count": 748,
      "outputs": [
        {
          "output_type": "stream",
          "text": [
            "LR(\n",
            "  (linear): Linear(in_features=1, out_features=1, bias=True)\n",
            ")\n",
            "Parameter containing:\n",
            "tensor([[0.6605]], requires_grad=True) Parameter containing:\n",
            "tensor([-0.7478], requires_grad=True)\n"
          ],
          "name": "stdout"
        }
      ]
    },
    {
      "cell_type": "code",
      "metadata": {
        "colab": {
          "base_uri": "https://localhost:8080/"
        },
        "id": "hp9fcaNmMS_U",
        "outputId": "78b94ba4-5389-41db-c4bc-177ba8a95f7f"
      },
      "source": [
        "w1 = w[0][0].item()\n",
        "b1 = b[0].item()\n",
        "print(w1, b1)"
      ],
      "execution_count": 749,
      "outputs": [
        {
          "output_type": "stream",
          "text": [
            "0.6605037450790405 -0.7477781772613525\n"
          ],
          "name": "stdout"
        }
      ]
    },
    {
      "cell_type": "code",
      "metadata": {
        "id": "GP1OFwOQMqN6"
      },
      "source": [
        "# creating function\n",
        "def get_params():\n",
        "  return (w[0][0].item(), b[0].item())\n",
        "\n",
        "def plot_fit(title):\n",
        "  plt.title = title\n",
        "  w1, b1 = get_params()\n",
        "  x1 = np.array([-30, 30]) \n",
        "  y1 = w1*x1 + b1\n",
        "  plt.plot(x1, y1, \"r\")\n",
        "  plt.scatter(x, y)\n",
        "  plt.show()"
      ],
      "execution_count": 750,
      "outputs": []
    },
    {
      "cell_type": "code",
      "metadata": {
        "colab": {
          "base_uri": "https://localhost:8080/",
          "height": 265
        },
        "id": "wh-hgJxtObXG",
        "outputId": "f76578f6-6824-4c5e-a949-587606c0fba1"
      },
      "source": [
        "plot_fit(\"first/Initial model\")"
      ],
      "execution_count": 751,
      "outputs": [
        {
          "output_type": "display_data",
          "data": {
            "image/png": "[encoded data removed]",
            "text/plain": [
              "<Figure size 432x288 with 1 Axes>"
            ]
          },
          "metadata": {
            "tags": [],
            "needs_background": "light"
          }
        }
      ]
    },
    {
      "cell_type": "code",
      "metadata": {
        "id": "-FYYLCHDO2IX"
      },
      "source": [
        ""
      ],
      "execution_count": 751,
      "outputs": []
    },
    {
      "cell_type": "markdown",
      "metadata": {
        "id": "yXK8SXKJQEV_"
      },
      "source": [
        "## loss function and gradient descent"
      ]
    },
    {
      "cell_type": "markdown",
      "metadata": {
        "id": "X0LCf8qbSHZ2"
      },
      "source": [
        "First we compute the derrivative of loss function then\n",
        "subtract the current weight value of the line.\n",
        "\n",
        "Whatever that wt may be, this will give the gradient value f'(w)\n"
      ]
    },
    {
      "cell_type": "markdown",
      "metadata": {
        "id": "tfMsrsziS2tU"
      },
      "source": [
        "w1 = w0 - f'(w)\n",
        "\n",
        "By this we have new updated weights, which results into smaler error.\n",
        "\n",
        "On keep iterating we reach to the optimal solution/ parametrs for our model to fit the data"
      ]
    },
    {
      "cell_type": "markdown",
      "metadata": {
        "id": "DWq3yRReTdSP"
      },
      "source": [
        "the steps should be small so multiplying it with a smaller value which is n\n",
        "known as learning rate."
      ]
    },
    {
      "cell_type": "code",
      "metadata": {
        "id": "dmce6ab1QYL5"
      },
      "source": [
        "#training code and implementation\n",
        "\n",
        "criterion = nn.MSELoss()\n",
        "optimizer = torch.optim.SGD(model.parameters(), lr = 0.001)"
      ],
      "execution_count": 752,
      "outputs": []
    },
    {
      "cell_type": "code",
      "metadata": {
        "colab": {
          "base_uri": "https://localhost:8080/"
        },
        "id": "5kWjLj3YVIb3",
        "outputId": "da101e7a-a468-4c4c-ad54-fd991e8e342e"
      },
      "source": [
        "epochs = 20\n",
        "losses = []\n",
        "for i in range(epochs):\n",
        "  y_pred = model.forward(x)\n",
        "  loss = criterion(y_pred, y)\n",
        "  print(\"epoch:\", i, \"loss:\", loss.item())\n",
        "  losses.append(loss)\n",
        "  optimizer.zero_grad()\n",
        "  loss.backward()\n",
        "  optimizer.step()\n"
      ],
      "execution_count": 753,
      "outputs": [
        {
          "output_type": "stream",
          "text": [
            "epoch: 0 loss: 27.122480392456055\n",
            "epoch: 1 loss: 19.888689041137695\n",
            "epoch: 2 loss: 15.629812240600586\n",
            "epoch: 3 loss: 13.121994972229004\n",
            "epoch: 4 loss: 11.644871711730957\n",
            "epoch: 5 loss: 10.77442741394043\n",
            "epoch: 6 loss: 10.261083602905273\n",
            "epoch: 7 loss: 9.957934379577637\n",
            "epoch: 8 loss: 9.77851390838623\n",
            "epoch: 9 loss: 9.67192268371582\n",
            "epoch: 10 loss: 9.608203887939453\n",
            "epoch: 11 loss: 9.569725036621094\n",
            "epoch: 12 loss: 9.546104431152344\n",
            "epoch: 13 loss: 9.53123664855957\n",
            "epoch: 14 loss: 9.521520614624023\n",
            "epoch: 15 loss: 9.51484489440918\n",
            "epoch: 16 loss: 9.509960174560547\n",
            "epoch: 17 loss: 9.506134033203125\n",
            "epoch: 18 loss: 9.502934455871582\n",
            "epoch: 19 loss: 9.500107765197754\n"
          ],
          "name": "stdout"
        }
      ]
    },
    {
      "cell_type": "code",
      "metadata": {
        "colab": {
          "base_uri": "https://localhost:8080/",
          "height": 296
        },
        "id": "ST98rC9SXkZq",
        "outputId": "c7d84e9d-e425-4add-9439-e5e9e89357f3"
      },
      "source": [
        "plt.plot(range(epochs), losses)\n",
        "plt.ylabel(\"loss\")\n",
        "plt.xlabel(\"epoch\")\n",
        "#plt.title(\"calculating loss per epoch\")"
      ],
      "execution_count": 754,
      "outputs": [
        {
          "output_type": "execute_result",
          "data": {
            "text/plain": [
              "Text(0.5, 0, 'epoch')"
            ]
          },
          "metadata": {
            "tags": []
          },
          "execution_count": 754
        },
        {
          "output_type": "display_data",
          "data": {
            "image/png": "[encoded data removed]",
            "text/plain": [
              "<Figure size 432x288 with 1 Axes>"
            ]
          },
          "metadata": {
            "tags": [],
            "needs_background": "light"
          }
        }
      ]
    },
    {
      "cell_type": "code",
      "metadata": {
        "colab": {
          "base_uri": "https://localhost:8080/",
          "height": 265
        },
        "id": "McHMDUBRZI0n",
        "outputId": "acf19b7f-27c7-4987-bad5-e1f8eb8bdbfe"
      },
      "source": [
        "plot_fit(\"trained mOdel\")"
      ],
      "execution_count": 755,
      "outputs": [
        {
          "output_type": "display_data",
          "data": {
            "image/png": "[encoded data removed]",
            "text/plain": [
              "<Figure size 432x288 with 1 Axes>"
            ]
          },
          "metadata": {
            "tags": [],
            "needs_background": "light"
          }
        }
      ]
    },
    {
      "cell_type": "code",
      "metadata": {
        "id": "PhPSCAV1Z6rX"
      },
      "source": [
        ""
      ],
      "execution_count": 755,
      "outputs": []
    },
    {
      "cell_type": "markdown",
      "metadata": {
        "id": "uZpAbHqDcGIc"
      },
      "source": [
        "# Perceptron Model\n"
      ]
    },
    {
      "cell_type": "code",
      "metadata": {
        "id": "ZNQhz-HrcOw7"
      },
      "source": [
        "import torch \n",
        "import torch.nn as nn\n",
        "import numpy as np\n",
        "import matplotlib.pyplot as plt\n",
        "from sklearn import datasets"
      ],
      "execution_count": 756,
      "outputs": []
    },
    {
      "cell_type": "code",
      "metadata": {
        "colab": {
          "base_uri": "https://localhost:8080/"
        },
        "id": "hE5mjkU-vI5g",
        "outputId": "4cf1a238-e466-48fd-9119-6110d8a4d085"
      },
      "source": [
        "#creating datasets\n",
        "n_pts = 100\n",
        "centres = [[-0.5, 0.5], [0.5, -0.5]]\n",
        "\n",
        "x, y = datasets.make_blobs(n_samples=n_pts, random_state=123, centers=centres, cluster_std=0.4)\n",
        "print(x)\n",
        "print(y)"
      ],
      "execution_count": 757,
      "outputs": [
        {
          "output_type": "stream",
          "text": [
            "[[-0.13715792 -0.07147228]\n",
            " [ 0.80437976 -0.37061246]\n",
            " [-0.60224775 -0.61943564]\n",
            " [ 0.57087693 -0.5119872 ]\n",
            " [ 0.0063745   0.15330384]\n",
            " [-0.87433355  0.97033162]\n",
            " [ 0.19742512 -0.37132537]\n",
            " [-0.6340043   0.91244578]\n",
            " [-0.48180397  0.40676318]\n",
            " [ 0.19748489  0.18077491]\n",
            " [-0.62590326  0.06563904]\n",
            " [-0.31262435  0.16753801]\n",
            " [-0.1085056   1.39525734]\n",
            " [ 0.09825765  0.92775707]\n",
            " [-0.36456438  0.4952678 ]\n",
            " [ 0.75682188 -1.29115517]\n",
            " [ 0.33484534  0.56577649]\n",
            " [-0.66134642  0.44958817]\n",
            " [ 0.34335208 -0.44400876]\n",
            " [-0.42758595  0.97114478]\n",
            " [-0.09837844  0.65447456]\n",
            " [ 0.45694611  0.66516486]\n",
            " [-0.12901503  0.43054573]\n",
            " [ 0.67045866 -1.1421639 ]\n",
            " [ 0.82493653 -0.30010394]\n",
            " [ 0.72261948 -0.58483205]\n",
            " [-0.49886163  0.77528908]\n",
            " [-0.03991778 -0.00694082]\n",
            " [ 1.05814117 -0.64357437]\n",
            " [ 0.60152659 -0.38650986]\n",
            " [ 0.57181979 -1.24479028]\n",
            " [-0.20505257  1.09629281]\n",
            " [ 1.14347639 -0.60809296]\n",
            " [-0.97932046  0.57980963]\n",
            " [ 0.20367449 -0.4708371 ]\n",
            " [-0.79298479  0.01499075]\n",
            " [ 0.5081264  -0.57758555]\n",
            " [-1.00155227  0.2448994 ]\n",
            " [ 0.53169081 -0.60975863]\n",
            " [-0.83500669 -0.1423851 ]\n",
            " [ 0.164381    0.82292327]\n",
            " [ 0.28043183 -0.89122308]\n",
            " [ 0.90509562 -0.38850366]\n",
            " [ 0.00209495  0.22445241]\n",
            " [ 0.38237203  1.37471444]\n",
            " [ 0.38968559 -0.72084323]\n",
            " [ 0.40413249 -0.44267691]\n",
            " [ 0.68973892 -0.72556957]\n",
            " [-0.14371744  1.20195447]\n",
            " [ 0.57983284 -0.55044711]\n",
            " [ 0.66123438  0.08877175]\n",
            " [ 0.55361072 -0.21821037]\n",
            " [-0.34823976  0.34832943]\n",
            " [-0.77155446  0.46211641]\n",
            " [ 0.28041796  0.22238804]\n",
            " [ 0.68250836  0.11781778]\n",
            " [-1.01763413  0.08448472]\n",
            " [-0.82214661 -0.1910678 ]\n",
            " [ 0.20591322 -0.2995004 ]\n",
            " [-0.03511838  0.06111878]\n",
            " [-0.93382716 -0.04538862]\n",
            " [ 0.57880757 -1.792422  ]\n",
            " [ 0.08040333 -0.53004824]\n",
            " [ 1.10754625 -0.64160005]\n",
            " [-0.3868086  -0.10251789]\n",
            " [-1.20861324  0.22004911]\n",
            " [ 0.10107141 -0.94001725]\n",
            " [-0.48812671  0.92772639]\n",
            " [ 0.54829895 -0.20071375]\n",
            " [-0.67759278  0.32625949]\n",
            " [ 0.3922826  -0.54434029]\n",
            " [-0.3742912  -0.03050618]\n",
            " [ 1.28376454 -1.31001831]\n",
            " [-0.06475555 -1.25074746]\n",
            " [-0.65635992  0.72952234]\n",
            " [ 0.62295369 -0.74449014]\n",
            " [-0.80908349  0.81794507]\n",
            " [ 1.05090299 -0.55727039]\n",
            " [ 0.32892816 -0.00285218]\n",
            " [ 0.06691962  0.82289461]\n",
            " [ 0.76626138 -0.85936918]\n",
            " [-0.55602749  0.15529804]\n",
            " [-0.7314401   1.16057461]\n",
            " [ 1.10946551 -0.93801058]\n",
            " [ 0.49014961 -0.48634315]\n",
            " [ 0.36349531 -0.5871785 ]\n",
            " [ 0.28054315 -1.52282184]\n",
            " [-0.93425224  0.89893818]\n",
            " [-1.4706717   0.32843495]\n",
            " [ 0.78490585  0.53932157]\n",
            " [ 0.17062744 -0.44791402]\n",
            " [ 0.72154247 -0.71226982]\n",
            " [ 0.09213797 -0.43282308]\n",
            " [ 1.00691946 -0.36689401]\n",
            " [ 0.53738433  0.08383571]\n",
            " [ 0.09655585  0.2444392 ]\n",
            " [-0.04837939 -0.63299011]\n",
            " [-0.85181454  0.61345093]\n",
            " [ 0.35807022 -0.3433663 ]\n",
            " [-1.34924014  0.91589084]]\n",
            "[0 1 0 1 0 0 1 0 0 0 0 0 0 0 0 1 0 0 1 0 0 0 0 1 1 1 0 0 1 1 1 0 1 0 1 0 1\n",
            " 0 1 0 0 1 1 0 0 1 1 1 0 1 1 1 0 0 1 1 0 0 1 0 0 1 1 1 0 0 1 0 1 0 1 0 1 1\n",
            " 0 1 0 1 1 0 1 0 0 1 1 1 1 0 0 1 1 1 1 1 1 0 1 0 1 0]\n"
          ],
          "name": "stdout"
        }
      ]
    },
    {
      "cell_type": "code",
      "metadata": {
        "colab": {
          "base_uri": "https://localhost:8080/",
          "height": 283
        },
        "id": "3sNZNLebvx1j",
        "outputId": "d927bc95-bfce-4b80-c647-e0f4de534b03"
      },
      "source": [
        "plt.scatter(x[y==0, 0], x[y==0, 1])\n",
        "plt.scatter(x[y==1, 0], x[y==1, 1])"
      ],
      "execution_count": 758,
      "outputs": [
        {
          "output_type": "execute_result",
          "data": {
            "text/plain": [
              "<matplotlib.collections.PathCollection at 0x7fb8a79b3ad0>"
            ]
          },
          "metadata": {
            "tags": []
          },
          "execution_count": 758
        },
        {
          "output_type": "display_data",
          "data": {
            "image/png": "[encoded data removed]",
            "text/plain": [
              "<Figure size 432x288 with 1 Axes>"
            ]
          },
          "metadata": {
            "tags": [],
            "needs_background": "light"
          }
        }
      ]
    },
    {
      "cell_type": "code",
      "metadata": {
        "id": "2NnLcZCAwSN8"
      },
      "source": [
        "x_data = torch.Tensor(x)\n",
        "y_data = torch.Tensor(y.reshape(100, 1))"
      ],
      "execution_count": 759,
      "outputs": []
    },
    {
      "cell_type": "code",
      "metadata": {
        "id": "CE9VRB21w5j5"
      },
      "source": [
        "class Model(nn.Module):\n",
        "  def __init__(self, input_size, output_size):\n",
        "    super().__init__()   #class inheritance\n",
        "    self.linear = nn.Linear(input_size, output_size)\n",
        "  def forward(self, x):\n",
        "    pred = torch.sigmoid(self.linear(x))\n",
        "    return pred\n",
        "  def predict(self, x):\n",
        "    pred = self.forward(x)\n",
        "    if pred >= 0.5:\n",
        "      return 1\n",
        "    else:\n",
        "      return 0"
      ],
      "execution_count": 760,
      "outputs": []
    },
    {
      "cell_type": "code",
      "metadata": {
        "colab": {
          "base_uri": "https://localhost:8080/"
        },
        "id": "WTgU5Rokz5Z8",
        "outputId": "3d2118b5-e294-4097-aa29-b9029775214d"
      },
      "source": [
        "torch.manual_seed(2)\n",
        "model = Model(2,1)\n",
        "print(list(model.parameters()))"
      ],
      "execution_count": 761,
      "outputs": [
        {
          "output_type": "stream",
          "text": [
            "[Parameter containing:\n",
            "tensor([[ 0.1622, -0.1683]], requires_grad=True), Parameter containing:\n",
            "tensor([0.1939], requires_grad=True)]\n"
          ],
          "name": "stdout"
        }
      ]
    },
    {
      "cell_type": "code",
      "metadata": {
        "colab": {
          "base_uri": "https://localhost:8080/"
        },
        "id": "GJJaEkkk0MSP",
        "outputId": "0bf0b7e6-147e-4940-ad33-b6606f579211"
      },
      "source": [
        "[w, b] = model.parameters()\n",
        "w1, w2 = w.view(2)\n",
        "b1 = b[0]\n",
        "print(w1.item(), w2.item(), b1.item())"
      ],
      "execution_count": 762,
      "outputs": [
        {
          "output_type": "stream",
          "text": [
            "0.1622033268213272 -0.1682732254266739 0.1939089596271515\n"
          ],
          "name": "stdout"
        }
      ]
    },
    {
      "cell_type": "code",
      "metadata": {
        "id": "nmNkl8BV04hn"
      },
      "source": [
        "def get_params():\n",
        "  return (w1.item(), w2.item(), b[0].item())\n",
        "\n",
        "def plot_fit(title):\n",
        "  plt.title = title\n",
        "  w1, w2, b1 = get_params()\n",
        "  x1 = np.array([-2.0, 2.0])\n",
        "  #0 =w1x1 + y2x2 + b\n",
        "  x2 = (w1*x1 + b1)/-w2\n",
        "  plt.plot(x1, x2, \"g\")\n",
        "  scatter_plot()\n",
        "\n",
        "def scatter_plot():\n",
        "  plt.scatter(x[y==0, 0], x[y==0, 1])\n",
        "  plt.scatter(x[y==1, 0], x[y==1, 1])"
      ],
      "execution_count": 763,
      "outputs": []
    },
    {
      "cell_type": "code",
      "metadata": {
        "colab": {
          "base_uri": "https://localhost:8080/",
          "height": 265
        },
        "id": "Sv--Qv1Q1NiN",
        "outputId": "e347da84-86d0-474a-dcf2-fc4ab9b4f854"
      },
      "source": [
        "plot_fit(\"initial model\")"
      ],
      "execution_count": 764,
      "outputs": [
        {
          "output_type": "display_data",
          "data": {
            "image/png": "[encoded data removed]",
            "text/plain": [
              "<Figure size 432x288 with 1 Axes>"
            ]
          },
          "metadata": {
            "tags": [],
            "needs_background": "light"
          }
        }
      ]
    },
    {
      "cell_type": "code",
      "metadata": {
        "id": "7x9zOgoA2tho"
      },
      "source": [
        "#training code and implementation\n",
        "\n",
        "criterion = nn.BCELoss()\n",
        "optimizer = torch.optim.SGD(model.parameters(), lr = 0.01)"
      ],
      "execution_count": 765,
      "outputs": []
    },
    {
      "cell_type": "code",
      "metadata": {
        "colab": {
          "base_uri": "https://localhost:8080/"
        },
        "id": "VHqYUPNC30Z5",
        "outputId": "67c5d5e1-618c-409e-89f3-f61b49b1ae5c"
      },
      "source": [
        "epochs = 3000\n",
        "losses = []\n",
        "for i in range(epochs):\n",
        "  y_pred = model.forward(x_data)\n",
        "  loss = criterion(y_pred, y_data)\n",
        "  print(\"epoch:\", i, \"loss:\", loss.item())\n",
        "  losses.append(loss.item())\n",
        "  optimizer.zero_grad()    #setting gradient to zero\n",
        "  loss.backward()\n",
        "  optimizer.step()"
      ],
      "execution_count": 766,
      "outputs": [
        {
          "output_type": "stream",
          "text": [
            "epoch: 0 loss: 0.6185115575790405\n",
            "epoch: 1 loss: 0.617464005947113\n",
            "epoch: 2 loss: 0.6164200305938721\n",
            "epoch: 3 loss: 0.6153795123100281\n",
            "epoch: 4 loss: 0.6143423318862915\n",
            "epoch: 5 loss: 0.6133086681365967\n",
            "epoch: 6 loss: 0.612278401851654\n",
            "epoch: 7 loss: 0.6112514734268188\n",
            "epoch: 8 loss: 0.6102280020713806\n",
            "epoch: 9 loss: 0.6092078685760498\n",
            "epoch: 10 loss: 0.6081911325454712\n",
            "epoch: 11 loss: 0.607177734375\n",
            "epoch: 12 loss: 0.6061676740646362\n",
            "epoch: 13 loss: 0.6051609516143799\n",
            "epoch: 14 loss: 0.604157567024231\n",
            "epoch: 15 loss: 0.6031573414802551\n",
            "epoch: 16 loss: 0.6021605730056763\n",
            "epoch: 17 loss: 0.6011670231819153\n",
            "epoch: 18 loss: 0.6001767516136169\n",
            "epoch: 19 loss: 0.5991896986961365\n",
            "epoch: 20 loss: 0.5982059240341187\n",
            "epoch: 21 loss: 0.5972253680229187\n",
            "epoch: 22 loss: 0.5962480306625366\n",
            "epoch: 23 loss: 0.5952739119529724\n",
            "epoch: 24 loss: 0.5943029522895813\n",
            "epoch: 25 loss: 0.5933352112770081\n",
            "epoch: 26 loss: 0.5923706293106079\n",
            "epoch: 27 loss: 0.5914091467857361\n",
            "epoch: 28 loss: 0.5904508233070374\n",
            "epoch: 29 loss: 0.5894956588745117\n",
            "epoch: 30 loss: 0.5885436534881592\n",
            "epoch: 31 loss: 0.5875946879386902\n",
            "epoch: 32 loss: 0.5866488814353943\n",
            "epoch: 33 loss: 0.5857061147689819\n",
            "epoch: 34 loss: 0.5847663879394531\n",
            "epoch: 35 loss: 0.5838298201560974\n",
            "epoch: 36 loss: 0.5828961730003357\n",
            "epoch: 37 loss: 0.5819656848907471\n",
            "epoch: 38 loss: 0.5810381174087524\n",
            "epoch: 39 loss: 0.5801136493682861\n",
            "epoch: 40 loss: 0.5791921615600586\n",
            "epoch: 41 loss: 0.5782736539840698\n",
            "epoch: 42 loss: 0.5773581266403198\n",
            "epoch: 43 loss: 0.5764455795288086\n",
            "epoch: 44 loss: 0.5755360126495361\n",
            "epoch: 45 loss: 0.5746293067932129\n",
            "epoch: 46 loss: 0.5737256407737732\n",
            "epoch: 47 loss: 0.5728247761726379\n",
            "epoch: 48 loss: 0.5719269514083862\n",
            "epoch: 49 loss: 0.571031928062439\n",
            "epoch: 50 loss: 0.5701398253440857\n",
            "epoch: 51 loss: 0.5692507028579712\n",
            "epoch: 52 loss: 0.5683643221855164\n",
            "epoch: 53 loss: 0.5674808621406555\n",
            "epoch: 54 loss: 0.5666002035140991\n",
            "epoch: 55 loss: 0.5657224059104919\n",
            "epoch: 56 loss: 0.5648473501205444\n",
            "epoch: 57 loss: 0.5639752149581909\n",
            "epoch: 58 loss: 0.5631058216094971\n",
            "epoch: 59 loss: 0.5622392892837524\n",
            "epoch: 60 loss: 0.5613754391670227\n",
            "epoch: 61 loss: 0.5605144500732422\n",
            "epoch: 62 loss: 0.5596561431884766\n",
            "epoch: 63 loss: 0.5588005781173706\n",
            "epoch: 64 loss: 0.5579478740692139\n",
            "epoch: 65 loss: 0.5570976734161377\n",
            "epoch: 66 loss: 0.5562503933906555\n",
            "epoch: 67 loss: 0.5554057359695435\n",
            "epoch: 68 loss: 0.5545638203620911\n",
            "epoch: 69 loss: 0.5537245273590088\n",
            "epoch: 70 loss: 0.5528878569602966\n",
            "epoch: 71 loss: 0.5520539879798889\n",
            "epoch: 72 loss: 0.5512226223945618\n",
            "epoch: 73 loss: 0.5503940582275391\n",
            "epoch: 74 loss: 0.5495679974555969\n",
            "epoch: 75 loss: 0.5487446784973145\n",
            "epoch: 76 loss: 0.5479238033294678\n",
            "epoch: 77 loss: 0.5471057295799255\n",
            "epoch: 78 loss: 0.5462901592254639\n",
            "epoch: 79 loss: 0.5454770922660828\n",
            "epoch: 80 loss: 0.5446667075157166\n",
            "epoch: 81 loss: 0.5438588261604309\n",
            "epoch: 82 loss: 0.5430534482002258\n",
            "epoch: 83 loss: 0.5422506928443909\n",
            "epoch: 84 loss: 0.5414504408836365\n",
            "epoch: 85 loss: 0.5406526923179626\n",
            "epoch: 86 loss: 0.5398575663566589\n",
            "epoch: 87 loss: 0.5390648245811462\n",
            "epoch: 88 loss: 0.5382745862007141\n",
            "epoch: 89 loss: 0.5374868512153625\n",
            "epoch: 90 loss: 0.5367015600204468\n",
            "epoch: 91 loss: 0.5359187722206116\n",
            "epoch: 92 loss: 0.5351384282112122\n",
            "epoch: 93 loss: 0.5343605875968933\n",
            "epoch: 94 loss: 0.5335850119590759\n",
            "epoch: 95 loss: 0.5328119397163391\n",
            "epoch: 96 loss: 0.5320413708686829\n",
            "epoch: 97 loss: 0.5312731266021729\n",
            "epoch: 98 loss: 0.5305072665214539\n",
            "epoch: 99 loss: 0.5297437906265259\n",
            "epoch: 100 loss: 0.5289827585220337\n",
            "epoch: 101 loss: 0.5282240509986877\n",
            "epoch: 102 loss: 0.527467668056488\n",
            "epoch: 103 loss: 0.5267137289047241\n",
            "epoch: 104 loss: 0.5259620547294617\n",
            "epoch: 105 loss: 0.5252126455307007\n",
            "epoch: 106 loss: 0.5244657397270203\n",
            "epoch: 107 loss: 0.523720920085907\n",
            "epoch: 108 loss: 0.5229786038398743\n",
            "epoch: 109 loss: 0.5222384929656982\n",
            "epoch: 110 loss: 0.5215007066726685\n",
            "epoch: 111 loss: 0.5207651257514954\n",
            "epoch: 112 loss: 0.5200318694114685\n",
            "epoch: 113 loss: 0.5193008184432983\n",
            "epoch: 114 loss: 0.5185720920562744\n",
            "epoch: 115 loss: 0.5178455710411072\n",
            "epoch: 116 loss: 0.5171213150024414\n",
            "epoch: 117 loss: 0.5163992047309875\n",
            "epoch: 118 loss: 0.5156793594360352\n",
            "epoch: 119 loss: 0.5149617195129395\n",
            "epoch: 120 loss: 0.5142462253570557\n",
            "epoch: 121 loss: 0.5135329961776733\n",
            "epoch: 122 loss: 0.5128219723701477\n",
            "epoch: 123 loss: 0.5121130347251892\n",
            "epoch: 124 loss: 0.5114063024520874\n",
            "epoch: 125 loss: 0.5107016563415527\n",
            "epoch: 126 loss: 0.5099992156028748\n",
            "epoch: 127 loss: 0.5092989206314087\n",
            "epoch: 128 loss: 0.5086007118225098\n",
            "epoch: 129 loss: 0.5079046487808228\n",
            "epoch: 130 loss: 0.5072107315063477\n",
            "epoch: 131 loss: 0.5065189003944397\n",
            "epoch: 132 loss: 0.5058291554450989\n",
            "epoch: 133 loss: 0.5051414966583252\n",
            "epoch: 134 loss: 0.5044558644294739\n",
            "epoch: 135 loss: 0.5037723779678345\n",
            "epoch: 136 loss: 0.5030909776687622\n",
            "epoch: 137 loss: 0.5024115443229675\n",
            "epoch: 138 loss: 0.5017342567443848\n",
            "epoch: 139 loss: 0.5010589361190796\n",
            "epoch: 140 loss: 0.5003856420516968\n",
            "epoch: 141 loss: 0.49971434473991394\n",
            "epoch: 142 loss: 0.49904510378837585\n",
            "epoch: 143 loss: 0.4983779489994049\n",
            "epoch: 144 loss: 0.4977127015590668\n",
            "epoch: 145 loss: 0.4970495104789734\n",
            "epoch: 146 loss: 0.4963882565498352\n",
            "epoch: 147 loss: 0.49572888016700745\n",
            "epoch: 148 loss: 0.4950716495513916\n",
            "epoch: 149 loss: 0.4944162666797638\n",
            "epoch: 150 loss: 0.49376288056373596\n",
            "epoch: 151 loss: 0.49311143159866333\n",
            "epoch: 152 loss: 0.4924618899822235\n",
            "epoch: 153 loss: 0.4918143153190613\n",
            "epoch: 154 loss: 0.4911686182022095\n",
            "epoch: 155 loss: 0.49052494764328003\n",
            "epoch: 156 loss: 0.48988306522369385\n",
            "epoch: 157 loss: 0.48924314975738525\n",
            "epoch: 158 loss: 0.4886050820350647\n",
            "epoch: 159 loss: 0.48796895146369934\n",
            "epoch: 160 loss: 0.487334668636322\n",
            "epoch: 161 loss: 0.4867022633552551\n",
            "epoch: 162 loss: 0.48607173562049866\n",
            "epoch: 163 loss: 0.48544299602508545\n",
            "epoch: 164 loss: 0.48481616377830505\n",
            "epoch: 165 loss: 0.4841912090778351\n",
            "epoch: 166 loss: 0.483568012714386\n",
            "epoch: 167 loss: 0.48294663429260254\n",
            "epoch: 168 loss: 0.48232710361480713\n",
            "epoch: 169 loss: 0.48170945048332214\n",
            "epoch: 170 loss: 0.48109352588653564\n",
            "epoch: 171 loss: 0.4804794192314148\n",
            "epoch: 172 loss: 0.4798671007156372\n",
            "epoch: 173 loss: 0.47925660014152527\n",
            "epoch: 174 loss: 0.4786478281021118\n",
            "epoch: 175 loss: 0.4780409336090088\n",
            "epoch: 176 loss: 0.4774356484413147\n",
            "epoch: 177 loss: 0.47683221101760864\n",
            "epoch: 178 loss: 0.47623053193092346\n",
            "epoch: 179 loss: 0.47563058137893677\n",
            "epoch: 180 loss: 0.4750322997570038\n",
            "epoch: 181 loss: 0.47443583607673645\n",
            "epoch: 182 loss: 0.4738410711288452\n",
            "epoch: 183 loss: 0.47324803471565247\n",
            "epoch: 184 loss: 0.4726566970348358\n",
            "epoch: 185 loss: 0.4720670282840729\n",
            "epoch: 186 loss: 0.4714791178703308\n",
            "epoch: 187 loss: 0.4708928167819977\n",
            "epoch: 188 loss: 0.4703083336353302\n",
            "epoch: 189 loss: 0.46972543001174927\n",
            "epoch: 190 loss: 0.46914422512054443\n",
            "epoch: 191 loss: 0.46856462955474854\n",
            "epoch: 192 loss: 0.4679867923259735\n",
            "epoch: 193 loss: 0.46741050481796265\n",
            "epoch: 194 loss: 0.46683600544929504\n",
            "epoch: 195 loss: 0.4662629961967468\n",
            "epoch: 196 loss: 0.4656916856765747\n",
            "epoch: 197 loss: 0.4651219844818115\n",
            "epoch: 198 loss: 0.46455392241477966\n",
            "epoch: 199 loss: 0.46398743987083435\n",
            "epoch: 200 loss: 0.46342259645462036\n",
            "epoch: 201 loss: 0.4628593325614929\n",
            "epoch: 202 loss: 0.4622976779937744\n",
            "epoch: 203 loss: 0.46173763275146484\n",
            "epoch: 204 loss: 0.4611791670322418\n",
            "epoch: 205 loss: 0.46062225103378296\n",
            "epoch: 206 loss: 0.46006691455841064\n",
            "epoch: 207 loss: 0.4595131278038025\n",
            "epoch: 208 loss: 0.45896103978157043\n",
            "epoch: 209 loss: 0.4584102928638458\n",
            "epoch: 210 loss: 0.45786118507385254\n",
            "epoch: 211 loss: 0.4573136270046234\n",
            "epoch: 212 loss: 0.45676761865615845\n",
            "epoch: 213 loss: 0.4562230706214905\n",
            "epoch: 214 loss: 0.45568016171455383\n",
            "epoch: 215 loss: 0.4551386535167694\n",
            "epoch: 216 loss: 0.45459869503974915\n",
            "epoch: 217 loss: 0.45406028628349304\n",
            "epoch: 218 loss: 0.4535233676433563\n",
            "epoch: 219 loss: 0.4529878497123718\n",
            "epoch: 220 loss: 0.45245397090911865\n",
            "epoch: 221 loss: 0.4519214928150177\n",
            "epoch: 222 loss: 0.45139050483703613\n",
            "epoch: 223 loss: 0.45086097717285156\n",
            "epoch: 224 loss: 0.450332909822464\n",
            "epoch: 225 loss: 0.4498063325881958\n",
            "epoch: 226 loss: 0.44928115606307983\n",
            "epoch: 227 loss: 0.44875746965408325\n",
            "epoch: 228 loss: 0.44823533296585083\n",
            "epoch: 229 loss: 0.4477144181728363\n",
            "epoch: 230 loss: 0.4471950829029083\n",
            "epoch: 231 loss: 0.4466771185398102\n",
            "epoch: 232 loss: 0.44616058468818665\n",
            "epoch: 233 loss: 0.4456455111503601\n",
            "epoch: 234 loss: 0.4451318681240082\n",
            "epoch: 235 loss: 0.4446195960044861\n",
            "epoch: 236 loss: 0.4441087245941162\n",
            "epoch: 237 loss: 0.4435991942882538\n",
            "epoch: 238 loss: 0.44309109449386597\n",
            "epoch: 239 loss: 0.44258442521095276\n",
            "epoch: 240 loss: 0.442079097032547\n",
            "epoch: 241 loss: 0.44157516956329346\n",
            "epoch: 242 loss: 0.441072553396225\n",
            "epoch: 243 loss: 0.44057127833366394\n",
            "epoch: 244 loss: 0.4400714933872223\n",
            "epoch: 245 loss: 0.4395729899406433\n",
            "epoch: 246 loss: 0.43907588720321655\n",
            "epoch: 247 loss: 0.4385799765586853\n",
            "epoch: 248 loss: 0.43808552622795105\n",
            "epoch: 249 loss: 0.43759238719940186\n",
            "epoch: 250 loss: 0.43710067868232727\n",
            "epoch: 251 loss: 0.43661007285118103\n",
            "epoch: 252 loss: 0.43612098693847656\n",
            "epoch: 253 loss: 0.43563312292099\n",
            "epoch: 254 loss: 0.43514660000801086\n",
            "epoch: 255 loss: 0.4346613585948944\n",
            "epoch: 256 loss: 0.434177428483963\n",
            "epoch: 257 loss: 0.43369483947753906\n",
            "epoch: 258 loss: 0.433213472366333\n",
            "epoch: 259 loss: 0.4327333867549896\n",
            "epoch: 260 loss: 0.4322546720504761\n",
            "epoch: 261 loss: 0.43177714943885803\n",
            "epoch: 262 loss: 0.4313008785247803\n",
            "epoch: 263 loss: 0.4308259189128876\n",
            "epoch: 264 loss: 0.43035224080085754\n",
            "epoch: 265 loss: 0.4298798441886902\n",
            "epoch: 266 loss: 0.42940858006477356\n",
            "epoch: 267 loss: 0.428938627243042\n",
            "epoch: 268 loss: 0.4284699261188507\n",
            "epoch: 269 loss: 0.4280024766921997\n",
            "epoch: 270 loss: 0.4275362491607666\n",
            "epoch: 271 loss: 0.42707130312919617\n",
            "epoch: 272 loss: 0.42660751938819885\n",
            "epoch: 273 loss: 0.42614495754241943\n",
            "epoch: 274 loss: 0.4256835877895355\n",
            "epoch: 275 loss: 0.4252234995365143\n",
            "epoch: 276 loss: 0.42476460337638855\n",
            "epoch: 277 loss: 0.42430683970451355\n",
            "epoch: 278 loss: 0.42385032773017883\n",
            "epoch: 279 loss: 0.4233950078487396\n",
            "epoch: 280 loss: 0.42294085025787354\n",
            "epoch: 281 loss: 0.42248794436454773\n",
            "epoch: 282 loss: 0.42203617095947266\n",
            "epoch: 283 loss: 0.4215855896472931\n",
            "epoch: 284 loss: 0.4211360812187195\n",
            "epoch: 285 loss: 0.42068785429000854\n",
            "epoch: 286 loss: 0.4202407896518707\n",
            "epoch: 287 loss: 0.41979488730430603\n",
            "epoch: 288 loss: 0.4193500876426697\n",
            "epoch: 289 loss: 0.41890648007392883\n",
            "epoch: 290 loss: 0.4184640049934387\n",
            "epoch: 291 loss: 0.41802266240119934\n",
            "epoch: 292 loss: 0.4175824820995331\n",
            "epoch: 293 loss: 0.41714343428611755\n",
            "epoch: 294 loss: 0.41670548915863037\n",
            "epoch: 295 loss: 0.41626864671707153\n",
            "epoch: 296 loss: 0.4158330261707306\n",
            "epoch: 297 loss: 0.41539841890335083\n",
            "epoch: 298 loss: 0.4149649441242218\n",
            "epoch: 299 loss: 0.4145326316356659\n",
            "epoch: 300 loss: 0.41410142183303833\n",
            "epoch: 301 loss: 0.41367125511169434\n",
            "epoch: 302 loss: 0.4132421910762787\n",
            "epoch: 303 loss: 0.41281428933143616\n",
            "epoch: 304 loss: 0.4123874306678772\n",
            "epoch: 305 loss: 0.4119616746902466\n",
            "epoch: 306 loss: 0.41153693199157715\n",
            "epoch: 307 loss: 0.41111335158348083\n",
            "epoch: 308 loss: 0.4106908142566681\n",
            "epoch: 309 loss: 0.4102693498134613\n",
            "epoch: 310 loss: 0.4098489284515381\n",
            "epoch: 311 loss: 0.4094295799732208\n",
            "epoch: 312 loss: 0.4090113043785095\n",
            "epoch: 313 loss: 0.40859413146972656\n",
            "epoch: 314 loss: 0.40817791223526\n",
            "epoch: 315 loss: 0.4077628254890442\n",
            "epoch: 316 loss: 0.40734875202178955\n",
            "epoch: 317 loss: 0.4069356918334961\n",
            "epoch: 318 loss: 0.4065237045288086\n",
            "epoch: 319 loss: 0.40611276030540466\n",
            "epoch: 320 loss: 0.40570276975631714\n",
            "epoch: 321 loss: 0.40529388189315796\n",
            "epoch: 322 loss: 0.4048859477043152\n",
            "epoch: 323 loss: 0.404479056596756\n",
            "epoch: 324 loss: 0.40407320857048035\n",
            "epoch: 325 loss: 0.4036683142185211\n",
            "epoch: 326 loss: 0.40326449275016785\n",
            "epoch: 327 loss: 0.40286168456077576\n",
            "epoch: 328 loss: 0.4024598300457001\n",
            "epoch: 329 loss: 0.40205901861190796\n",
            "epoch: 330 loss: 0.40165913105010986\n",
            "epoch: 331 loss: 0.40126028656959534\n",
            "epoch: 332 loss: 0.4008623957633972\n",
            "epoch: 333 loss: 0.4004654586315155\n",
            "epoch: 334 loss: 0.40006959438323975\n",
            "epoch: 335 loss: 0.39967459440231323\n",
            "epoch: 336 loss: 0.3992806375026703\n",
            "epoch: 337 loss: 0.39888763427734375\n",
            "epoch: 338 loss: 0.3984955847263336\n",
            "epoch: 339 loss: 0.3981045186519623\n",
            "epoch: 340 loss: 0.39771443605422974\n",
            "epoch: 341 loss: 0.3973252475261688\n",
            "epoch: 342 loss: 0.39693698287010193\n",
            "epoch: 343 loss: 0.3965497612953186\n",
            "epoch: 344 loss: 0.3961634337902069\n",
            "epoch: 345 loss: 0.3957780599594116\n",
            "epoch: 346 loss: 0.39539361000061035\n",
            "epoch: 347 loss: 0.3950101137161255\n",
            "epoch: 348 loss: 0.39462757110595703\n",
            "epoch: 349 loss: 0.3942459225654602\n",
            "epoch: 350 loss: 0.3938651382923126\n",
            "epoch: 351 loss: 0.3934853672981262\n",
            "epoch: 352 loss: 0.3931065499782562\n",
            "epoch: 353 loss: 0.3927285671234131\n",
            "epoch: 354 loss: 0.39235153794288635\n",
            "epoch: 355 loss: 0.39197537302970886\n",
            "epoch: 356 loss: 0.391600102186203\n",
            "epoch: 357 loss: 0.39122578501701355\n",
            "epoch: 358 loss: 0.3908523619174957\n",
            "epoch: 359 loss: 0.3904798626899719\n",
            "epoch: 360 loss: 0.390108197927475\n",
            "epoch: 361 loss: 0.38973742723464966\n",
            "epoch: 362 loss: 0.38936755061149597\n",
            "epoch: 363 loss: 0.3889985680580139\n",
            "epoch: 364 loss: 0.3886304497718811\n",
            "epoch: 365 loss: 0.38826319575309753\n",
            "epoch: 366 loss: 0.38789689540863037\n",
            "epoch: 367 loss: 0.38753142952919006\n",
            "epoch: 368 loss: 0.387166827917099\n",
            "epoch: 369 loss: 0.3868030905723572\n",
            "epoch: 370 loss: 0.3864401876926422\n",
            "epoch: 371 loss: 0.3860781788825989\n",
            "epoch: 372 loss: 0.3857170045375824\n",
            "epoch: 373 loss: 0.38535675406455994\n",
            "epoch: 374 loss: 0.38499727845191956\n",
            "epoch: 375 loss: 0.3846386671066284\n",
            "epoch: 376 loss: 0.3842809200286865\n",
            "epoch: 377 loss: 0.38392403721809387\n",
            "epoch: 378 loss: 0.3835678994655609\n",
            "epoch: 379 loss: 0.38321274518966675\n",
            "epoch: 380 loss: 0.3828582763671875\n",
            "epoch: 381 loss: 0.38250473141670227\n",
            "epoch: 382 loss: 0.3821520209312439\n",
            "epoch: 383 loss: 0.3818000555038452\n",
            "epoch: 384 loss: 0.38144898414611816\n",
            "epoch: 385 loss: 0.3810986578464508\n",
            "epoch: 386 loss: 0.3807491958141327\n",
            "epoch: 387 loss: 0.38040053844451904\n",
            "epoch: 388 loss: 0.38005271553993225\n",
            "epoch: 389 loss: 0.3797056972980499\n",
            "epoch: 390 loss: 0.37935948371887207\n",
            "epoch: 391 loss: 0.37901410460472107\n",
            "epoch: 392 loss: 0.37866947054862976\n",
            "epoch: 393 loss: 0.3783256411552429\n",
            "epoch: 394 loss: 0.37798258662223816\n",
            "epoch: 395 loss: 0.37764036655426025\n",
            "epoch: 396 loss: 0.3772989511489868\n",
            "epoch: 397 loss: 0.37695831060409546\n",
            "epoch: 398 loss: 0.3766184151172638\n",
            "epoch: 399 loss: 0.3762793242931366\n",
            "epoch: 400 loss: 0.37594103813171387\n",
            "epoch: 401 loss: 0.37560349702835083\n",
            "epoch: 402 loss: 0.3752667307853699\n",
            "epoch: 403 loss: 0.37493079900741577\n",
            "epoch: 404 loss: 0.3745955526828766\n",
            "epoch: 405 loss: 0.3742610812187195\n",
            "epoch: 406 loss: 0.37392741441726685\n",
            "epoch: 407 loss: 0.3735944628715515\n",
            "epoch: 408 loss: 0.37326231598854065\n",
            "epoch: 409 loss: 0.3729309141635895\n",
            "epoch: 410 loss: 0.372600257396698\n",
            "epoch: 411 loss: 0.3722703456878662\n",
            "epoch: 412 loss: 0.3719412088394165\n",
            "epoch: 413 loss: 0.3716128170490265\n",
            "epoch: 414 loss: 0.3712851405143738\n",
            "epoch: 415 loss: 0.37095820903778076\n",
            "epoch: 416 loss: 0.3706320524215698\n",
            "epoch: 417 loss: 0.3703066110610962\n",
            "epoch: 418 loss: 0.36998188495635986\n",
            "epoch: 419 loss: 0.3696579337120056\n",
            "epoch: 420 loss: 0.3693346083164215\n",
            "epoch: 421 loss: 0.36901214718818665\n",
            "epoch: 422 loss: 0.3686903417110443\n",
            "epoch: 423 loss: 0.3683692514896393\n",
            "epoch: 424 loss: 0.36804884672164917\n",
            "epoch: 425 loss: 0.3677293062210083\n",
            "epoch: 426 loss: 0.3674103021621704\n",
            "epoch: 427 loss: 0.3670921325683594\n",
            "epoch: 428 loss: 0.3667745888233185\n",
            "epoch: 429 loss: 0.36645781993865967\n",
            "epoch: 430 loss: 0.36614173650741577\n",
            "epoch: 431 loss: 0.3658263683319092\n",
            "epoch: 432 loss: 0.36551162600517273\n",
            "epoch: 433 loss: 0.36519768834114075\n",
            "epoch: 434 loss: 0.3648843765258789\n",
            "epoch: 435 loss: 0.364571750164032\n",
            "epoch: 436 loss: 0.36425986886024475\n",
            "epoch: 437 loss: 0.36394867300987244\n",
            "epoch: 438 loss: 0.36363816261291504\n",
            "epoch: 439 loss: 0.3633282780647278\n",
            "epoch: 440 loss: 0.3630191385746002\n",
            "epoch: 441 loss: 0.3627106547355652\n",
            "epoch: 442 loss: 0.3624028265476227\n",
            "epoch: 443 loss: 0.3620957136154175\n",
            "epoch: 444 loss: 0.3617892861366272\n",
            "epoch: 445 loss: 0.36148348450660706\n",
            "epoch: 446 loss: 0.3611783981323242\n",
            "epoch: 447 loss: 0.3608739376068115\n",
            "epoch: 448 loss: 0.3605702221393585\n",
            "epoch: 449 loss: 0.36026710271835327\n",
            "epoch: 450 loss: 0.35996463894844055\n",
            "epoch: 451 loss: 0.35966286063194275\n",
            "epoch: 452 loss: 0.3593617379665375\n",
            "epoch: 453 loss: 0.35906121134757996\n",
            "epoch: 454 loss: 0.35876137018203735\n",
            "epoch: 455 loss: 0.35846221446990967\n",
            "epoch: 456 loss: 0.3581636846065521\n",
            "epoch: 457 loss: 0.3578657805919647\n",
            "epoch: 458 loss: 0.3575685918331146\n",
            "epoch: 459 loss: 0.3572719693183899\n",
            "epoch: 460 loss: 0.3569760024547577\n",
            "epoch: 461 loss: 0.356680691242218\n",
            "epoch: 462 loss: 0.3563860356807709\n",
            "epoch: 463 loss: 0.3560919463634491\n",
            "epoch: 464 loss: 0.35579854249954224\n",
            "epoch: 465 loss: 0.3555057644844055\n",
            "epoch: 466 loss: 0.35521361231803894\n",
            "epoch: 467 loss: 0.3549220561981201\n",
            "epoch: 468 loss: 0.3546311855316162\n",
            "epoch: 469 loss: 0.35434091091156006\n",
            "epoch: 470 loss: 0.35405123233795166\n",
            "epoch: 471 loss: 0.3537622094154358\n",
            "epoch: 472 loss: 0.3534737527370453\n",
            "epoch: 473 loss: 0.3531859517097473\n",
            "epoch: 474 loss: 0.3528987467288971\n",
            "epoch: 475 loss: 0.35261213779449463\n",
            "epoch: 476 loss: 0.3523261547088623\n",
            "epoch: 477 loss: 0.3520407974720001\n",
            "epoch: 478 loss: 0.3517560064792633\n",
            "epoch: 479 loss: 0.35147181153297424\n",
            "epoch: 480 loss: 0.3511883020401001\n",
            "epoch: 481 loss: 0.35090529918670654\n",
            "epoch: 482 loss: 0.35062289237976074\n",
            "epoch: 483 loss: 0.35034114122390747\n",
            "epoch: 484 loss: 0.35006001591682434\n",
            "epoch: 485 loss: 0.3497793972492218\n",
            "epoch: 486 loss: 0.3494994342327118\n",
            "epoch: 487 loss: 0.3492199778556824\n",
            "epoch: 488 loss: 0.3489411473274231\n",
            "epoch: 489 loss: 0.3486629128456116\n",
            "epoch: 490 loss: 0.3483852446079254\n",
            "epoch: 491 loss: 0.3481081426143646\n",
            "epoch: 492 loss: 0.3478316068649292\n",
            "epoch: 493 loss: 0.3475557267665863\n",
            "epoch: 494 loss: 0.3472804129123688\n",
            "epoch: 495 loss: 0.34700560569763184\n",
            "epoch: 496 loss: 0.34673136472702026\n",
            "epoch: 497 loss: 0.34645774960517883\n",
            "epoch: 498 loss: 0.34618470072746277\n",
            "epoch: 499 loss: 0.34591221809387207\n",
            "epoch: 500 loss: 0.34564027190208435\n",
            "epoch: 501 loss: 0.345368891954422\n",
            "epoch: 502 loss: 0.345098078250885\n",
            "epoch: 503 loss: 0.3448278307914734\n",
            "epoch: 504 loss: 0.34455814957618713\n",
            "epoch: 505 loss: 0.34428897500038147\n",
            "epoch: 506 loss: 0.34402039647102356\n",
            "epoch: 507 loss: 0.34375235438346863\n",
            "epoch: 508 loss: 0.3434848487377167\n",
            "epoch: 509 loss: 0.3432179391384125\n",
            "epoch: 510 loss: 0.34295153617858887\n",
            "epoch: 511 loss: 0.3426856994628906\n",
            "epoch: 512 loss: 0.34242042899131775\n",
            "epoch: 513 loss: 0.34215569496154785\n",
            "epoch: 514 loss: 0.34189140796661377\n",
            "epoch: 515 loss: 0.3416277766227722\n",
            "epoch: 516 loss: 0.34136462211608887\n",
            "epoch: 517 loss: 0.3411020338535309\n",
            "epoch: 518 loss: 0.3408399522304535\n",
            "epoch: 519 loss: 0.34057843685150146\n",
            "epoch: 520 loss: 0.34031742811203003\n",
            "epoch: 521 loss: 0.3400569558143616\n",
            "epoch: 522 loss: 0.3397970199584961\n",
            "epoch: 523 loss: 0.3395375907421112\n",
            "epoch: 524 loss: 0.3392786681652069\n",
            "epoch: 525 loss: 0.339020311832428\n",
            "epoch: 526 loss: 0.33876246213912964\n",
            "epoch: 527 loss: 0.3385051488876343\n",
            "epoch: 528 loss: 0.3382483422756195\n",
            "epoch: 529 loss: 0.33799201250076294\n",
            "epoch: 530 loss: 0.33773624897003174\n",
            "epoch: 531 loss: 0.33748096227645874\n",
            "epoch: 532 loss: 0.3372262120246887\n",
            "epoch: 533 loss: 0.3369719684123993\n",
            "epoch: 534 loss: 0.33671826124191284\n",
            "epoch: 535 loss: 0.3364650309085846\n",
            "epoch: 536 loss: 0.33621227741241455\n",
            "epoch: 537 loss: 0.3359600901603699\n",
            "epoch: 538 loss: 0.335708349943161\n",
            "epoch: 539 loss: 0.33545711636543274\n",
            "epoch: 540 loss: 0.33520641922950745\n",
            "epoch: 541 loss: 0.33495619893074036\n",
            "epoch: 542 loss: 0.33470648527145386\n",
            "epoch: 543 loss: 0.33445724844932556\n",
            "epoch: 544 loss: 0.33420851826667786\n",
            "epoch: 545 loss: 0.3339603543281555\n",
            "epoch: 546 loss: 0.33371254801750183\n",
            "epoch: 547 loss: 0.3334652781486511\n",
            "epoch: 548 loss: 0.3332185447216034\n",
            "epoch: 549 loss: 0.3329722583293915\n",
            "epoch: 550 loss: 0.33272644877433777\n",
            "epoch: 551 loss: 0.33248114585876465\n",
            "epoch: 552 loss: 0.33223631978034973\n",
            "epoch: 553 loss: 0.331991970539093\n",
            "epoch: 554 loss: 0.3317481279373169\n",
            "epoch: 555 loss: 0.3315047025680542\n",
            "epoch: 556 loss: 0.3312617838382721\n",
            "epoch: 557 loss: 0.33101940155029297\n",
            "epoch: 558 loss: 0.3307774066925049\n",
            "epoch: 559 loss: 0.3305358588695526\n",
            "epoch: 560 loss: 0.3302948772907257\n",
            "epoch: 561 loss: 0.33005428314208984\n",
            "epoch: 562 loss: 0.32981422543525696\n",
            "epoch: 563 loss: 0.3295746147632599\n",
            "epoch: 564 loss: 0.329335480928421\n",
            "epoch: 565 loss: 0.3290967643260956\n",
            "epoch: 566 loss: 0.32885855436325073\n",
            "epoch: 567 loss: 0.3286207616329193\n",
            "epoch: 568 loss: 0.3283834755420685\n",
            "epoch: 569 loss: 0.32814663648605347\n",
            "epoch: 570 loss: 0.32791027426719666\n",
            "epoch: 571 loss: 0.32767432928085327\n",
            "epoch: 572 loss: 0.3274388909339905\n",
            "epoch: 573 loss: 0.3272038400173187\n",
            "epoch: 574 loss: 0.3269692659378052\n",
            "epoch: 575 loss: 0.32673513889312744\n",
            "epoch: 576 loss: 0.3265014588832855\n",
            "epoch: 577 loss: 0.3262682259082794\n",
            "epoch: 578 loss: 0.3260354697704315\n",
            "epoch: 579 loss: 0.32580316066741943\n",
            "epoch: 580 loss: 0.3255712389945984\n",
            "epoch: 581 loss: 0.32533982396125793\n",
            "epoch: 582 loss: 0.3251088261604309\n",
            "epoch: 583 loss: 0.3248783051967621\n",
            "epoch: 584 loss: 0.3246481418609619\n",
            "epoch: 585 loss: 0.32441848516464233\n",
            "epoch: 586 loss: 0.3241892158985138\n",
            "epoch: 587 loss: 0.32396039366722107\n",
            "epoch: 588 loss: 0.32373201847076416\n",
            "epoch: 589 loss: 0.32350409030914307\n",
            "epoch: 590 loss: 0.323276549577713\n",
            "epoch: 591 loss: 0.32304951548576355\n",
            "epoch: 592 loss: 0.32282283902168274\n",
            "epoch: 593 loss: 0.32259663939476013\n",
            "epoch: 594 loss: 0.32237082719802856\n",
            "epoch: 595 loss: 0.3221454620361328\n",
            "epoch: 596 loss: 0.3219205439090729\n",
            "epoch: 597 loss: 0.321696013212204\n",
            "epoch: 598 loss: 0.3214719295501709\n",
            "epoch: 599 loss: 0.32124823331832886\n",
            "epoch: 600 loss: 0.321025013923645\n",
            "epoch: 601 loss: 0.32080215215682983\n",
            "epoch: 602 loss: 0.3205797076225281\n",
            "epoch: 603 loss: 0.3203577399253845\n",
            "epoch: 604 loss: 0.32013610005378723\n",
            "epoch: 605 loss: 0.31991493701934814\n",
            "epoch: 606 loss: 0.3196941912174225\n",
            "epoch: 607 loss: 0.31947383284568787\n",
            "epoch: 608 loss: 0.31925392150878906\n",
            "epoch: 609 loss: 0.3190343379974365\n",
            "epoch: 610 loss: 0.3188152015209198\n",
            "epoch: 611 loss: 0.3185964822769165\n",
            "epoch: 612 loss: 0.31837815046310425\n",
            "epoch: 613 loss: 0.3181602954864502\n",
            "epoch: 614 loss: 0.3179427683353424\n",
            "epoch: 615 loss: 0.31772568821907043\n",
            "epoch: 616 loss: 0.3175089359283447\n",
            "epoch: 617 loss: 0.31729263067245483\n",
            "epoch: 618 loss: 0.317076712846756\n",
            "epoch: 619 loss: 0.31686124205589294\n",
            "epoch: 620 loss: 0.31664609909057617\n",
            "epoch: 621 loss: 0.3164314329624176\n",
            "epoch: 622 loss: 0.3162170648574829\n",
            "epoch: 623 loss: 0.31600314378738403\n",
            "epoch: 624 loss: 0.3157895803451538\n",
            "epoch: 625 loss: 0.315576434135437\n",
            "epoch: 626 loss: 0.31536370515823364\n",
            "epoch: 627 loss: 0.3151513338088989\n",
            "epoch: 628 loss: 0.31493934988975525\n",
            "epoch: 629 loss: 0.3147277534008026\n",
            "epoch: 630 loss: 0.314516544342041\n",
            "epoch: 631 loss: 0.31430569291114807\n",
            "epoch: 632 loss: 0.31409525871276855\n",
            "epoch: 633 loss: 0.3138851821422577\n",
            "epoch: 634 loss: 0.31367552280426025\n",
            "epoch: 635 loss: 0.31346625089645386\n",
            "epoch: 636 loss: 0.3132573366165161\n",
            "epoch: 637 loss: 0.313048779964447\n",
            "epoch: 638 loss: 0.3128405809402466\n",
            "epoch: 639 loss: 0.31263285875320435\n",
            "epoch: 640 loss: 0.312425434589386\n",
            "epoch: 641 loss: 0.31221842765808105\n",
            "epoch: 642 loss: 0.3120117485523224\n",
            "epoch: 643 loss: 0.31180548667907715\n",
            "epoch: 644 loss: 0.3115995526313782\n",
            "epoch: 645 loss: 0.31139400601387024\n",
            "epoch: 646 loss: 0.31118881702423096\n",
            "epoch: 647 loss: 0.3109840154647827\n",
            "epoch: 648 loss: 0.31077954173088074\n",
            "epoch: 649 loss: 0.3105755150318146\n",
            "epoch: 650 loss: 0.3103717863559723\n",
            "epoch: 651 loss: 0.31016841530799866\n",
            "epoch: 652 loss: 0.30996546149253845\n",
            "epoch: 653 loss: 0.3097628355026245\n",
            "epoch: 654 loss: 0.3095605969429016\n",
            "epoch: 655 loss: 0.309358686208725\n",
            "epoch: 656 loss: 0.3091571629047394\n",
            "epoch: 657 loss: 0.30895596742630005\n",
            "epoch: 658 loss: 0.30875515937805176\n",
            "epoch: 659 loss: 0.30855461955070496\n",
            "epoch: 660 loss: 0.30835452675819397\n",
            "epoch: 661 loss: 0.30815476179122925\n",
            "epoch: 662 loss: 0.3079553544521332\n",
            "epoch: 663 loss: 0.30775633454322815\n",
            "epoch: 664 loss: 0.307557612657547\n",
            "epoch: 665 loss: 0.3073592782020569\n",
            "epoch: 666 loss: 0.3071613013744354\n",
            "epoch: 667 loss: 0.30696362257003784\n",
            "epoch: 668 loss: 0.3067663013935089\n",
            "epoch: 669 loss: 0.306569367647171\n",
            "epoch: 670 loss: 0.3063727617263794\n",
            "epoch: 671 loss: 0.30617648363113403\n",
            "epoch: 672 loss: 0.3059805631637573\n",
            "epoch: 673 loss: 0.3057849705219269\n",
            "epoch: 674 loss: 0.3055897653102875\n",
            "epoch: 675 loss: 0.30539488792419434\n",
            "epoch: 676 loss: 0.3052002787590027\n",
            "epoch: 677 loss: 0.3050060570240021\n",
            "epoch: 678 loss: 0.30481216311454773\n",
            "epoch: 679 loss: 0.3046186566352844\n",
            "epoch: 680 loss: 0.304425448179245\n",
            "epoch: 681 loss: 0.30423256754875183\n",
            "epoch: 682 loss: 0.3040400445461273\n",
            "epoch: 683 loss: 0.3038478195667267\n",
            "epoch: 684 loss: 0.3036559820175171\n",
            "epoch: 685 loss: 0.3034643828868866\n",
            "epoch: 686 loss: 0.3032732307910919\n",
            "epoch: 687 loss: 0.30308234691619873\n",
            "epoch: 688 loss: 0.3028918206691742\n",
            "epoch: 689 loss: 0.30270159244537354\n",
            "epoch: 690 loss: 0.30251169204711914\n",
            "epoch: 691 loss: 0.3023220896720886\n",
            "epoch: 692 loss: 0.30213290452957153\n",
            "epoch: 693 loss: 0.3019440174102783\n",
            "epoch: 694 loss: 0.3017553985118866\n",
            "epoch: 695 loss: 0.3015671670436859\n",
            "epoch: 696 loss: 0.3013792037963867\n",
            "epoch: 697 loss: 0.3011915981769562\n",
            "epoch: 698 loss: 0.3010042905807495\n",
            "epoch: 699 loss: 0.3008173108100891\n",
            "epoch: 700 loss: 0.300630658864975\n",
            "epoch: 701 loss: 0.3004443049430847\n",
            "epoch: 702 loss: 0.3002582788467407\n",
            "epoch: 703 loss: 0.300072580575943\n",
            "epoch: 704 loss: 0.29988718032836914\n",
            "epoch: 705 loss: 0.29970213770866394\n",
            "epoch: 706 loss: 0.29951736330986023\n",
            "epoch: 707 loss: 0.2993329167366028\n",
            "epoch: 708 loss: 0.2991487979888916\n",
            "epoch: 709 loss: 0.2989649474620819\n",
            "epoch: 710 loss: 0.29878145456314087\n",
            "epoch: 711 loss: 0.2985982596874237\n",
            "epoch: 712 loss: 0.2984153628349304\n",
            "epoch: 713 loss: 0.2982327938079834\n",
            "epoch: 714 loss: 0.29805052280426025\n",
            "epoch: 715 loss: 0.2978685796260834\n",
            "epoch: 716 loss: 0.297686904668808\n",
            "epoch: 717 loss: 0.29750555753707886\n",
            "epoch: 718 loss: 0.2973244786262512\n",
            "epoch: 719 loss: 0.29714375734329224\n",
            "epoch: 720 loss: 0.29696330428123474\n",
            "epoch: 721 loss: 0.2967831790447235\n",
            "epoch: 722 loss: 0.29660335183143616\n",
            "epoch: 723 loss: 0.2964238226413727\n",
            "epoch: 724 loss: 0.2962445914745331\n",
            "epoch: 725 loss: 0.29606568813323975\n",
            "epoch: 726 loss: 0.2958870232105255\n",
            "epoch: 727 loss: 0.29570865631103516\n",
            "epoch: 728 loss: 0.29553064703941345\n",
            "epoch: 729 loss: 0.29535290598869324\n",
            "epoch: 730 loss: 0.2951754331588745\n",
            "epoch: 731 loss: 0.29499828815460205\n",
            "epoch: 732 loss: 0.2948214113712311\n",
            "epoch: 733 loss: 0.294644832611084\n",
            "epoch: 734 loss: 0.29446858167648315\n",
            "epoch: 735 loss: 0.2942925989627838\n",
            "epoch: 736 loss: 0.29411688446998596\n",
            "epoch: 737 loss: 0.293941468000412\n",
            "epoch: 738 loss: 0.2937663793563843\n",
            "epoch: 739 loss: 0.29359155893325806\n",
            "epoch: 740 loss: 0.2934170067310333\n",
            "epoch: 741 loss: 0.29324281215667725\n",
            "epoch: 742 loss: 0.2930687963962555\n",
            "epoch: 743 loss: 0.2928951382637024\n",
            "epoch: 744 loss: 0.2927217185497284\n",
            "epoch: 745 loss: 0.29254862666130066\n",
            "epoch: 746 loss: 0.2923758029937744\n",
            "epoch: 747 loss: 0.29220321774482727\n",
            "epoch: 748 loss: 0.2920309901237488\n",
            "epoch: 749 loss: 0.2918590307235718\n",
            "epoch: 750 loss: 0.29168733954429626\n",
            "epoch: 751 loss: 0.29151591658592224\n",
            "epoch: 752 loss: 0.2913447618484497\n",
            "epoch: 753 loss: 0.29117390513420105\n",
            "epoch: 754 loss: 0.29100334644317627\n",
            "epoch: 755 loss: 0.2908330261707306\n",
            "epoch: 756 loss: 0.2906630039215088\n",
            "epoch: 757 loss: 0.2904932498931885\n",
            "epoch: 758 loss: 0.29032379388809204\n",
            "epoch: 759 loss: 0.2901545763015747\n",
            "epoch: 760 loss: 0.28998562693595886\n",
            "epoch: 761 loss: 0.2898169755935669\n",
            "epoch: 762 loss: 0.2896486222743988\n",
            "epoch: 763 loss: 0.2894804775714874\n",
            "epoch: 764 loss: 0.2893126606941223\n",
            "epoch: 765 loss: 0.2891450822353363\n",
            "epoch: 766 loss: 0.2889777719974518\n",
            "epoch: 767 loss: 0.28881075978279114\n",
            "epoch: 768 loss: 0.288644015789032\n",
            "epoch: 769 loss: 0.28847751021385193\n",
            "epoch: 770 loss: 0.28831130266189575\n",
            "epoch: 771 loss: 0.28814536333084106\n",
            "epoch: 772 loss: 0.2879796624183655\n",
            "epoch: 773 loss: 0.2878142297267914\n",
            "epoch: 774 loss: 0.2876490652561188\n",
            "epoch: 775 loss: 0.28748419880867004\n",
            "epoch: 776 loss: 0.28731951117515564\n",
            "epoch: 777 loss: 0.2871551811695099\n",
            "epoch: 778 loss: 0.28699105978012085\n",
            "epoch: 779 loss: 0.2868272066116333\n",
            "epoch: 780 loss: 0.28666362166404724\n",
            "epoch: 781 loss: 0.2865002751350403\n",
            "epoch: 782 loss: 0.2863372266292572\n",
            "epoch: 783 loss: 0.28617438673973083\n",
            "epoch: 784 loss: 0.28601187467575073\n",
            "epoch: 785 loss: 0.28584954142570496\n",
            "epoch: 786 loss: 0.28568753600120544\n",
            "epoch: 787 loss: 0.28552576899528503\n",
            "epoch: 788 loss: 0.28536421060562134\n",
            "epoch: 789 loss: 0.2852029502391815\n",
            "epoch: 790 loss: 0.2850419282913208\n",
            "epoch: 791 loss: 0.28488120436668396\n",
            "epoch: 792 loss: 0.28472065925598145\n",
            "epoch: 793 loss: 0.2845603823661804\n",
            "epoch: 794 loss: 0.2844003736972809\n",
            "epoch: 795 loss: 0.2842406630516052\n",
            "epoch: 796 loss: 0.2840811610221863\n",
            "epoch: 797 loss: 0.28392189741134644\n",
            "epoch: 798 loss: 0.2837629020214081\n",
            "epoch: 799 loss: 0.28360411524772644\n",
            "epoch: 800 loss: 0.2834455966949463\n",
            "epoch: 801 loss: 0.28328737616539\n",
            "epoch: 802 loss: 0.28312933444976807\n",
            "epoch: 803 loss: 0.28297159075737\n",
            "epoch: 804 loss: 0.2828141152858734\n",
            "epoch: 805 loss: 0.28265681862831116\n",
            "epoch: 806 loss: 0.282499760389328\n",
            "epoch: 807 loss: 0.2823430001735687\n",
            "epoch: 808 loss: 0.28218644857406616\n",
            "epoch: 809 loss: 0.2820301353931427\n",
            "epoch: 810 loss: 0.2818740904331207\n",
            "epoch: 811 loss: 0.28171828389167786\n",
            "epoch: 812 loss: 0.2815627157688141\n",
            "epoch: 813 loss: 0.2814073860645294\n",
            "epoch: 814 loss: 0.28125226497650146\n",
            "epoch: 815 loss: 0.281097412109375\n",
            "epoch: 816 loss: 0.28094279766082764\n",
            "epoch: 817 loss: 0.2807884216308594\n",
            "epoch: 818 loss: 0.2806343138217926\n",
            "epoch: 819 loss: 0.28048041462898254\n",
            "epoch: 820 loss: 0.2803267240524292\n",
            "epoch: 821 loss: 0.28017327189445496\n",
            "epoch: 822 loss: 0.2800200879573822\n",
            "epoch: 823 loss: 0.27986711263656616\n",
            "epoch: 824 loss: 0.2797144055366516\n",
            "epoch: 825 loss: 0.2795619070529938\n",
            "epoch: 826 loss: 0.27940964698791504\n",
            "epoch: 827 loss: 0.2792576551437378\n",
            "epoch: 828 loss: 0.2791058421134949\n",
            "epoch: 829 loss: 0.27895426750183105\n",
            "epoch: 830 loss: 0.2788029909133911\n",
            "epoch: 831 loss: 0.2786518633365631\n",
            "epoch: 832 loss: 0.2785009741783142\n",
            "epoch: 833 loss: 0.2783503234386444\n",
            "epoch: 834 loss: 0.2781999111175537\n",
            "epoch: 835 loss: 0.2780497372150421\n",
            "epoch: 836 loss: 0.27789977192878723\n",
            "epoch: 837 loss: 0.27775007486343384\n",
            "epoch: 838 loss: 0.2776005268096924\n",
            "epoch: 839 loss: 0.2774512767791748\n",
            "epoch: 840 loss: 0.27730223536491394\n",
            "epoch: 841 loss: 0.2771534025669098\n",
            "epoch: 842 loss: 0.27700480818748474\n",
            "epoch: 843 loss: 0.2768564224243164\n",
            "epoch: 844 loss: 0.2767082452774048\n",
            "epoch: 845 loss: 0.27656033635139465\n",
            "epoch: 846 loss: 0.27641263604164124\n",
            "epoch: 847 loss: 0.2762651741504669\n",
            "epoch: 848 loss: 0.27611789107322693\n",
            "epoch: 849 loss: 0.27597084641456604\n",
            "epoch: 850 loss: 0.27582404017448425\n",
            "epoch: 851 loss: 0.2756774425506592\n",
            "epoch: 852 loss: 0.27553099393844604\n",
            "epoch: 853 loss: 0.27538490295410156\n",
            "epoch: 854 loss: 0.27523893117904663\n",
            "epoch: 855 loss: 0.2750931978225708\n",
            "epoch: 856 loss: 0.2749477028846741\n",
            "epoch: 857 loss: 0.27480238676071167\n",
            "epoch: 858 loss: 0.27465736865997314\n",
            "epoch: 859 loss: 0.27451249957084656\n",
            "epoch: 860 loss: 0.2743678390979767\n",
            "epoch: 861 loss: 0.2742234170436859\n",
            "epoch: 862 loss: 0.27407917380332947\n",
            "epoch: 863 loss: 0.2739351689815521\n",
            "epoch: 864 loss: 0.2737914025783539\n",
            "epoch: 865 loss: 0.27364781498908997\n",
            "epoch: 866 loss: 0.27350449562072754\n",
            "epoch: 867 loss: 0.27336132526397705\n",
            "epoch: 868 loss: 0.27321839332580566\n",
            "epoch: 869 loss: 0.273075670003891\n",
            "epoch: 870 loss: 0.27293312549591064\n",
            "epoch: 871 loss: 0.2727908194065094\n",
            "epoch: 872 loss: 0.27264872193336487\n",
            "epoch: 873 loss: 0.27250686287879944\n",
            "epoch: 874 loss: 0.27236518263816833\n",
            "epoch: 875 loss: 0.27222371101379395\n",
            "epoch: 876 loss: 0.2720824182033539\n",
            "epoch: 877 loss: 0.2719413638114929\n",
            "epoch: 878 loss: 0.27180051803588867\n",
            "epoch: 879 loss: 0.27165988087654114\n",
            "epoch: 880 loss: 0.27151942253112793\n",
            "epoch: 881 loss: 0.2713792324066162\n",
            "epoch: 882 loss: 0.27123916149139404\n",
            "epoch: 883 loss: 0.27109938859939575\n",
            "epoch: 884 loss: 0.270959734916687\n",
            "epoch: 885 loss: 0.270820289850235\n",
            "epoch: 886 loss: 0.27068111300468445\n",
            "epoch: 887 loss: 0.27054208517074585\n",
            "epoch: 888 loss: 0.27040326595306396\n",
            "epoch: 889 loss: 0.2702646553516388\n",
            "epoch: 890 loss: 0.27012622356414795\n",
            "epoch: 891 loss: 0.2699880301952362\n",
            "epoch: 892 loss: 0.2698500156402588\n",
            "epoch: 893 loss: 0.2697122097015381\n",
            "epoch: 894 loss: 0.2695746123790741\n",
            "epoch: 895 loss: 0.26943719387054443\n",
            "epoch: 896 loss: 0.2692999541759491\n",
            "epoch: 897 loss: 0.26916301250457764\n",
            "epoch: 898 loss: 0.2690261900424957\n",
            "epoch: 899 loss: 0.26888954639434814\n",
            "epoch: 900 loss: 0.2687531113624573\n",
            "epoch: 901 loss: 0.2686169147491455\n",
            "epoch: 902 loss: 0.2684808671474457\n",
            "epoch: 903 loss: 0.26834502816200256\n",
            "epoch: 904 loss: 0.2682093679904938\n",
            "epoch: 905 loss: 0.2680739462375641\n",
            "epoch: 906 loss: 0.26793867349624634\n",
            "epoch: 907 loss: 0.2678036391735077\n",
            "epoch: 908 loss: 0.26766878366470337\n",
            "epoch: 909 loss: 0.2675341069698334\n",
            "epoch: 910 loss: 0.2673996388912201\n",
            "epoch: 911 loss: 0.26726534962654114\n",
            "epoch: 912 loss: 0.2671312391757965\n",
            "epoch: 913 loss: 0.266997367143631\n",
            "epoch: 914 loss: 0.2668636441230774\n",
            "epoch: 915 loss: 0.2667301297187805\n",
            "epoch: 916 loss: 0.2665967643260956\n",
            "epoch: 917 loss: 0.26646363735198975\n",
            "epoch: 918 loss: 0.26633062958717346\n",
            "epoch: 919 loss: 0.26619789004325867\n",
            "epoch: 920 loss: 0.2660652995109558\n",
            "epoch: 921 loss: 0.26593291759490967\n",
            "epoch: 922 loss: 0.26580071449279785\n",
            "epoch: 923 loss: 0.26566869020462036\n",
            "epoch: 924 loss: 0.2655368745326996\n",
            "epoch: 925 loss: 0.26540520787239075\n",
            "epoch: 926 loss: 0.265273779630661\n",
            "epoch: 927 loss: 0.2651424705982208\n",
            "epoch: 928 loss: 0.26501139998435974\n",
            "epoch: 929 loss: 0.2648804783821106\n",
            "epoch: 930 loss: 0.26474976539611816\n",
            "epoch: 931 loss: 0.26461923122406006\n",
            "epoch: 932 loss: 0.2644888460636139\n",
            "epoch: 933 loss: 0.26435866951942444\n",
            "epoch: 934 loss: 0.2642287015914917\n",
            "epoch: 935 loss: 0.2640989124774933\n",
            "epoch: 936 loss: 0.2639692425727844\n",
            "epoch: 937 loss: 0.26383981108665466\n",
            "epoch: 938 loss: 0.26371055841445923\n",
            "epoch: 939 loss: 0.26358145475387573\n",
            "epoch: 940 loss: 0.26345255970954895\n",
            "epoch: 941 loss: 0.2633238732814789\n",
            "epoch: 942 loss: 0.26319530606269836\n",
            "epoch: 943 loss: 0.2630669176578522\n",
            "epoch: 944 loss: 0.2629387378692627\n",
            "epoch: 945 loss: 0.26281070709228516\n",
            "epoch: 946 loss: 0.26268288493156433\n",
            "epoch: 947 loss: 0.26255521178245544\n",
            "epoch: 948 loss: 0.2624277174472809\n",
            "epoch: 949 loss: 0.2623004615306854\n",
            "epoch: 950 loss: 0.26217329502105713\n",
            "epoch: 951 loss: 0.26204636693000793\n",
            "epoch: 952 loss: 0.2619195878505707\n",
            "epoch: 953 loss: 0.26179295778274536\n",
            "epoch: 954 loss: 0.26166653633117676\n",
            "epoch: 955 loss: 0.2615402936935425\n",
            "epoch: 956 loss: 0.26141422986984253\n",
            "epoch: 957 loss: 0.2612883448600769\n",
            "epoch: 958 loss: 0.2611626088619232\n",
            "epoch: 959 loss: 0.26103705167770386\n",
            "epoch: 960 loss: 0.26091164350509644\n",
            "epoch: 961 loss: 0.26078641414642334\n",
            "epoch: 962 loss: 0.26066139340400696\n",
            "epoch: 963 loss: 0.2605365514755249\n",
            "epoch: 964 loss: 0.2604118287563324\n",
            "epoch: 965 loss: 0.2602872848510742\n",
            "epoch: 966 loss: 0.26016291975975037\n",
            "epoch: 967 loss: 0.2600387632846832\n",
            "epoch: 968 loss: 0.25991472601890564\n",
            "epoch: 969 loss: 0.2597908675670624\n",
            "epoch: 970 loss: 0.25966721773147583\n",
            "epoch: 971 loss: 0.25954365730285645\n",
            "epoch: 972 loss: 0.2594203054904938\n",
            "epoch: 973 loss: 0.25929713249206543\n",
            "epoch: 974 loss: 0.259174108505249\n",
            "epoch: 975 loss: 0.25905129313468933\n",
            "epoch: 976 loss: 0.2589285969734192\n",
            "epoch: 977 loss: 0.25880610942840576\n",
            "epoch: 978 loss: 0.2586837410926819\n",
            "epoch: 979 loss: 0.25856152176856995\n",
            "epoch: 980 loss: 0.2584395408630371\n",
            "epoch: 981 loss: 0.2583177089691162\n",
            "epoch: 982 loss: 0.25819599628448486\n",
            "epoch: 983 loss: 0.2580745220184326\n",
            "epoch: 984 loss: 0.25795313715934753\n",
            "epoch: 985 loss: 0.25783196091651917\n",
            "epoch: 986 loss: 0.25771090388298035\n",
            "epoch: 987 loss: 0.25759002566337585\n",
            "epoch: 988 loss: 0.2574693262577057\n",
            "epoch: 989 loss: 0.25734880566596985\n",
            "epoch: 990 loss: 0.25722840428352356\n",
            "epoch: 991 loss: 0.2571081817150116\n",
            "epoch: 992 loss: 0.2569881081581116\n",
            "epoch: 993 loss: 0.25686824321746826\n",
            "epoch: 994 loss: 0.2567484378814697\n",
            "epoch: 995 loss: 0.2566288709640503\n",
            "epoch: 996 loss: 0.2565094530582428\n",
            "epoch: 997 loss: 0.25639021396636963\n",
            "epoch: 998 loss: 0.2562711238861084\n",
            "epoch: 999 loss: 0.2561521828174591\n",
            "epoch: 1000 loss: 0.25603339076042175\n",
            "epoch: 1001 loss: 0.2559147775173187\n",
            "epoch: 1002 loss: 0.25579628348350525\n",
            "epoch: 1003 loss: 0.2556779980659485\n",
            "epoch: 1004 loss: 0.2555598020553589\n",
            "epoch: 1005 loss: 0.255441814661026\n",
            "epoch: 1006 loss: 0.25532397627830505\n",
            "epoch: 1007 loss: 0.25520628690719604\n",
            "epoch: 1008 loss: 0.25508877635002136\n",
            "epoch: 1009 loss: 0.25497138500213623\n",
            "epoch: 1010 loss: 0.2548541724681854\n",
            "epoch: 1011 loss: 0.25473707914352417\n",
            "epoch: 1012 loss: 0.25462019443511963\n",
            "epoch: 1013 loss: 0.254503458738327\n",
            "epoch: 1014 loss: 0.2543868124485016\n",
            "epoch: 1015 loss: 0.25427037477493286\n",
            "epoch: 1016 loss: 0.2541540861129761\n",
            "epoch: 1017 loss: 0.2540379464626312\n",
            "epoch: 1018 loss: 0.2539219558238983\n",
            "epoch: 1019 loss: 0.25380608439445496\n",
            "epoch: 1020 loss: 0.2536904215812683\n",
            "epoch: 1021 loss: 0.2535748779773712\n",
            "epoch: 1022 loss: 0.25345945358276367\n",
            "epoch: 1023 loss: 0.25334423780441284\n",
            "epoch: 1024 loss: 0.25322917103767395\n",
            "epoch: 1025 loss: 0.2531141936779022\n",
            "epoch: 1026 loss: 0.2529994547367096\n",
            "epoch: 1027 loss: 0.2528848350048065\n",
            "epoch: 1028 loss: 0.252770334482193\n",
            "epoch: 1029 loss: 0.2526560127735138\n",
            "epoch: 1030 loss: 0.25254184007644653\n",
            "epoch: 1031 loss: 0.2524277865886688\n",
            "epoch: 1032 loss: 0.25231391191482544\n",
            "epoch: 1033 loss: 0.2522001564502716\n",
            "epoch: 1034 loss: 0.2520866096019745\n",
            "epoch: 1035 loss: 0.25197312235832214\n",
            "epoch: 1036 loss: 0.2518598139286041\n",
            "epoch: 1037 loss: 0.25174665451049805\n",
            "epoch: 1038 loss: 0.2516336739063263\n",
            "epoch: 1039 loss: 0.2515208125114441\n",
            "epoch: 1040 loss: 0.25140804052352905\n",
            "epoch: 1041 loss: 0.2512955069541931\n",
            "epoch: 1042 loss: 0.25118306279182434\n",
            "epoch: 1043 loss: 0.2510708272457123\n",
            "epoch: 1044 loss: 0.2509586811065674\n",
            "epoch: 1045 loss: 0.2508466839790344\n",
            "epoch: 1046 loss: 0.2507348358631134\n",
            "epoch: 1047 loss: 0.2506231367588043\n",
            "epoch: 1048 loss: 0.2505115866661072\n",
            "epoch: 1049 loss: 0.250400185585022\n",
            "epoch: 1050 loss: 0.25028887391090393\n",
            "epoch: 1051 loss: 0.2501777708530426\n",
            "epoch: 1052 loss: 0.2500667870044708\n",
            "epoch: 1053 loss: 0.2499559223651886\n",
            "epoch: 1054 loss: 0.2498452067375183\n",
            "epoch: 1055 loss: 0.24973465502262115\n",
            "epoch: 1056 loss: 0.24962425231933594\n",
            "epoch: 1057 loss: 0.24951396882534027\n",
            "epoch: 1058 loss: 0.24940383434295654\n",
            "epoch: 1059 loss: 0.24929384887218475\n",
            "epoch: 1060 loss: 0.24918398261070251\n",
            "epoch: 1061 loss: 0.24907425045967102\n",
            "epoch: 1062 loss: 0.24896469712257385\n",
            "epoch: 1063 loss: 0.24885526299476624\n",
            "epoch: 1064 loss: 0.24874591827392578\n",
            "epoch: 1065 loss: 0.24863679707050323\n",
            "epoch: 1066 loss: 0.24852773547172546\n",
            "epoch: 1067 loss: 0.2484188675880432\n",
            "epoch: 1068 loss: 0.24831010401248932\n",
            "epoch: 1069 loss: 0.24820150434970856\n",
            "epoch: 1070 loss: 0.24809305369853973\n",
            "epoch: 1071 loss: 0.24798467755317688\n",
            "epoch: 1072 loss: 0.24787651002407074\n",
            "epoch: 1073 loss: 0.24776844680309296\n",
            "epoch: 1074 loss: 0.24766050279140472\n",
            "epoch: 1075 loss: 0.24755269289016724\n",
            "epoch: 1076 loss: 0.24744506180286407\n",
            "epoch: 1077 loss: 0.24733754992485046\n",
            "epoch: 1078 loss: 0.2472301721572876\n",
            "epoch: 1079 loss: 0.24712291359901428\n",
            "epoch: 1080 loss: 0.24701577425003052\n",
            "epoch: 1081 loss: 0.24690879881381989\n",
            "epoch: 1082 loss: 0.2468019723892212\n",
            "epoch: 1083 loss: 0.24669523537158966\n",
            "epoch: 1084 loss: 0.24658866226673126\n",
            "epoch: 1085 loss: 0.24648219347000122\n",
            "epoch: 1086 loss: 0.2463758885860443\n",
            "epoch: 1087 loss: 0.24626970291137695\n",
            "epoch: 1088 loss: 0.24616365134716034\n",
            "epoch: 1089 loss: 0.24605773389339447\n",
            "epoch: 1090 loss: 0.24595198035240173\n",
            "epoch: 1091 loss: 0.24584628641605377\n",
            "epoch: 1092 loss: 0.24574077129364014\n",
            "epoch: 1093 loss: 0.24563537538051605\n",
            "epoch: 1094 loss: 0.2455301284790039\n",
            "epoch: 1095 loss: 0.2454250007867813\n",
            "epoch: 1096 loss: 0.24531997740268707\n",
            "epoch: 1097 loss: 0.24521513283252716\n",
            "epoch: 1098 loss: 0.2451103925704956\n",
            "epoch: 1099 loss: 0.2450057566165924\n",
            "epoch: 1100 loss: 0.24490129947662354\n",
            "epoch: 1101 loss: 0.24479693174362183\n",
            "epoch: 1102 loss: 0.24469271302223206\n",
            "epoch: 1103 loss: 0.24458862841129303\n",
            "epoch: 1104 loss: 0.24448469281196594\n",
            "epoch: 1105 loss: 0.24438080191612244\n",
            "epoch: 1106 loss: 0.24427708983421326\n",
            "epoch: 1107 loss: 0.24417352676391602\n",
            "epoch: 1108 loss: 0.24407009780406952\n",
            "epoch: 1109 loss: 0.24396675825119019\n",
            "epoch: 1110 loss: 0.2438635677099228\n",
            "epoch: 1111 loss: 0.24376046657562256\n",
            "epoch: 1112 loss: 0.24365752935409546\n",
            "epoch: 1113 loss: 0.2435547113418579\n",
            "epoch: 1114 loss: 0.24345199763774872\n",
            "epoch: 1115 loss: 0.24334941804409027\n",
            "epoch: 1116 loss: 0.24324698746204376\n",
            "epoch: 1117 loss: 0.2431446611881256\n",
            "epoch: 1118 loss: 0.2430424839258194\n",
            "epoch: 1119 loss: 0.24294041097164154\n",
            "epoch: 1120 loss: 0.24283845722675323\n",
            "epoch: 1121 loss: 0.24273663759231567\n",
            "epoch: 1122 loss: 0.24263495206832886\n",
            "epoch: 1123 loss: 0.2425333857536316\n",
            "epoch: 1124 loss: 0.24243193864822388\n",
            "epoch: 1125 loss: 0.24233059585094452\n",
            "epoch: 1126 loss: 0.2422294020652771\n",
            "epoch: 1127 loss: 0.24212831258773804\n",
            "epoch: 1128 loss: 0.24202735722064972\n",
            "epoch: 1129 loss: 0.24192652106285095\n",
            "epoch: 1130 loss: 0.24182580411434174\n",
            "epoch: 1131 loss: 0.24172522127628326\n",
            "epoch: 1132 loss: 0.24162475764751434\n",
            "epoch: 1133 loss: 0.24152441322803497\n",
            "epoch: 1134 loss: 0.24142417311668396\n",
            "epoch: 1135 loss: 0.24132408201694489\n",
            "epoch: 1136 loss: 0.24122409522533417\n",
            "epoch: 1137 loss: 0.241124227643013\n",
            "epoch: 1138 loss: 0.241024449467659\n",
            "epoch: 1139 loss: 0.24092485010623932\n",
            "epoch: 1140 loss: 0.240825355052948\n",
            "epoch: 1141 loss: 0.24072593450546265\n",
            "epoch: 1142 loss: 0.24062667787075043\n",
            "epoch: 1143 loss: 0.24052755534648895\n",
            "epoch: 1144 loss: 0.24042852222919464\n",
            "epoch: 1145 loss: 0.24032962322235107\n",
            "epoch: 1146 loss: 0.24023081362247467\n",
            "epoch: 1147 loss: 0.240132138133049\n",
            "epoch: 1148 loss: 0.2400335818529129\n",
            "epoch: 1149 loss: 0.23993512988090515\n",
            "epoch: 1150 loss: 0.23983684182167053\n",
            "epoch: 1151 loss: 0.2397386133670807\n",
            "epoch: 1152 loss: 0.2396405190229416\n",
            "epoch: 1153 loss: 0.23954257369041443\n",
            "epoch: 1154 loss: 0.23944468796253204\n",
            "epoch: 1155 loss: 0.2393469661474228\n",
            "epoch: 1156 loss: 0.2392493635416031\n",
            "epoch: 1157 loss: 0.23915186524391174\n",
            "epoch: 1158 loss: 0.23905447125434875\n",
            "epoch: 1159 loss: 0.2389572113752365\n",
            "epoch: 1160 loss: 0.23886004090309143\n",
            "epoch: 1161 loss: 0.2387629896402359\n",
            "epoch: 1162 loss: 0.23866607248783112\n",
            "epoch: 1163 loss: 0.2385692447423935\n",
            "epoch: 1164 loss: 0.23847253620624542\n",
            "epoch: 1165 loss: 0.2383759617805481\n",
            "epoch: 1166 loss: 0.23827949166297913\n",
            "epoch: 1167 loss: 0.2381831407546997\n",
            "epoch: 1168 loss: 0.23808689415454865\n",
            "epoch: 1169 loss: 0.23799076676368713\n",
            "epoch: 1170 loss: 0.23789475858211517\n",
            "epoch: 1171 loss: 0.23779886960983276\n",
            "epoch: 1172 loss: 0.23770305514335632\n",
            "epoch: 1173 loss: 0.23760735988616943\n",
            "epoch: 1174 loss: 0.23751184344291687\n",
            "epoch: 1175 loss: 0.2374163568019867\n",
            "epoch: 1176 loss: 0.23732101917266846\n",
            "epoch: 1177 loss: 0.23722580075263977\n",
            "epoch: 1178 loss: 0.23713070154190063\n",
            "epoch: 1179 loss: 0.23703567683696747\n",
            "epoch: 1180 loss: 0.23694078624248505\n",
            "epoch: 1181 loss: 0.23684601485729218\n",
            "epoch: 1182 loss: 0.23675130307674408\n",
            "epoch: 1183 loss: 0.23665675520896912\n",
            "epoch: 1184 loss: 0.2365623116493225\n",
            "epoch: 1185 loss: 0.23646798729896545\n",
            "epoch: 1186 loss: 0.23637375235557556\n",
            "epoch: 1187 loss: 0.23627960681915283\n",
            "epoch: 1188 loss: 0.23618559539318085\n",
            "epoch: 1189 loss: 0.23609168827533722\n",
            "epoch: 1190 loss: 0.23599790036678314\n",
            "epoch: 1191 loss: 0.23590420186519623\n",
            "epoch: 1192 loss: 0.23581063747406006\n",
            "epoch: 1193 loss: 0.23571717739105225\n",
            "epoch: 1194 loss: 0.2356237918138504\n",
            "epoch: 1195 loss: 0.2355305254459381\n",
            "epoch: 1196 loss: 0.23543739318847656\n",
            "epoch: 1197 loss: 0.23534436523914337\n",
            "epoch: 1198 loss: 0.23525142669677734\n",
            "epoch: 1199 loss: 0.23515863716602325\n",
            "epoch: 1200 loss: 0.23506587743759155\n",
            "epoch: 1201 loss: 0.23497328162193298\n",
            "epoch: 1202 loss: 0.23488080501556396\n",
            "epoch: 1203 loss: 0.23478840291500092\n",
            "epoch: 1204 loss: 0.23469610512256622\n",
            "epoch: 1205 loss: 0.2346038967370987\n",
            "epoch: 1206 loss: 0.2345118373632431\n",
            "epoch: 1207 loss: 0.23441988229751587\n",
            "epoch: 1208 loss: 0.23432804644107819\n",
            "epoch: 1209 loss: 0.2342362403869629\n",
            "epoch: 1210 loss: 0.23414459824562073\n",
            "epoch: 1211 loss: 0.23405304551124573\n",
            "epoch: 1212 loss: 0.23396159708499908\n",
            "epoch: 1213 loss: 0.23387028276920319\n",
            "epoch: 1214 loss: 0.23377902805805206\n",
            "epoch: 1215 loss: 0.2336878925561905\n",
            "epoch: 1216 loss: 0.23359686136245728\n",
            "epoch: 1217 loss: 0.23350593447685242\n",
            "epoch: 1218 loss: 0.2334151268005371\n",
            "epoch: 1219 loss: 0.23332439363002777\n",
            "epoch: 1220 loss: 0.23323377966880798\n",
            "epoch: 1221 loss: 0.23314328491687775\n",
            "epoch: 1222 loss: 0.23305287957191467\n",
            "epoch: 1223 loss: 0.23296256363391876\n",
            "epoch: 1224 loss: 0.2328723669052124\n",
            "epoch: 1225 loss: 0.232782244682312\n",
            "epoch: 1226 loss: 0.23269228637218475\n",
            "epoch: 1227 loss: 0.23260237276554108\n",
            "epoch: 1228 loss: 0.23251259326934814\n",
            "epoch: 1229 loss: 0.23242288827896118\n",
            "epoch: 1230 loss: 0.23233330249786377\n",
            "epoch: 1231 loss: 0.23224379122257233\n",
            "epoch: 1232 loss: 0.23215442895889282\n",
            "epoch: 1233 loss: 0.2320651113986969\n",
            "epoch: 1234 loss: 0.23197594285011292\n",
            "epoch: 1235 loss: 0.2318868488073349\n",
            "epoch: 1236 loss: 0.23179787397384644\n",
            "epoch: 1237 loss: 0.23170898854732513\n",
            "epoch: 1238 loss: 0.2316201776266098\n",
            "epoch: 1239 loss: 0.23153148591518402\n",
            "epoch: 1240 loss: 0.2314428836107254\n",
            "epoch: 1241 loss: 0.23135444521903992\n",
            "epoch: 1242 loss: 0.23126602172851562\n",
            "epoch: 1243 loss: 0.23117774724960327\n",
            "epoch: 1244 loss: 0.2310895472764969\n",
            "epoch: 1245 loss: 0.23100145161151886\n",
            "epoch: 1246 loss: 0.2309134602546692\n",
            "epoch: 1247 loss: 0.23082557320594788\n",
            "epoch: 1248 loss: 0.23073777556419373\n",
            "epoch: 1249 loss: 0.23065009713172913\n",
            "epoch: 1250 loss: 0.2305624932050705\n",
            "epoch: 1251 loss: 0.23047499358654022\n",
            "epoch: 1252 loss: 0.23038756847381592\n",
            "epoch: 1253 loss: 0.23030029237270355\n",
            "epoch: 1254 loss: 0.23021304607391357\n",
            "epoch: 1255 loss: 0.23012594878673553\n",
            "epoch: 1256 loss: 0.23003892600536346\n",
            "epoch: 1257 loss: 0.22995203733444214\n",
            "epoch: 1258 loss: 0.22986522316932678\n",
            "epoch: 1259 loss: 0.2297784835100174\n",
            "epoch: 1260 loss: 0.22969184815883636\n",
            "epoch: 1261 loss: 0.2296052873134613\n",
            "epoch: 1262 loss: 0.22951889038085938\n",
            "epoch: 1263 loss: 0.22943250834941864\n",
            "epoch: 1264 loss: 0.22934626042842865\n",
            "epoch: 1265 loss: 0.22926010191440582\n",
            "epoch: 1266 loss: 0.22917407751083374\n",
            "epoch: 1267 loss: 0.22908811271190643\n",
            "epoch: 1268 loss: 0.22900225222110748\n",
            "epoch: 1269 loss: 0.2289164513349533\n",
            "epoch: 1270 loss: 0.22883076965808868\n",
            "epoch: 1271 loss: 0.22874519228935242\n",
            "epoch: 1272 loss: 0.2286597043275833\n",
            "epoch: 1273 loss: 0.22857429087162018\n",
            "epoch: 1274 loss: 0.2284889966249466\n",
            "epoch: 1275 loss: 0.22840377688407898\n",
            "epoch: 1276 loss: 0.22831864655017853\n",
            "epoch: 1277 loss: 0.2282336801290512\n",
            "epoch: 1278 loss: 0.22814872860908508\n",
            "epoch: 1279 loss: 0.22806388139724731\n",
            "epoch: 1280 loss: 0.2279791384935379\n",
            "epoch: 1281 loss: 0.22789448499679565\n",
            "epoch: 1282 loss: 0.22780990600585938\n",
            "epoch: 1283 loss: 0.22772544622421265\n",
            "epoch: 1284 loss: 0.2276410460472107\n",
            "epoch: 1285 loss: 0.22755677998065948\n",
            "epoch: 1286 loss: 0.22747258841991425\n",
            "epoch: 1287 loss: 0.22738851606845856\n",
            "epoch: 1288 loss: 0.22730451822280884\n",
            "epoch: 1289 loss: 0.2272205799818039\n",
            "epoch: 1290 loss: 0.2271367311477661\n",
            "epoch: 1291 loss: 0.2270529866218567\n",
            "epoch: 1292 loss: 0.22696936130523682\n",
            "epoch: 1293 loss: 0.2268858104944229\n",
            "epoch: 1294 loss: 0.22680234909057617\n",
            "epoch: 1295 loss: 0.2267189621925354\n",
            "epoch: 1296 loss: 0.22663570940494537\n",
            "epoch: 1297 loss: 0.22655250132083893\n",
            "epoch: 1298 loss: 0.22646939754486084\n",
            "epoch: 1299 loss: 0.2263863980770111\n",
            "epoch: 1300 loss: 0.22630348801612854\n",
            "epoch: 1301 loss: 0.22622062265872955\n",
            "epoch: 1302 loss: 0.2261379063129425\n",
            "epoch: 1303 loss: 0.22605526447296143\n",
            "epoch: 1304 loss: 0.22597266733646393\n",
            "epoch: 1305 loss: 0.22589023411273956\n",
            "epoch: 1306 loss: 0.22580784559249878\n",
            "epoch: 1307 loss: 0.22572553157806396\n",
            "epoch: 1308 loss: 0.2256433516740799\n",
            "epoch: 1309 loss: 0.2255612015724182\n",
            "epoch: 1310 loss: 0.22547917068004608\n",
            "epoch: 1311 loss: 0.2253972440958023\n",
            "epoch: 1312 loss: 0.22531536221504211\n",
            "epoch: 1313 loss: 0.22523361444473267\n",
            "epoch: 1314 loss: 0.225151926279068\n",
            "epoch: 1315 loss: 0.22507032752037048\n",
            "epoch: 1316 loss: 0.22498884797096252\n",
            "epoch: 1317 loss: 0.22490741312503815\n",
            "epoch: 1318 loss: 0.22482606768608093\n",
            "epoch: 1319 loss: 0.22474484145641327\n",
            "epoch: 1320 loss: 0.2246636599302292\n",
            "epoch: 1321 loss: 0.22458261251449585\n",
            "epoch: 1322 loss: 0.2245016247034073\n",
            "epoch: 1323 loss: 0.2244206964969635\n",
            "epoch: 1324 loss: 0.22433987259864807\n",
            "epoch: 1325 loss: 0.2242591679096222\n",
            "epoch: 1326 loss: 0.22417853772640228\n",
            "epoch: 1327 loss: 0.22409795224666595\n",
            "epoch: 1328 loss: 0.22401750087738037\n",
            "epoch: 1329 loss: 0.22393712401390076\n",
            "epoch: 1330 loss: 0.2238568365573883\n",
            "epoch: 1331 loss: 0.22377660870552063\n",
            "epoch: 1332 loss: 0.2236964851617813\n",
            "epoch: 1333 loss: 0.22361645102500916\n",
            "epoch: 1334 loss: 0.22353649139404297\n",
            "epoch: 1335 loss: 0.22345659136772156\n",
            "epoch: 1336 loss: 0.2233767956495285\n",
            "epoch: 1337 loss: 0.2232971042394638\n",
            "epoch: 1338 loss: 0.22321748733520508\n",
            "epoch: 1339 loss: 0.22313794493675232\n",
            "epoch: 1340 loss: 0.22305849194526672\n",
            "epoch: 1341 loss: 0.2229791134595871\n",
            "epoch: 1342 loss: 0.22289982438087463\n",
            "epoch: 1343 loss: 0.22282060980796814\n",
            "epoch: 1344 loss: 0.2227414846420288\n",
            "epoch: 1345 loss: 0.22266249358654022\n",
            "epoch: 1346 loss: 0.22258350253105164\n",
            "epoch: 1347 loss: 0.2225046306848526\n",
            "epoch: 1348 loss: 0.22242586314678192\n",
            "epoch: 1349 loss: 0.22234714031219482\n",
            "epoch: 1350 loss: 0.2222685068845749\n",
            "epoch: 1351 loss: 0.2221899777650833\n",
            "epoch: 1352 loss: 0.2221115082502365\n",
            "epoch: 1353 loss: 0.22203314304351807\n",
            "epoch: 1354 loss: 0.2219548374414444\n",
            "epoch: 1355 loss: 0.2218766212463379\n",
            "epoch: 1356 loss: 0.22179849445819855\n",
            "epoch: 1357 loss: 0.22172041237354279\n",
            "epoch: 1358 loss: 0.22164244949817657\n",
            "epoch: 1359 loss: 0.22156457602977753\n",
            "epoch: 1360 loss: 0.22148676216602325\n",
            "epoch: 1361 loss: 0.22140902280807495\n",
            "epoch: 1362 loss: 0.2213313728570938\n",
            "epoch: 1363 loss: 0.22125381231307983\n",
            "epoch: 1364 loss: 0.22117632627487183\n",
            "epoch: 1365 loss: 0.2210988998413086\n",
            "epoch: 1366 loss: 0.2210215926170349\n",
            "epoch: 1367 loss: 0.220944344997406\n",
            "epoch: 1368 loss: 0.22086720168590546\n",
            "epoch: 1369 loss: 0.2207901030778885\n",
            "epoch: 1370 loss: 0.22071309387683868\n",
            "epoch: 1371 loss: 0.22063615918159485\n",
            "epoch: 1372 loss: 0.22055931389331818\n",
            "epoch: 1373 loss: 0.22048255801200867\n",
            "epoch: 1374 loss: 0.22040587663650513\n",
            "epoch: 1375 loss: 0.22032926976680756\n",
            "epoch: 1376 loss: 0.22025270760059357\n",
            "epoch: 1377 loss: 0.22017626464366913\n",
            "epoch: 1378 loss: 0.22009991109371185\n",
            "epoch: 1379 loss: 0.22002358734607697\n",
            "epoch: 1380 loss: 0.21994739770889282\n",
            "epoch: 1381 loss: 0.21987125277519226\n",
            "epoch: 1382 loss: 0.21979521214962006\n",
            "epoch: 1383 loss: 0.21971923112869263\n",
            "epoch: 1384 loss: 0.21964332461357117\n",
            "epoch: 1385 loss: 0.21956750750541687\n",
            "epoch: 1386 loss: 0.21949175000190735\n",
            "epoch: 1387 loss: 0.2194160670042038\n",
            "epoch: 1388 loss: 0.2193404734134674\n",
            "epoch: 1389 loss: 0.21926498413085938\n",
            "epoch: 1390 loss: 0.21918955445289612\n",
            "epoch: 1391 loss: 0.21911416947841644\n",
            "epoch: 1392 loss: 0.21903888881206512\n",
            "epoch: 1393 loss: 0.21896369755268097\n",
            "epoch: 1394 loss: 0.2188885509967804\n",
            "epoch: 1395 loss: 0.2188134789466858\n",
            "epoch: 1396 loss: 0.21873849630355835\n",
            "epoch: 1397 loss: 0.21866360306739807\n",
            "epoch: 1398 loss: 0.21858881413936615\n",
            "epoch: 1399 loss: 0.21851404011249542\n",
            "epoch: 1400 loss: 0.21843937039375305\n",
            "epoch: 1401 loss: 0.21836476027965546\n",
            "epoch: 1402 loss: 0.21829023957252502\n",
            "epoch: 1403 loss: 0.21821579337120056\n",
            "epoch: 1404 loss: 0.21814143657684326\n",
            "epoch: 1405 loss: 0.21806712448596954\n",
            "epoch: 1406 loss: 0.217992901802063\n",
            "epoch: 1407 loss: 0.2179187536239624\n",
            "epoch: 1408 loss: 0.21784467995166779\n",
            "epoch: 1409 loss: 0.21777069568634033\n",
            "epoch: 1410 loss: 0.21769675612449646\n",
            "epoch: 1411 loss: 0.21762290596961975\n",
            "epoch: 1412 loss: 0.217549130320549\n",
            "epoch: 1413 loss: 0.21747542917728424\n",
            "epoch: 1414 loss: 0.21740183234214783\n",
            "epoch: 1415 loss: 0.217328280210495\n",
            "epoch: 1416 loss: 0.21725481748580933\n",
            "epoch: 1417 loss: 0.21718141436576843\n",
            "epoch: 1418 loss: 0.21710807085037231\n",
            "epoch: 1419 loss: 0.21703480184078217\n",
            "epoch: 1420 loss: 0.21696163713932037\n",
            "epoch: 1421 loss: 0.21688850224018097\n",
            "epoch: 1422 loss: 0.21681548655033112\n",
            "epoch: 1423 loss: 0.21674253046512604\n",
            "epoch: 1424 loss: 0.21666961908340454\n",
            "epoch: 1425 loss: 0.2165967971086502\n",
            "epoch: 1426 loss: 0.21652406454086304\n",
            "epoch: 1427 loss: 0.21645142138004303\n",
            "epoch: 1428 loss: 0.2163788080215454\n",
            "epoch: 1429 loss: 0.21630626916885376\n",
            "epoch: 1430 loss: 0.21623384952545166\n",
            "epoch: 1431 loss: 0.21616142988204956\n",
            "epoch: 1432 loss: 0.216089129447937\n",
            "epoch: 1433 loss: 0.21601690351963043\n",
            "epoch: 1434 loss: 0.21594470739364624\n",
            "epoch: 1435 loss: 0.2158726155757904\n",
            "epoch: 1436 loss: 0.21580061316490173\n",
            "epoch: 1437 loss: 0.21572864055633545\n",
            "epoch: 1438 loss: 0.21565675735473633\n",
            "epoch: 1439 loss: 0.21558496356010437\n",
            "epoch: 1440 loss: 0.2155132293701172\n",
            "epoch: 1441 loss: 0.21544155478477478\n",
            "epoch: 1442 loss: 0.21536998450756073\n",
            "epoch: 1443 loss: 0.21529845893383026\n",
            "epoch: 1444 loss: 0.21522700786590576\n",
            "epoch: 1445 loss: 0.21515561640262604\n",
            "epoch: 1446 loss: 0.21508432924747467\n",
            "epoch: 1447 loss: 0.21501308679580688\n",
            "epoch: 1448 loss: 0.21494188904762268\n",
            "epoch: 1449 loss: 0.21487078070640564\n",
            "epoch: 1450 loss: 0.21479976177215576\n",
            "epoch: 1451 loss: 0.21472878754138947\n",
            "epoch: 1452 loss: 0.21465791761875153\n",
            "epoch: 1453 loss: 0.21458706259727478\n",
            "epoch: 1454 loss: 0.21451635658740997\n",
            "epoch: 1455 loss: 0.21444563567638397\n",
            "epoch: 1456 loss: 0.21437503397464752\n",
            "epoch: 1457 loss: 0.21430449187755585\n",
            "epoch: 1458 loss: 0.21423402428627014\n",
            "epoch: 1459 loss: 0.2141636312007904\n",
            "epoch: 1460 loss: 0.21409325301647186\n",
            "epoch: 1461 loss: 0.21402299404144287\n",
            "epoch: 1462 loss: 0.21395280957221985\n",
            "epoch: 1463 loss: 0.2138826698064804\n",
            "epoch: 1464 loss: 0.21381261944770813\n",
            "epoch: 1465 loss: 0.21374264359474182\n",
            "epoch: 1466 loss: 0.2136727124452591\n",
            "epoch: 1467 loss: 0.21360284090042114\n",
            "epoch: 1468 loss: 0.21353305876255035\n",
            "epoch: 1469 loss: 0.21346335113048553\n",
            "epoch: 1470 loss: 0.2133936882019043\n",
            "epoch: 1471 loss: 0.21332408487796783\n",
            "epoch: 1472 loss: 0.21325458586215973\n",
            "epoch: 1473 loss: 0.2131851315498352\n",
            "epoch: 1474 loss: 0.21311575174331665\n",
            "epoch: 1475 loss: 0.21304643154144287\n",
            "epoch: 1476 loss: 0.21297718584537506\n",
            "epoch: 1477 loss: 0.21290798485279083\n",
            "epoch: 1478 loss: 0.21283887326717377\n",
            "epoch: 1479 loss: 0.21276983618736267\n",
            "epoch: 1480 loss: 0.21270085871219635\n",
            "epoch: 1481 loss: 0.212631955742836\n",
            "epoch: 1482 loss: 0.21256309747695923\n",
            "epoch: 1483 loss: 0.21249431371688843\n",
            "epoch: 1484 loss: 0.2124256193637848\n",
            "epoch: 1485 loss: 0.21235696971416473\n",
            "epoch: 1486 loss: 0.21228836476802826\n",
            "epoch: 1487 loss: 0.21221984922885895\n",
            "epoch: 1488 loss: 0.2121514081954956\n",
            "epoch: 1489 loss: 0.21208304166793823\n",
            "epoch: 1490 loss: 0.21201471984386444\n",
            "epoch: 1491 loss: 0.21194644272327423\n",
            "epoch: 1492 loss: 0.21187828481197357\n",
            "epoch: 1493 loss: 0.2118101716041565\n",
            "epoch: 1494 loss: 0.211742103099823\n",
            "epoch: 1495 loss: 0.21167409420013428\n",
            "epoch: 1496 loss: 0.21160617470741272\n",
            "epoch: 1497 loss: 0.21153831481933594\n",
            "epoch: 1498 loss: 0.21147054433822632\n",
            "epoch: 1499 loss: 0.2114027738571167\n",
            "epoch: 1500 loss: 0.21133510768413544\n",
            "epoch: 1501 loss: 0.21126753091812134\n",
            "epoch: 1502 loss: 0.21120001375675201\n",
            "epoch: 1503 loss: 0.21113252639770508\n",
            "epoch: 1504 loss: 0.2110651433467865\n",
            "epoch: 1505 loss: 0.2109977751970291\n",
            "epoch: 1506 loss: 0.21093052625656128\n",
            "epoch: 1507 loss: 0.21086329221725464\n",
            "epoch: 1508 loss: 0.21079614758491516\n",
            "epoch: 1509 loss: 0.21072904765605927\n",
            "epoch: 1510 loss: 0.21066203713417053\n",
            "epoch: 1511 loss: 0.21059507131576538\n",
            "epoch: 1512 loss: 0.2105281800031662\n",
            "epoch: 1513 loss: 0.2104613482952118\n",
            "epoch: 1514 loss: 0.21039457619190216\n",
            "epoch: 1515 loss: 0.2103278785943985\n",
            "epoch: 1516 loss: 0.21026122570037842\n",
            "epoch: 1517 loss: 0.2101946622133255\n",
            "epoch: 1518 loss: 0.21012812852859497\n",
            "epoch: 1519 loss: 0.2100616991519928\n",
            "epoch: 1520 loss: 0.2099953144788742\n",
            "epoch: 1521 loss: 0.2099289894104004\n",
            "epoch: 1522 loss: 0.20986270904541016\n",
            "epoch: 1523 loss: 0.2097965031862259\n",
            "epoch: 1524 loss: 0.2097303718328476\n",
            "epoch: 1525 loss: 0.20966432988643646\n",
            "epoch: 1526 loss: 0.20959827303886414\n",
            "epoch: 1527 loss: 0.20953233540058136\n",
            "epoch: 1528 loss: 0.20946645736694336\n",
            "epoch: 1529 loss: 0.20940060913562775\n",
            "epoch: 1530 loss: 0.2093348652124405\n",
            "epoch: 1531 loss: 0.20926916599273682\n",
            "epoch: 1532 loss: 0.20920352637767792\n",
            "epoch: 1533 loss: 0.2091379314661026\n",
            "epoch: 1534 loss: 0.20907241106033325\n",
            "epoch: 1535 loss: 0.20900693535804749\n",
            "epoch: 1536 loss: 0.20894157886505127\n",
            "epoch: 1537 loss: 0.20887620747089386\n",
            "epoch: 1538 loss: 0.208810955286026\n",
            "epoch: 1539 loss: 0.20874574780464172\n",
            "epoch: 1540 loss: 0.20868061482906342\n",
            "epoch: 1541 loss: 0.2086154967546463\n",
            "epoch: 1542 loss: 0.20855046808719635\n",
            "epoch: 1543 loss: 0.20848551392555237\n",
            "epoch: 1544 loss: 0.20842061936855316\n",
            "epoch: 1545 loss: 0.20835575461387634\n",
            "epoch: 1546 loss: 0.2082909643650055\n",
            "epoch: 1547 loss: 0.20822621881961823\n",
            "epoch: 1548 loss: 0.20816157758235931\n",
            "epoch: 1549 loss: 0.20809698104858398\n",
            "epoch: 1550 loss: 0.20803239941596985\n",
            "epoch: 1551 loss: 0.20796795189380646\n",
            "epoch: 1552 loss: 0.20790347456932068\n",
            "epoch: 1553 loss: 0.20783914625644684\n",
            "epoch: 1554 loss: 0.2077748328447342\n",
            "epoch: 1555 loss: 0.20771059393882751\n",
            "epoch: 1556 loss: 0.2076464146375656\n",
            "epoch: 1557 loss: 0.2075822651386261\n",
            "epoch: 1558 loss: 0.20751819014549255\n",
            "epoch: 1559 loss: 0.2074541598558426\n",
            "epoch: 1560 loss: 0.2073902189731598\n",
            "epoch: 1561 loss: 0.20732635259628296\n",
            "epoch: 1562 loss: 0.2072625309228897\n",
            "epoch: 1563 loss: 0.20719875395298004\n",
            "epoch: 1564 loss: 0.20713502168655396\n",
            "epoch: 1565 loss: 0.20707137882709503\n",
            "epoch: 1566 loss: 0.2070077657699585\n",
            "epoch: 1567 loss: 0.20694425702095032\n",
            "epoch: 1568 loss: 0.20688077807426453\n",
            "epoch: 1569 loss: 0.20681734383106232\n",
            "epoch: 1570 loss: 0.2067539542913437\n",
            "epoch: 1571 loss: 0.20669066905975342\n",
            "epoch: 1572 loss: 0.20662741363048553\n",
            "epoch: 1573 loss: 0.20656423270702362\n",
            "epoch: 1574 loss: 0.2065010964870453\n",
            "epoch: 1575 loss: 0.20643800497055054\n",
            "epoch: 1576 loss: 0.20637500286102295\n",
            "epoch: 1577 loss: 0.20631206035614014\n",
            "epoch: 1578 loss: 0.2062491625547409\n",
            "epoch: 1579 loss: 0.20618629455566406\n",
            "epoch: 1580 loss: 0.20612353086471558\n",
            "epoch: 1581 loss: 0.20606081187725067\n",
            "epoch: 1582 loss: 0.20599815249443054\n",
            "epoch: 1583 loss: 0.2059355229139328\n",
            "epoch: 1584 loss: 0.20587296783924103\n",
            "epoch: 1585 loss: 0.20581048727035522\n",
            "epoch: 1586 loss: 0.20574802160263062\n",
            "epoch: 1587 loss: 0.20568567514419556\n",
            "epoch: 1588 loss: 0.2056232988834381\n",
            "epoch: 1589 loss: 0.2055610716342926\n",
            "epoch: 1590 loss: 0.2054988294839859\n",
            "epoch: 1591 loss: 0.20543666183948517\n",
            "epoch: 1592 loss: 0.2053745687007904\n",
            "epoch: 1593 loss: 0.20531250536441803\n",
            "epoch: 1594 loss: 0.205250546336174\n",
            "epoch: 1595 loss: 0.2051886022090912\n",
            "epoch: 1596 loss: 0.20512671768665314\n",
            "epoch: 1597 loss: 0.20506490767002106\n",
            "epoch: 1598 loss: 0.20500312745571136\n",
            "epoch: 1599 loss: 0.20494142174720764\n",
            "epoch: 1600 loss: 0.2048797756433487\n",
            "epoch: 1601 loss: 0.20481818914413452\n",
            "epoch: 1602 loss: 0.20475666224956512\n",
            "epoch: 1603 loss: 0.20469516515731812\n",
            "epoch: 1604 loss: 0.20463372766971588\n",
            "epoch: 1605 loss: 0.2045723795890808\n",
            "epoch: 1606 loss: 0.20451103150844574\n",
            "epoch: 1607 loss: 0.20444978773593903\n",
            "epoch: 1608 loss: 0.2043885588645935\n",
            "epoch: 1609 loss: 0.20432738959789276\n",
            "epoch: 1610 loss: 0.20426632463932037\n",
            "epoch: 1611 loss: 0.20420525968074799\n",
            "epoch: 1612 loss: 0.20414428412914276\n",
            "epoch: 1613 loss: 0.20408332347869873\n",
            "epoch: 1614 loss: 0.20402246713638306\n",
            "epoch: 1615 loss: 0.20396165549755096\n",
            "epoch: 1616 loss: 0.20390088856220245\n",
            "epoch: 1617 loss: 0.20384016633033752\n",
            "epoch: 1618 loss: 0.20377950370311737\n",
            "epoch: 1619 loss: 0.20371891558170319\n",
            "epoch: 1620 loss: 0.203658327460289\n",
            "epoch: 1621 loss: 0.20359782874584198\n",
            "epoch: 1622 loss: 0.20353740453720093\n",
            "epoch: 1623 loss: 0.20347702503204346\n",
            "epoch: 1624 loss: 0.20341667532920837\n",
            "epoch: 1625 loss: 0.20335638523101807\n",
            "epoch: 1626 loss: 0.20329618453979492\n",
            "epoch: 1627 loss: 0.20323598384857178\n",
            "epoch: 1628 loss: 0.2031758725643158\n",
            "epoch: 1629 loss: 0.2031158059835434\n",
            "epoch: 1630 loss: 0.20305578410625458\n",
            "epoch: 1631 loss: 0.20299582183361053\n",
            "epoch: 1632 loss: 0.20293591916561127\n",
            "epoch: 1633 loss: 0.2028760462999344\n",
            "epoch: 1634 loss: 0.20281626284122467\n",
            "epoch: 1635 loss: 0.20275647938251495\n",
            "epoch: 1636 loss: 0.2026968002319336\n",
            "epoch: 1637 loss: 0.20263713598251343\n",
            "epoch: 1638 loss: 0.20257754623889923\n",
            "epoch: 1639 loss: 0.202518031001091\n",
            "epoch: 1640 loss: 0.20245856046676636\n",
            "epoch: 1641 loss: 0.2023991197347641\n",
            "epoch: 1642 loss: 0.20233972370624542\n",
            "epoch: 1643 loss: 0.20228040218353271\n",
            "epoch: 1644 loss: 0.2022211253643036\n",
            "epoch: 1645 loss: 0.20216192305088043\n",
            "epoch: 1646 loss: 0.20210273563861847\n",
            "epoch: 1647 loss: 0.20204365253448486\n",
            "epoch: 1648 loss: 0.20198458433151245\n",
            "epoch: 1649 loss: 0.20192556083202362\n",
            "epoch: 1650 loss: 0.20186661183834076\n",
            "epoch: 1651 loss: 0.20180769264698029\n",
            "epoch: 1652 loss: 0.2017488330602646\n",
            "epoch: 1653 loss: 0.20169001817703247\n",
            "epoch: 1654 loss: 0.20163127779960632\n",
            "epoch: 1655 loss: 0.20157256722450256\n",
            "epoch: 1656 loss: 0.20151394605636597\n",
            "epoch: 1657 loss: 0.20145532488822937\n",
            "epoch: 1658 loss: 0.20139679312705994\n",
            "epoch: 1659 loss: 0.2013382762670517\n",
            "epoch: 1660 loss: 0.20127984881401062\n",
            "epoch: 1661 loss: 0.20122142136096954\n",
            "epoch: 1662 loss: 0.20116309821605682\n",
            "epoch: 1663 loss: 0.2011047899723053\n",
            "epoch: 1664 loss: 0.20104655623435974\n",
            "epoch: 1665 loss: 0.20098838210105896\n",
            "epoch: 1666 loss: 0.20093025267124176\n",
            "epoch: 1667 loss: 0.20087213814258575\n",
            "epoch: 1668 loss: 0.2008141130208969\n",
            "epoch: 1669 loss: 0.20075611770153046\n",
            "epoch: 1670 loss: 0.20069818198680878\n",
            "epoch: 1671 loss: 0.20064029097557068\n",
            "epoch: 1672 loss: 0.20058245956897736\n",
            "epoch: 1673 loss: 0.20052467286586761\n",
            "epoch: 1674 loss: 0.20046693086624146\n",
            "epoch: 1675 loss: 0.20040926337242126\n",
            "epoch: 1676 loss: 0.20035162568092346\n",
            "epoch: 1677 loss: 0.20029401779174805\n",
            "epoch: 1678 loss: 0.2002364993095398\n",
            "epoch: 1679 loss: 0.20017902553081512\n",
            "epoch: 1680 loss: 0.20012161135673523\n",
            "epoch: 1681 loss: 0.20006418228149414\n",
            "epoch: 1682 loss: 0.20000684261322021\n",
            "epoch: 1683 loss: 0.19994956254959106\n",
            "epoch: 1684 loss: 0.1998923271894455\n",
            "epoch: 1685 loss: 0.1998351514339447\n",
            "epoch: 1686 loss: 0.19977796077728271\n",
            "epoch: 1687 loss: 0.19972090423107147\n",
            "epoch: 1688 loss: 0.19966384768486023\n",
            "epoch: 1689 loss: 0.19960683584213257\n",
            "epoch: 1690 loss: 0.19954992830753326\n",
            "epoch: 1691 loss: 0.19949302077293396\n",
            "epoch: 1692 loss: 0.19943618774414062\n",
            "epoch: 1693 loss: 0.19937939941883087\n",
            "epoch: 1694 loss: 0.1993226408958435\n",
            "epoch: 1695 loss: 0.19926594197750092\n",
            "epoch: 1696 loss: 0.1992092877626419\n",
            "epoch: 1697 loss: 0.19915272295475006\n",
            "epoch: 1698 loss: 0.19909614324569702\n",
            "epoch: 1699 loss: 0.19903963804244995\n",
            "epoch: 1700 loss: 0.19898317754268646\n",
            "epoch: 1701 loss: 0.19892677664756775\n",
            "epoch: 1702 loss: 0.19887040555477142\n",
            "epoch: 1703 loss: 0.19881410896778107\n",
            "epoch: 1704 loss: 0.1987578421831131\n",
            "epoch: 1705 loss: 0.1987016350030899\n",
            "epoch: 1706 loss: 0.1986454427242279\n",
            "epoch: 1707 loss: 0.19858933985233307\n",
            "epoch: 1708 loss: 0.19853326678276062\n",
            "epoch: 1709 loss: 0.19847725331783295\n",
            "epoch: 1710 loss: 0.19842129945755005\n",
            "epoch: 1711 loss: 0.19836536049842834\n",
            "epoch: 1712 loss: 0.19830948114395142\n",
            "epoch: 1713 loss: 0.19825364649295807\n",
            "epoch: 1714 loss: 0.1981978416442871\n",
            "epoch: 1715 loss: 0.1981421262025833\n",
            "epoch: 1716 loss: 0.1980864405632019\n",
            "epoch: 1717 loss: 0.19803079962730408\n",
            "epoch: 1718 loss: 0.19797520339488983\n",
            "epoch: 1719 loss: 0.19791965186595917\n",
            "epoch: 1720 loss: 0.19786414504051208\n",
            "epoch: 1721 loss: 0.19780869781970978\n",
            "epoch: 1722 loss: 0.19775331020355225\n",
            "epoch: 1723 loss: 0.19769792258739471\n",
            "epoch: 1724 loss: 0.19764260947704315\n",
            "epoch: 1725 loss: 0.19758735597133636\n",
            "epoch: 1726 loss: 0.19753211736679077\n",
            "epoch: 1727 loss: 0.19747695326805115\n",
            "epoch: 1728 loss: 0.1974218338727951\n",
            "epoch: 1729 loss: 0.19736675918102264\n",
            "epoch: 1730 loss: 0.19731174409389496\n",
            "epoch: 1731 loss: 0.19725674390792847\n",
            "epoch: 1732 loss: 0.19720178842544556\n",
            "epoch: 1733 loss: 0.19714690744876862\n",
            "epoch: 1734 loss: 0.19709207117557526\n",
            "epoch: 1735 loss: 0.1970372349023819\n",
            "epoch: 1736 loss: 0.1969824731349945\n",
            "epoch: 1737 loss: 0.19692780077457428\n",
            "epoch: 1738 loss: 0.19687311351299286\n",
            "epoch: 1739 loss: 0.1968185007572174\n",
            "epoch: 1740 loss: 0.19676393270492554\n",
            "epoch: 1741 loss: 0.19670942425727844\n",
            "epoch: 1742 loss: 0.19665493071079254\n",
            "epoch: 1743 loss: 0.19660048186779022\n",
            "epoch: 1744 loss: 0.19654612243175507\n",
            "epoch: 1745 loss: 0.1964917629957199\n",
            "epoch: 1746 loss: 0.19643744826316833\n",
            "epoch: 1747 loss: 0.19638319313526154\n",
            "epoch: 1748 loss: 0.1963290274143219\n",
            "epoch: 1749 loss: 0.19627484679222107\n",
            "epoch: 1750 loss: 0.19622072577476501\n",
            "epoch: 1751 loss: 0.19616664946079254\n",
            "epoch: 1752 loss: 0.19611264765262604\n",
            "epoch: 1753 loss: 0.19605867564678192\n",
            "epoch: 1754 loss: 0.196004718542099\n",
            "epoch: 1755 loss: 0.19595083594322205\n",
            "epoch: 1756 loss: 0.19589701294898987\n",
            "epoch: 1757 loss: 0.1958431750535965\n",
            "epoch: 1758 loss: 0.1957894116640091\n",
            "epoch: 1759 loss: 0.19573572278022766\n",
            "epoch: 1760 loss: 0.19568204879760742\n",
            "epoch: 1761 loss: 0.19562841951847076\n",
            "epoch: 1762 loss: 0.1955748349428177\n",
            "epoch: 1763 loss: 0.1955213099718094\n",
            "epoch: 1764 loss: 0.19546781480312347\n",
            "epoch: 1765 loss: 0.19541434943675995\n",
            "epoch: 1766 loss: 0.19536098837852478\n",
            "epoch: 1767 loss: 0.19530759751796722\n",
            "epoch: 1768 loss: 0.19525428116321564\n",
            "epoch: 1769 loss: 0.19520103931427002\n",
            "epoch: 1770 loss: 0.1951477974653244\n",
            "epoch: 1771 loss: 0.19509463012218475\n",
            "epoch: 1772 loss: 0.1950415074825287\n",
            "epoch: 1773 loss: 0.1949883997440338\n",
            "epoch: 1774 loss: 0.1949353665113449\n",
            "epoch: 1775 loss: 0.194882333278656\n",
            "epoch: 1776 loss: 0.19482937455177307\n",
            "epoch: 1777 loss: 0.1947764754295349\n",
            "epoch: 1778 loss: 0.19472359120845795\n",
            "epoch: 1779 loss: 0.19467076659202576\n",
            "epoch: 1780 loss: 0.19461800158023834\n",
            "epoch: 1781 loss: 0.19456522166728973\n",
            "epoch: 1782 loss: 0.1945125162601471\n",
            "epoch: 1783 loss: 0.19445987045764923\n",
            "epoch: 1784 loss: 0.19440725445747375\n",
            "epoch: 1785 loss: 0.19435468316078186\n",
            "epoch: 1786 loss: 0.19430217146873474\n",
            "epoch: 1787 loss: 0.19424968957901\n",
            "epoch: 1788 loss: 0.19419723749160767\n",
            "epoch: 1789 loss: 0.1941448450088501\n",
            "epoch: 1790 loss: 0.1940924972295761\n",
            "epoch: 1791 loss: 0.1940401792526245\n",
            "epoch: 1792 loss: 0.1939879208803177\n",
            "epoch: 1793 loss: 0.19393569231033325\n",
            "epoch: 1794 loss: 0.1938834935426712\n",
            "epoch: 1795 loss: 0.19383136928081512\n",
            "epoch: 1796 loss: 0.19377924501895905\n",
            "epoch: 1797 loss: 0.19372719526290894\n",
            "epoch: 1798 loss: 0.1936751902103424\n",
            "epoch: 1799 loss: 0.19362320005893707\n",
            "epoch: 1800 loss: 0.1935712844133377\n",
            "epoch: 1801 loss: 0.19351939857006073\n",
            "epoch: 1802 loss: 0.19346755743026733\n",
            "epoch: 1803 loss: 0.19341576099395752\n",
            "epoch: 1804 loss: 0.1933639645576477\n",
            "epoch: 1805 loss: 0.19331228733062744\n",
            "epoch: 1806 loss: 0.1932605803012848\n",
            "epoch: 1807 loss: 0.1932089477777481\n",
            "epoch: 1808 loss: 0.1931573748588562\n",
            "epoch: 1809 loss: 0.1931058168411255\n",
            "epoch: 1810 loss: 0.19305428862571716\n",
            "epoch: 1811 loss: 0.1930028349161148\n",
            "epoch: 1812 loss: 0.19295139610767365\n",
            "epoch: 1813 loss: 0.19290000200271606\n",
            "epoch: 1814 loss: 0.19284868240356445\n",
            "epoch: 1815 loss: 0.19279739260673523\n",
            "epoch: 1816 loss: 0.1927461177110672\n",
            "epoch: 1817 loss: 0.19269488751888275\n",
            "epoch: 1818 loss: 0.19264371693134308\n",
            "epoch: 1819 loss: 0.1925925761461258\n",
            "epoch: 1820 loss: 0.19254150986671448\n",
            "epoch: 1821 loss: 0.19249045848846436\n",
            "epoch: 1822 loss: 0.19243943691253662\n",
            "epoch: 1823 loss: 0.19238847494125366\n",
            "epoch: 1824 loss: 0.1923375278711319\n",
            "epoch: 1825 loss: 0.1922866702079773\n",
            "epoch: 1826 loss: 0.1922358125448227\n",
            "epoch: 1827 loss: 0.19218498468399048\n",
            "epoch: 1828 loss: 0.19213420152664185\n",
            "epoch: 1829 loss: 0.19208350777626038\n",
            "epoch: 1830 loss: 0.1920328289270401\n",
            "epoch: 1831 loss: 0.1919821947813034\n",
            "epoch: 1832 loss: 0.19193154573440552\n",
            "epoch: 1833 loss: 0.1918809860944748\n",
            "epoch: 1834 loss: 0.19183045625686646\n",
            "epoch: 1835 loss: 0.1917800009250641\n",
            "epoch: 1836 loss: 0.19172954559326172\n",
            "epoch: 1837 loss: 0.19167914986610413\n",
            "epoch: 1838 loss: 0.19162878394126892\n",
            "epoch: 1839 loss: 0.1915784627199173\n",
            "epoch: 1840 loss: 0.19152820110321045\n",
            "epoch: 1841 loss: 0.191477969288826\n",
            "epoch: 1842 loss: 0.19142776727676392\n",
            "epoch: 1843 loss: 0.19137758016586304\n",
            "epoch: 1844 loss: 0.19132745265960693\n",
            "epoch: 1845 loss: 0.1912773847579956\n",
            "epoch: 1846 loss: 0.19122736155986786\n",
            "epoch: 1847 loss: 0.1911773532629013\n",
            "epoch: 1848 loss: 0.19112737476825714\n",
            "epoch: 1849 loss: 0.19107745587825775\n",
            "epoch: 1850 loss: 0.19102758169174194\n",
            "epoch: 1851 loss: 0.19097772240638733\n",
            "epoch: 1852 loss: 0.1909279227256775\n",
            "epoch: 1853 loss: 0.19087818264961243\n",
            "epoch: 1854 loss: 0.19082845747470856\n",
            "epoch: 1855 loss: 0.19077874720096588\n",
            "epoch: 1856 loss: 0.19072909653186798\n",
            "epoch: 1857 loss: 0.19067950546741486\n",
            "epoch: 1858 loss: 0.19062994420528412\n",
            "epoch: 1859 loss: 0.19058042764663696\n",
            "epoch: 1860 loss: 0.1905309110879898\n",
            "epoch: 1861 loss: 0.19048145413398743\n",
            "epoch: 1862 loss: 0.19043205678462982\n",
            "epoch: 1863 loss: 0.1903826743364334\n",
            "epoch: 1864 loss: 0.19033336639404297\n",
            "epoch: 1865 loss: 0.19028405845165253\n",
            "epoch: 1866 loss: 0.19023481011390686\n",
            "epoch: 1867 loss: 0.19018560647964478\n",
            "epoch: 1868 loss: 0.19013641774654388\n",
            "epoch: 1869 loss: 0.19008727371692657\n",
            "epoch: 1870 loss: 0.19003818929195404\n",
            "epoch: 1871 loss: 0.1899891346693039\n",
            "epoch: 1872 loss: 0.18994009494781494\n",
            "epoch: 1873 loss: 0.18989111483097076\n",
            "epoch: 1874 loss: 0.18984217941761017\n",
            "epoch: 1875 loss: 0.18979328870773315\n",
            "epoch: 1876 loss: 0.18974441289901733\n",
            "epoch: 1877 loss: 0.1896955519914627\n",
            "epoch: 1878 loss: 0.18964676558971405\n",
            "epoch: 1879 loss: 0.18959802389144897\n",
            "epoch: 1880 loss: 0.1895493119955063\n",
            "epoch: 1881 loss: 0.189500629901886\n",
            "epoch: 1882 loss: 0.18945199251174927\n",
            "epoch: 1883 loss: 0.18940339982509613\n",
            "epoch: 1884 loss: 0.1893548220396042\n",
            "epoch: 1885 loss: 0.1893063336610794\n",
            "epoch: 1886 loss: 0.18925781548023224\n",
            "epoch: 1887 loss: 0.18920937180519104\n",
            "epoch: 1888 loss: 0.18916095793247223\n",
            "epoch: 1889 loss: 0.189112588763237\n",
            "epoch: 1890 loss: 0.18906424939632416\n",
            "epoch: 1891 loss: 0.1890159398317337\n",
            "epoch: 1892 loss: 0.18896768987178802\n",
            "epoch: 1893 loss: 0.18891946971416473\n",
            "epoch: 1894 loss: 0.18887126445770264\n",
            "epoch: 1895 loss: 0.1888231337070465\n",
            "epoch: 1896 loss: 0.18877501785755157\n",
            "epoch: 1897 loss: 0.18872694671154022\n",
            "epoch: 1898 loss: 0.18867892026901245\n",
            "epoch: 1899 loss: 0.18863090872764587\n",
            "epoch: 1900 loss: 0.18858294188976288\n",
            "epoch: 1901 loss: 0.18853503465652466\n",
            "epoch: 1902 loss: 0.18848711252212524\n",
            "epoch: 1903 loss: 0.1884392946958542\n",
            "epoch: 1904 loss: 0.18839146196842194\n",
            "epoch: 1905 loss: 0.18834370374679565\n",
            "epoch: 1906 loss: 0.18829596042633057\n",
            "epoch: 1907 loss: 0.18824827671051025\n",
            "epoch: 1908 loss: 0.18820056319236755\n",
            "epoch: 1909 loss: 0.18815292418003082\n",
            "epoch: 1910 loss: 0.18810537457466125\n",
            "epoch: 1911 loss: 0.1880578100681305\n",
            "epoch: 1912 loss: 0.1880102902650833\n",
            "epoch: 1913 loss: 0.18796278536319733\n",
            "epoch: 1914 loss: 0.18791534006595612\n",
            "epoch: 1915 loss: 0.18786796927452087\n",
            "epoch: 1916 loss: 0.18782056868076324\n",
            "epoch: 1917 loss: 0.1877732276916504\n",
            "epoch: 1918 loss: 0.18772593140602112\n",
            "epoch: 1919 loss: 0.18767866492271423\n",
            "epoch: 1920 loss: 0.18763142824172974\n",
            "epoch: 1921 loss: 0.18758425116539001\n",
            "epoch: 1922 loss: 0.18753710389137268\n",
            "epoch: 1923 loss: 0.18748998641967773\n",
            "epoch: 1924 loss: 0.18744289875030518\n",
            "epoch: 1925 loss: 0.1873958557844162\n",
            "epoch: 1926 loss: 0.18734882771968842\n",
            "epoch: 1927 loss: 0.1873018890619278\n",
            "epoch: 1928 loss: 0.1872549206018448\n",
            "epoch: 1929 loss: 0.18720802664756775\n",
            "epoch: 1930 loss: 0.1871611624956131\n",
            "epoch: 1931 loss: 0.18711431324481964\n",
            "epoch: 1932 loss: 0.18706755340099335\n",
            "epoch: 1933 loss: 0.18702076375484467\n",
            "epoch: 1934 loss: 0.18697404861450195\n",
            "epoch: 1935 loss: 0.18692736327648163\n",
            "epoch: 1936 loss: 0.1868807077407837\n",
            "epoch: 1937 loss: 0.18683408200740814\n",
            "epoch: 1938 loss: 0.18678751587867737\n",
            "epoch: 1939 loss: 0.1867409646511078\n",
            "epoch: 1940 loss: 0.1866944432258606\n",
            "epoch: 1941 loss: 0.18664796650409698\n",
            "epoch: 1942 loss: 0.18660154938697815\n",
            "epoch: 1943 loss: 0.18655513226985931\n",
            "epoch: 1944 loss: 0.18650877475738525\n",
            "epoch: 1945 loss: 0.1864624172449112\n",
            "epoch: 1946 loss: 0.1864161342382431\n",
            "epoch: 1947 loss: 0.1863698810338974\n",
            "epoch: 1948 loss: 0.1863236427307129\n",
            "epoch: 1949 loss: 0.18627744913101196\n",
            "epoch: 1950 loss: 0.18623128533363342\n",
            "epoch: 1951 loss: 0.18618516623973846\n",
            "epoch: 1952 loss: 0.1861390620470047\n",
            "epoch: 1953 loss: 0.1860930323600769\n",
            "epoch: 1954 loss: 0.1860470026731491\n",
            "epoch: 1955 loss: 0.1860010176897049\n",
            "epoch: 1956 loss: 0.18595506250858307\n",
            "epoch: 1957 loss: 0.18590913712978363\n",
            "epoch: 1958 loss: 0.18586327135562897\n",
            "epoch: 1959 loss: 0.1858174204826355\n",
            "epoch: 1960 loss: 0.1857716143131256\n",
            "epoch: 1961 loss: 0.18572582304477692\n",
            "epoch: 1962 loss: 0.185680091381073\n",
            "epoch: 1963 loss: 0.18563438951969147\n",
            "epoch: 1964 loss: 0.18558870255947113\n",
            "epoch: 1965 loss: 0.18554304540157318\n",
            "epoch: 1966 loss: 0.1854974627494812\n",
            "epoch: 1967 loss: 0.18545186519622803\n",
            "epoch: 1968 loss: 0.18540632724761963\n",
            "epoch: 1969 loss: 0.1853608340024948\n",
            "epoch: 1970 loss: 0.18531538546085358\n",
            "epoch: 1971 loss: 0.18526995182037354\n",
            "epoch: 1972 loss: 0.1852245330810547\n",
            "epoch: 1973 loss: 0.18517917394638062\n",
            "epoch: 1974 loss: 0.18513385951519012\n",
            "epoch: 1975 loss: 0.18508854508399963\n",
            "epoch: 1976 loss: 0.18504327535629272\n",
            "epoch: 1977 loss: 0.184998020529747\n",
            "epoch: 1978 loss: 0.18495285511016846\n",
            "epoch: 1979 loss: 0.18490765988826752\n",
            "epoch: 1980 loss: 0.18486253917217255\n",
            "epoch: 1981 loss: 0.18481746315956116\n",
            "epoch: 1982 loss: 0.18477237224578857\n",
            "epoch: 1983 loss: 0.18472734093666077\n",
            "epoch: 1984 loss: 0.18468235433101654\n",
            "epoch: 1985 loss: 0.1846374124288559\n",
            "epoch: 1986 loss: 0.18459247052669525\n",
            "epoch: 1987 loss: 0.184547558426857\n",
            "epoch: 1988 loss: 0.18450269103050232\n",
            "epoch: 1989 loss: 0.1844578981399536\n",
            "epoch: 1990 loss: 0.1844130903482437\n",
            "epoch: 1991 loss: 0.1843683272600174\n",
            "epoch: 1992 loss: 0.18432360887527466\n",
            "epoch: 1993 loss: 0.18427890539169312\n",
            "epoch: 1994 loss: 0.18423423171043396\n",
            "epoch: 1995 loss: 0.18418961763381958\n",
            "epoch: 1996 loss: 0.18414504826068878\n",
            "epoch: 1997 loss: 0.1841004490852356\n",
            "epoch: 1998 loss: 0.18405593931674957\n",
            "epoch: 1999 loss: 0.18401144444942474\n",
            "epoch: 2000 loss: 0.1839669793844223\n",
            "epoch: 2001 loss: 0.18392255902290344\n",
            "epoch: 2002 loss: 0.18387813866138458\n",
            "epoch: 2003 loss: 0.18383380770683289\n",
            "epoch: 2004 loss: 0.1837894469499588\n",
            "epoch: 2005 loss: 0.18374516069889069\n",
            "epoch: 2006 loss: 0.18370085954666138\n",
            "epoch: 2007 loss: 0.18365664780139923\n",
            "epoch: 2008 loss: 0.18361243605613708\n",
            "epoch: 2009 loss: 0.18356828391551971\n",
            "epoch: 2010 loss: 0.18352413177490234\n",
            "epoch: 2011 loss: 0.18348005414009094\n",
            "epoch: 2012 loss: 0.18343597650527954\n",
            "epoch: 2013 loss: 0.18339192867279053\n",
            "epoch: 2014 loss: 0.1833479255437851\n",
            "epoch: 2015 loss: 0.18330396711826324\n",
            "epoch: 2016 loss: 0.1832600086927414\n",
            "epoch: 2017 loss: 0.18321610987186432\n",
            "epoch: 2018 loss: 0.18317224085330963\n",
            "epoch: 2019 loss: 0.18312840163707733\n",
            "epoch: 2020 loss: 0.1830846071243286\n",
            "epoch: 2021 loss: 0.1830407977104187\n",
            "epoch: 2022 loss: 0.18299703299999237\n",
            "epoch: 2023 loss: 0.18295331299304962\n",
            "epoch: 2024 loss: 0.18290963768959045\n",
            "epoch: 2025 loss: 0.18286600708961487\n",
            "epoch: 2026 loss: 0.1828223615884781\n",
            "epoch: 2027 loss: 0.18277877569198608\n",
            "epoch: 2028 loss: 0.18273521959781647\n",
            "epoch: 2029 loss: 0.18269170820713043\n",
            "epoch: 2030 loss: 0.1826481968164444\n",
            "epoch: 2031 loss: 0.18260473012924194\n",
            "epoch: 2032 loss: 0.18256132304668427\n",
            "epoch: 2033 loss: 0.1825179159641266\n",
            "epoch: 2034 loss: 0.1824745386838913\n",
            "epoch: 2035 loss: 0.18243122100830078\n",
            "epoch: 2036 loss: 0.18238790333271027\n",
            "epoch: 2037 loss: 0.18234463036060333\n",
            "epoch: 2038 loss: 0.18230140209197998\n",
            "epoch: 2039 loss: 0.18225818872451782\n",
            "epoch: 2040 loss: 0.18221500515937805\n",
            "epoch: 2041 loss: 0.18217186629772186\n",
            "epoch: 2042 loss: 0.18212872743606567\n",
            "epoch: 2043 loss: 0.18208564817905426\n",
            "epoch: 2044 loss: 0.18204259872436523\n",
            "epoch: 2045 loss: 0.1819995939731598\n",
            "epoch: 2046 loss: 0.18195657432079315\n",
            "epoch: 2047 loss: 0.18191364407539368\n",
            "epoch: 2048 loss: 0.1818707138299942\n",
            "epoch: 2049 loss: 0.18182781338691711\n",
            "epoch: 2050 loss: 0.18178492784500122\n",
            "epoch: 2051 loss: 0.1817421317100525\n",
            "epoch: 2052 loss: 0.18169932067394257\n",
            "epoch: 2053 loss: 0.18165653944015503\n",
            "epoch: 2054 loss: 0.18161378800868988\n",
            "epoch: 2055 loss: 0.1815710812807083\n",
            "epoch: 2056 loss: 0.18152838945388794\n",
            "epoch: 2057 loss: 0.18148574233055115\n",
            "epoch: 2058 loss: 0.18144309520721436\n",
            "epoch: 2059 loss: 0.18140052258968353\n",
            "epoch: 2060 loss: 0.1813579797744751\n",
            "epoch: 2061 loss: 0.18131546676158905\n",
            "epoch: 2062 loss: 0.1812729686498642\n",
            "epoch: 2063 loss: 0.18123047053813934\n",
            "epoch: 2064 loss: 0.18118806183338165\n",
            "epoch: 2065 loss: 0.18114562332630157\n",
            "epoch: 2066 loss: 0.18110328912734985\n",
            "epoch: 2067 loss: 0.18106092512607574\n",
            "epoch: 2068 loss: 0.1810186207294464\n",
            "epoch: 2069 loss: 0.18097631633281708\n",
            "epoch: 2070 loss: 0.18093407154083252\n",
            "epoch: 2071 loss: 0.18089184165000916\n",
            "epoch: 2072 loss: 0.18084964156150818\n",
            "epoch: 2073 loss: 0.1808074712753296\n",
            "epoch: 2074 loss: 0.18076537549495697\n",
            "epoch: 2075 loss: 0.18072324991226196\n",
            "epoch: 2076 loss: 0.18068116903305054\n",
            "epoch: 2077 loss: 0.1806391477584839\n",
            "epoch: 2078 loss: 0.18059711158275604\n",
            "epoch: 2079 loss: 0.18055516481399536\n",
            "epoch: 2080 loss: 0.1805131882429123\n",
            "epoch: 2081 loss: 0.180471271276474\n",
            "epoch: 2082 loss: 0.1804293692111969\n",
            "epoch: 2083 loss: 0.18038751184940338\n",
            "epoch: 2084 loss: 0.18034568428993225\n",
            "epoch: 2085 loss: 0.18030387163162231\n",
            "epoch: 2086 loss: 0.18026213347911835\n",
            "epoch: 2087 loss: 0.1802203357219696\n",
            "epoch: 2088 loss: 0.1801786571741104\n",
            "epoch: 2089 loss: 0.18013696372509003\n",
            "epoch: 2090 loss: 0.18009531497955322\n",
            "epoch: 2091 loss: 0.1800536960363388\n",
            "epoch: 2092 loss: 0.18001210689544678\n",
            "epoch: 2093 loss: 0.17997053265571594\n",
            "epoch: 2094 loss: 0.1799289882183075\n",
            "epoch: 2095 loss: 0.17988747358322144\n",
            "epoch: 2096 loss: 0.17984600365161896\n",
            "epoch: 2097 loss: 0.17980454862117767\n",
            "epoch: 2098 loss: 0.17976313829421997\n",
            "epoch: 2099 loss: 0.17972174286842346\n",
            "epoch: 2100 loss: 0.17968036234378815\n",
            "epoch: 2101 loss: 0.1796390563249588\n",
            "epoch: 2102 loss: 0.17959773540496826\n",
            "epoch: 2103 loss: 0.1795564591884613\n",
            "epoch: 2104 loss: 0.17951522767543793\n",
            "epoch: 2105 loss: 0.17947399616241455\n",
            "epoch: 2106 loss: 0.17943282425403595\n",
            "epoch: 2107 loss: 0.17939165234565735\n",
            "epoch: 2108 loss: 0.17935052514076233\n",
            "epoch: 2109 loss: 0.1793094277381897\n",
            "epoch: 2110 loss: 0.17926836013793945\n",
            "epoch: 2111 loss: 0.1792273074388504\n",
            "epoch: 2112 loss: 0.17918629944324493\n",
            "epoch: 2113 loss: 0.17914532124996185\n",
            "epoch: 2114 loss: 0.17910437285900116\n",
            "epoch: 2115 loss: 0.17906343936920166\n",
            "epoch: 2116 loss: 0.17902253568172455\n",
            "epoch: 2117 loss: 0.17898166179656982\n",
            "epoch: 2118 loss: 0.17894083261489868\n",
            "epoch: 2119 loss: 0.17890001833438873\n",
            "epoch: 2120 loss: 0.17885923385620117\n",
            "epoch: 2121 loss: 0.178818479180336\n",
            "epoch: 2122 loss: 0.1787777543067932\n",
            "epoch: 2123 loss: 0.17873704433441162\n",
            "epoch: 2124 loss: 0.17869636416435242\n",
            "epoch: 2125 loss: 0.178655743598938\n",
            "epoch: 2126 loss: 0.17861513793468475\n",
            "epoch: 2127 loss: 0.1785745620727539\n",
            "epoch: 2128 loss: 0.17853397130966187\n",
            "epoch: 2129 loss: 0.17849348485469818\n",
            "epoch: 2130 loss: 0.1784529685974121\n",
            "epoch: 2131 loss: 0.1784125119447708\n",
            "epoch: 2132 loss: 0.17837205529212952\n",
            "epoch: 2133 loss: 0.1783316433429718\n",
            "epoch: 2134 loss: 0.17829124629497528\n",
            "epoch: 2135 loss: 0.17825090885162354\n",
            "epoch: 2136 loss: 0.17821058630943298\n",
            "epoch: 2137 loss: 0.17817026376724243\n",
            "epoch: 2138 loss: 0.17812997102737427\n",
            "epoch: 2139 loss: 0.17808975279331207\n",
            "epoch: 2140 loss: 0.17804954946041107\n",
            "epoch: 2141 loss: 0.17800933122634888\n",
            "epoch: 2142 loss: 0.17796917259693146\n",
            "epoch: 2143 loss: 0.17792905867099762\n",
            "epoch: 2144 loss: 0.17788894474506378\n",
            "epoch: 2145 loss: 0.17784887552261353\n",
            "epoch: 2146 loss: 0.17780882120132446\n",
            "epoch: 2147 loss: 0.1777687817811966\n",
            "epoch: 2148 loss: 0.1777288317680359\n",
            "epoch: 2149 loss: 0.1776888519525528\n",
            "epoch: 2150 loss: 0.17764893174171448\n",
            "epoch: 2151 loss: 0.17760898172855377\n",
            "epoch: 2152 loss: 0.17756909132003784\n",
            "epoch: 2153 loss: 0.1775292456150055\n",
            "epoch: 2154 loss: 0.17748941481113434\n",
            "epoch: 2155 loss: 0.17744961380958557\n",
            "epoch: 2156 loss: 0.1774098426103592\n",
            "epoch: 2157 loss: 0.177370086312294\n",
            "epoch: 2158 loss: 0.1773303747177124\n",
            "epoch: 2159 loss: 0.17729069292545319\n",
            "epoch: 2160 loss: 0.17725101113319397\n",
            "epoch: 2161 loss: 0.17721140384674072\n",
            "epoch: 2162 loss: 0.1771717667579651\n",
            "epoch: 2163 loss: 0.17713218927383423\n",
            "epoch: 2164 loss: 0.17709264159202576\n",
            "epoch: 2165 loss: 0.17705310881137848\n",
            "epoch: 2166 loss: 0.1770135909318924\n",
            "epoch: 2167 loss: 0.1769741177558899\n",
            "epoch: 2168 loss: 0.17693470418453217\n",
            "epoch: 2169 loss: 0.17689527571201324\n",
            "epoch: 2170 loss: 0.1768558919429779\n",
            "epoch: 2171 loss: 0.17681650817394257\n",
            "epoch: 2172 loss: 0.1767771691083908\n",
            "epoch: 2173 loss: 0.17673785984516144\n",
            "epoch: 2174 loss: 0.17669856548309326\n",
            "epoch: 2175 loss: 0.17665931582450867\n",
            "epoch: 2176 loss: 0.17662008106708527\n",
            "epoch: 2177 loss: 0.17658089101314545\n",
            "epoch: 2178 loss: 0.17654168605804443\n",
            "epoch: 2179 loss: 0.1765025556087494\n",
            "epoch: 2180 loss: 0.17646341025829315\n",
            "epoch: 2181 loss: 0.1764243245124817\n",
            "epoch: 2182 loss: 0.17638526856899261\n",
            "epoch: 2183 loss: 0.17634621262550354\n",
            "epoch: 2184 loss: 0.17630718648433685\n",
            "epoch: 2185 loss: 0.17626819014549255\n",
            "epoch: 2186 loss: 0.17622925341129303\n",
            "epoch: 2187 loss: 0.1761903166770935\n",
            "epoch: 2188 loss: 0.17615139484405518\n",
            "epoch: 2189 loss: 0.17611253261566162\n",
            "epoch: 2190 loss: 0.17607367038726807\n",
            "epoch: 2191 loss: 0.1760348379611969\n",
            "epoch: 2192 loss: 0.17599602043628693\n",
            "epoch: 2193 loss: 0.17595724761486053\n",
            "epoch: 2194 loss: 0.17591850459575653\n",
            "epoch: 2195 loss: 0.17587977647781372\n",
            "epoch: 2196 loss: 0.1758410632610321\n",
            "epoch: 2197 loss: 0.17580237984657288\n",
            "epoch: 2198 loss: 0.17576374113559723\n",
            "epoch: 2199 loss: 0.17572511732578278\n",
            "epoch: 2200 loss: 0.1756865382194519\n",
            "epoch: 2201 loss: 0.17564792931079865\n",
            "epoch: 2202 loss: 0.17560940980911255\n",
            "epoch: 2203 loss: 0.17557089030742645\n",
            "epoch: 2204 loss: 0.17553241550922394\n",
            "epoch: 2205 loss: 0.17549394071102142\n",
            "epoch: 2206 loss: 0.1754554957151413\n",
            "epoch: 2207 loss: 0.17541708052158356\n",
            "epoch: 2208 loss: 0.1753787100315094\n",
            "epoch: 2209 loss: 0.17534032464027405\n",
            "epoch: 2210 loss: 0.17530201375484467\n",
            "epoch: 2211 loss: 0.17526370286941528\n",
            "epoch: 2212 loss: 0.1752254068851471\n",
            "epoch: 2213 loss: 0.17518717050552368\n",
            "epoch: 2214 loss: 0.17514890432357788\n",
            "epoch: 2215 loss: 0.17511074244976044\n",
            "epoch: 2216 loss: 0.1750725358724594\n",
            "epoch: 2217 loss: 0.17503438889980316\n",
            "epoch: 2218 loss: 0.1749962419271469\n",
            "epoch: 2219 loss: 0.17495815455913544\n",
            "epoch: 2220 loss: 0.17492008209228516\n",
            "epoch: 2221 loss: 0.17488200962543488\n",
            "epoch: 2222 loss: 0.17484399676322937\n",
            "epoch: 2223 loss: 0.17480598390102386\n",
            "epoch: 2224 loss: 0.17476803064346313\n",
            "epoch: 2225 loss: 0.17473004758358002\n",
            "epoch: 2226 loss: 0.17469210922718048\n",
            "epoch: 2227 loss: 0.17465423047542572\n",
            "epoch: 2228 loss: 0.17461635172367096\n",
            "epoch: 2229 loss: 0.17457851767539978\n",
            "epoch: 2230 loss: 0.1745406985282898\n",
            "epoch: 2231 loss: 0.174502894282341\n",
            "epoch: 2232 loss: 0.1744651049375534\n",
            "epoch: 2233 loss: 0.17442737519741058\n",
            "epoch: 2234 loss: 0.17438964545726776\n",
            "epoch: 2235 loss: 0.17435194551944733\n",
            "epoch: 2236 loss: 0.17431427538394928\n",
            "epoch: 2237 loss: 0.17427663505077362\n",
            "epoch: 2238 loss: 0.17423900961875916\n",
            "epoch: 2239 loss: 0.17420142889022827\n",
            "epoch: 2240 loss: 0.1741638332605362\n",
            "epoch: 2241 loss: 0.1741262972354889\n",
            "epoch: 2242 loss: 0.1740887612104416\n",
            "epoch: 2243 loss: 0.17405126988887787\n",
            "epoch: 2244 loss: 0.17401379346847534\n",
            "epoch: 2245 loss: 0.1739763468503952\n",
            "epoch: 2246 loss: 0.17393893003463745\n",
            "epoch: 2247 loss: 0.1739015430212021\n",
            "epoch: 2248 loss: 0.17386415600776672\n",
            "epoch: 2249 loss: 0.17382681369781494\n",
            "epoch: 2250 loss: 0.17378948628902435\n",
            "epoch: 2251 loss: 0.17375217378139496\n",
            "epoch: 2252 loss: 0.17371492087841034\n",
            "epoch: 2253 loss: 0.17367765307426453\n",
            "epoch: 2254 loss: 0.1736404448747635\n",
            "epoch: 2255 loss: 0.17360323667526245\n",
            "epoch: 2256 loss: 0.1735660582780838\n",
            "epoch: 2257 loss: 0.17352892458438873\n",
            "epoch: 2258 loss: 0.17349177598953247\n",
            "epoch: 2259 loss: 0.1734546720981598\n",
            "epoch: 2260 loss: 0.1734175831079483\n",
            "epoch: 2261 loss: 0.1733805239200592\n",
            "epoch: 2262 loss: 0.1733435094356537\n",
            "epoch: 2263 loss: 0.17330650985240936\n",
            "epoch: 2264 loss: 0.17326952517032623\n",
            "epoch: 2265 loss: 0.1732325702905655\n",
            "epoch: 2266 loss: 0.17319563031196594\n",
            "epoch: 2267 loss: 0.17315872013568878\n",
            "epoch: 2268 loss: 0.173121839761734\n",
            "epoch: 2269 loss: 0.17308500409126282\n",
            "epoch: 2270 loss: 0.17304815351963043\n",
            "epoch: 2271 loss: 0.17301134765148163\n",
            "epoch: 2272 loss: 0.17297454178333282\n",
            "epoch: 2273 loss: 0.1729377955198288\n",
            "epoch: 2274 loss: 0.17290103435516357\n",
            "epoch: 2275 loss: 0.17286434769630432\n",
            "epoch: 2276 loss: 0.17282764613628387\n",
            "epoch: 2277 loss: 0.172790989279747\n",
            "epoch: 2278 loss: 0.17275434732437134\n",
            "epoch: 2279 loss: 0.17271775007247925\n",
            "epoch: 2280 loss: 0.17268113791942596\n",
            "epoch: 2281 loss: 0.17264457046985626\n",
            "epoch: 2282 loss: 0.17260803282260895\n",
            "epoch: 2283 loss: 0.17257151007652283\n",
            "epoch: 2284 loss: 0.1725350022315979\n",
            "epoch: 2285 loss: 0.17249850928783417\n",
            "epoch: 2286 loss: 0.1724620759487152\n",
            "epoch: 2287 loss: 0.17242565751075745\n",
            "epoch: 2288 loss: 0.17238925397396088\n",
            "epoch: 2289 loss: 0.1723528653383255\n",
            "epoch: 2290 loss: 0.1723165065050125\n",
            "epoch: 2291 loss: 0.1722801923751831\n",
            "epoch: 2292 loss: 0.1722438782453537\n",
            "epoch: 2293 loss: 0.17220757901668549\n",
            "epoch: 2294 loss: 0.17217132449150085\n",
            "epoch: 2295 loss: 0.1721350997686386\n",
            "epoch: 2296 loss: 0.17209886014461517\n",
            "epoch: 2297 loss: 0.1720626950263977\n",
            "epoch: 2298 loss: 0.17202654480934143\n",
            "epoch: 2299 loss: 0.17199039459228516\n",
            "epoch: 2300 loss: 0.17195427417755127\n",
            "epoch: 2301 loss: 0.17191816866397858\n",
            "epoch: 2302 loss: 0.17188209295272827\n",
            "epoch: 2303 loss: 0.17184606194496155\n",
            "epoch: 2304 loss: 0.17181001603603363\n",
            "epoch: 2305 loss: 0.1717740297317505\n",
            "epoch: 2306 loss: 0.17173802852630615\n",
            "epoch: 2307 loss: 0.1717020869255066\n",
            "epoch: 2308 loss: 0.17166614532470703\n",
            "epoch: 2309 loss: 0.17163024842739105\n",
            "epoch: 2310 loss: 0.17159435153007507\n",
            "epoch: 2311 loss: 0.17155851423740387\n",
            "epoch: 2312 loss: 0.17152266204357147\n",
            "epoch: 2313 loss: 0.17148683965206146\n",
            "epoch: 2314 loss: 0.17145103216171265\n",
            "epoch: 2315 loss: 0.1714152693748474\n",
            "epoch: 2316 loss: 0.17137952148914337\n",
            "epoch: 2317 loss: 0.1713438183069229\n",
            "epoch: 2318 loss: 0.17130810022354126\n",
            "epoch: 2319 loss: 0.17127245664596558\n",
            "epoch: 2320 loss: 0.1712367683649063\n",
            "epoch: 2321 loss: 0.17120115458965302\n",
            "epoch: 2322 loss: 0.17116552591323853\n",
            "epoch: 2323 loss: 0.1711299568414688\n",
            "epoch: 2324 loss: 0.1710943728685379\n",
            "epoch: 2325 loss: 0.17105884850025177\n",
            "epoch: 2326 loss: 0.17102335393428802\n",
            "epoch: 2327 loss: 0.17098785936832428\n",
            "epoch: 2328 loss: 0.17095236480236053\n",
            "epoch: 2329 loss: 0.17091690003871918\n",
            "epoch: 2330 loss: 0.1708814799785614\n",
            "epoch: 2331 loss: 0.17084607481956482\n",
            "epoch: 2332 loss: 0.17081069946289062\n",
            "epoch: 2333 loss: 0.17077533900737762\n",
            "epoch: 2334 loss: 0.170740008354187\n",
            "epoch: 2335 loss: 0.1707046926021576\n",
            "epoch: 2336 loss: 0.17066940665245056\n",
            "epoch: 2337 loss: 0.17063412070274353\n",
            "epoch: 2338 loss: 0.17059889435768127\n",
            "epoch: 2339 loss: 0.17056365311145782\n",
            "epoch: 2340 loss: 0.17052848637104034\n",
            "epoch: 2341 loss: 0.17049330472946167\n",
            "epoch: 2342 loss: 0.1704581379890442\n",
            "epoch: 2343 loss: 0.1704229861497879\n",
            "epoch: 2344 loss: 0.1703878939151764\n",
            "epoch: 2345 loss: 0.17035280168056488\n",
            "epoch: 2346 loss: 0.17031773924827576\n",
            "epoch: 2347 loss: 0.17028269171714783\n",
            "epoch: 2348 loss: 0.17024767398834229\n",
            "epoch: 2349 loss: 0.17021267116069794\n",
            "epoch: 2350 loss: 0.17017772793769836\n",
            "epoch: 2351 loss: 0.1701427400112152\n",
            "epoch: 2352 loss: 0.17010779678821564\n",
            "epoch: 2353 loss: 0.17007291316986084\n",
            "epoch: 2354 loss: 0.17003801465034485\n",
            "epoch: 2355 loss: 0.17000314593315125\n",
            "epoch: 2356 loss: 0.16996832191944122\n",
            "epoch: 2357 loss: 0.1699334979057312\n",
            "epoch: 2358 loss: 0.16989870369434357\n",
            "epoch: 2359 loss: 0.16986390948295593\n",
            "epoch: 2360 loss: 0.16982915997505188\n",
            "epoch: 2361 loss: 0.16979442536830902\n",
            "epoch: 2362 loss: 0.16975970566272736\n",
            "epoch: 2363 loss: 0.16972503066062927\n",
            "epoch: 2364 loss: 0.1696903556585312\n",
            "epoch: 2365 loss: 0.1696557104587555\n",
            "epoch: 2366 loss: 0.169621080160141\n",
            "epoch: 2367 loss: 0.16958646476268768\n",
            "epoch: 2368 loss: 0.16955189406871796\n",
            "epoch: 2369 loss: 0.1695173680782318\n",
            "epoch: 2370 loss: 0.16948279738426208\n",
            "epoch: 2371 loss: 0.16944830119609833\n",
            "epoch: 2372 loss: 0.16941379010677338\n",
            "epoch: 2373 loss: 0.1693793088197708\n",
            "epoch: 2374 loss: 0.16934485733509064\n",
            "epoch: 2375 loss: 0.16931045055389404\n",
            "epoch: 2376 loss: 0.16927604377269745\n",
            "epoch: 2377 loss: 0.16924168169498444\n",
            "epoch: 2378 loss: 0.16920728981494904\n",
            "epoch: 2379 loss: 0.1691729575395584\n",
            "epoch: 2380 loss: 0.16913864016532898\n",
            "epoch: 2381 loss: 0.16910432279109955\n",
            "epoch: 2382 loss: 0.1690700501203537\n",
            "epoch: 2383 loss: 0.16903583705425262\n",
            "epoch: 2384 loss: 0.16900159418582916\n",
            "epoch: 2385 loss: 0.1689673662185669\n",
            "epoch: 2386 loss: 0.1689331829547882\n",
            "epoch: 2387 loss: 0.16889899969100952\n",
            "epoch: 2388 loss: 0.16886486113071442\n",
            "epoch: 2389 loss: 0.1688307225704193\n",
            "epoch: 2390 loss: 0.1687966287136078\n",
            "epoch: 2391 loss: 0.16876254975795746\n",
            "epoch: 2392 loss: 0.16872848570346832\n",
            "epoch: 2393 loss: 0.16869445145130157\n",
            "epoch: 2394 loss: 0.16866043210029602\n",
            "epoch: 2395 loss: 0.16862642765045166\n",
            "epoch: 2396 loss: 0.1685924381017685\n",
            "epoch: 2397 loss: 0.1685585081577301\n",
            "epoch: 2398 loss: 0.16852454841136932\n",
            "epoch: 2399 loss: 0.16849063336849213\n",
            "epoch: 2400 loss: 0.1684567630290985\n",
            "epoch: 2401 loss: 0.1684228926897049\n",
            "epoch: 2402 loss: 0.16838902235031128\n",
            "epoch: 2403 loss: 0.16835519671440125\n",
            "epoch: 2404 loss: 0.1683214008808136\n",
            "epoch: 2405 loss: 0.16828761994838715\n",
            "epoch: 2406 loss: 0.1682538390159607\n",
            "epoch: 2407 loss: 0.16822010278701782\n",
            "epoch: 2408 loss: 0.16818638145923615\n",
            "epoch: 2409 loss: 0.16815266013145447\n",
            "epoch: 2410 loss: 0.16811899840831757\n",
            "epoch: 2411 loss: 0.16808530688285828\n",
            "epoch: 2412 loss: 0.16805167496204376\n",
            "epoch: 2413 loss: 0.16801807284355164\n",
            "epoch: 2414 loss: 0.1679844707250595\n",
            "epoch: 2415 loss: 0.16795088350772858\n",
            "epoch: 2416 loss: 0.16791732609272003\n",
            "epoch: 2417 loss: 0.16788381338119507\n",
            "epoch: 2418 loss: 0.1678502857685089\n",
            "epoch: 2419 loss: 0.16781678795814514\n",
            "epoch: 2420 loss: 0.16778331995010376\n",
            "epoch: 2421 loss: 0.16774986684322357\n",
            "epoch: 2422 loss: 0.16771642863750458\n",
            "epoch: 2423 loss: 0.16768303513526917\n",
            "epoch: 2424 loss: 0.16764962673187256\n",
            "epoch: 2425 loss: 0.16761627793312073\n",
            "epoch: 2426 loss: 0.1675828993320465\n",
            "epoch: 2427 loss: 0.16754959523677826\n",
            "epoch: 2428 loss: 0.16751624643802643\n",
            "epoch: 2429 loss: 0.16748297214508057\n",
            "epoch: 2430 loss: 0.1674496978521347\n",
            "epoch: 2431 loss: 0.16741645336151123\n",
            "epoch: 2432 loss: 0.16738323867321014\n",
            "epoch: 2433 loss: 0.16735002398490906\n",
            "epoch: 2434 loss: 0.16731683909893036\n",
            "epoch: 2435 loss: 0.16728368401527405\n",
            "epoch: 2436 loss: 0.16725051403045654\n",
            "epoch: 2437 loss: 0.1672174036502838\n",
            "epoch: 2438 loss: 0.16718430817127228\n",
            "epoch: 2439 loss: 0.16715122759342194\n",
            "epoch: 2440 loss: 0.16711819171905518\n",
            "epoch: 2441 loss: 0.16708511114120483\n",
            "epoch: 2442 loss: 0.16705211997032166\n",
            "epoch: 2443 loss: 0.1670190840959549\n",
            "epoch: 2444 loss: 0.1669861227273941\n",
            "epoch: 2445 loss: 0.1669531613588333\n",
            "epoch: 2446 loss: 0.16692019999027252\n",
            "epoch: 2447 loss: 0.1668872833251953\n",
            "epoch: 2448 loss: 0.1668543815612793\n",
            "epoch: 2449 loss: 0.16682149469852448\n",
            "epoch: 2450 loss: 0.16678863763809204\n",
            "epoch: 2451 loss: 0.1667557954788208\n",
            "epoch: 2452 loss: 0.16672296822071075\n",
            "epoch: 2453 loss: 0.1666901558637619\n",
            "epoch: 2454 loss: 0.16665737330913544\n",
            "epoch: 2455 loss: 0.16662462055683136\n",
            "epoch: 2456 loss: 0.16659186780452728\n",
            "epoch: 2457 loss: 0.1665591597557068\n",
            "epoch: 2458 loss: 0.16652646660804749\n",
            "epoch: 2459 loss: 0.16649380326271057\n",
            "epoch: 2460 loss: 0.16646113991737366\n",
            "epoch: 2461 loss: 0.16642849147319794\n",
            "epoch: 2462 loss: 0.1663958728313446\n",
            "epoch: 2463 loss: 0.16636325418949127\n",
            "epoch: 2464 loss: 0.16633066534996033\n",
            "epoch: 2465 loss: 0.16629812121391296\n",
            "epoch: 2466 loss: 0.1662655621767044\n",
            "epoch: 2467 loss: 0.16623306274414062\n",
            "epoch: 2468 loss: 0.16620056331157684\n",
            "epoch: 2469 loss: 0.16616807878017426\n",
            "epoch: 2470 loss: 0.16613560914993286\n",
            "epoch: 2471 loss: 0.16610316932201385\n",
            "epoch: 2472 loss: 0.16607074439525604\n",
            "epoch: 2473 loss: 0.16603833436965942\n",
            "epoch: 2474 loss: 0.1660059541463852\n",
            "epoch: 2475 loss: 0.16597358882427216\n",
            "epoch: 2476 loss: 0.1659412533044815\n",
            "epoch: 2477 loss: 0.16590890288352966\n",
            "epoch: 2478 loss: 0.1658765971660614\n",
            "epoch: 2479 loss: 0.16584435105323792\n",
            "epoch: 2480 loss: 0.16581206023693085\n",
            "epoch: 2481 loss: 0.16577979922294617\n",
            "epoch: 2482 loss: 0.16574758291244507\n",
            "epoch: 2483 loss: 0.16571536660194397\n",
            "epoch: 2484 loss: 0.16568315029144287\n",
            "epoch: 2485 loss: 0.16565102338790894\n",
            "epoch: 2486 loss: 0.16561885178089142\n",
            "epoch: 2487 loss: 0.16558673977851868\n",
            "epoch: 2488 loss: 0.16555461287498474\n",
            "epoch: 2489 loss: 0.1655225157737732\n",
            "epoch: 2490 loss: 0.16549043357372284\n",
            "epoch: 2491 loss: 0.16545839607715607\n",
            "epoch: 2492 loss: 0.1654263734817505\n",
            "epoch: 2493 loss: 0.16539432108402252\n",
            "epoch: 2494 loss: 0.16536231338977814\n",
            "epoch: 2495 loss: 0.16533035039901733\n",
            "epoch: 2496 loss: 0.16529838740825653\n",
            "epoch: 2497 loss: 0.16526645421981812\n",
            "epoch: 2498 loss: 0.1652345210313797\n",
            "epoch: 2499 loss: 0.16520263254642487\n",
            "epoch: 2500 loss: 0.16517075896263123\n",
            "epoch: 2501 loss: 0.16513890027999878\n",
            "epoch: 2502 loss: 0.16510704159736633\n",
            "epoch: 2503 loss: 0.16507521271705627\n",
            "epoch: 2504 loss: 0.1650434136390686\n",
            "epoch: 2505 loss: 0.16501161456108093\n",
            "epoch: 2506 loss: 0.16497986018657684\n",
            "epoch: 2507 loss: 0.16494810581207275\n",
            "epoch: 2508 loss: 0.16491638123989105\n",
            "epoch: 2509 loss: 0.16488465666770935\n",
            "epoch: 2510 loss: 0.16485296189785004\n",
            "epoch: 2511 loss: 0.1648212969303131\n",
            "epoch: 2512 loss: 0.164789617061615\n",
            "epoch: 2513 loss: 0.16475801169872284\n",
            "epoch: 2514 loss: 0.1647263765335083\n",
            "epoch: 2515 loss: 0.16469480097293854\n",
            "epoch: 2516 loss: 0.16466322541236877\n",
            "epoch: 2517 loss: 0.164631649851799\n",
            "epoch: 2518 loss: 0.16460010409355164\n",
            "epoch: 2519 loss: 0.16456860303878784\n",
            "epoch: 2520 loss: 0.16453707218170166\n",
            "epoch: 2521 loss: 0.16450561583042145\n",
            "epoch: 2522 loss: 0.16447412967681885\n",
            "epoch: 2523 loss: 0.16444268822669983\n",
            "epoch: 2524 loss: 0.164411261677742\n",
            "epoch: 2525 loss: 0.16437985002994537\n",
            "epoch: 2526 loss: 0.16434845328330994\n",
            "epoch: 2527 loss: 0.1643170863389969\n",
            "epoch: 2528 loss: 0.16428573429584503\n",
            "epoch: 2529 loss: 0.16425441205501556\n",
            "epoch: 2530 loss: 0.1642231047153473\n",
            "epoch: 2531 loss: 0.16419179737567902\n",
            "epoch: 2532 loss: 0.16416050493717194\n",
            "epoch: 2533 loss: 0.16412925720214844\n",
            "epoch: 2534 loss: 0.16409800946712494\n",
            "epoch: 2535 loss: 0.16406679153442383\n",
            "epoch: 2536 loss: 0.1640355885028839\n",
            "epoch: 2537 loss: 0.1640044003725052\n",
            "epoch: 2538 loss: 0.16397321224212646\n",
            "epoch: 2539 loss: 0.16394208371639252\n",
            "epoch: 2540 loss: 0.16391095519065857\n",
            "epoch: 2541 loss: 0.1638798713684082\n",
            "epoch: 2542 loss: 0.16384875774383545\n",
            "epoch: 2543 loss: 0.16381768882274628\n",
            "epoch: 2544 loss: 0.1637866199016571\n",
            "epoch: 2545 loss: 0.16375556588172913\n",
            "epoch: 2546 loss: 0.16372455656528473\n",
            "epoch: 2547 loss: 0.16369354724884033\n",
            "epoch: 2548 loss: 0.16366256773471832\n",
            "epoch: 2549 loss: 0.1636316180229187\n",
            "epoch: 2550 loss: 0.16360065340995789\n",
            "epoch: 2551 loss: 0.16356973350048065\n",
            "epoch: 2552 loss: 0.16353881359100342\n",
            "epoch: 2553 loss: 0.16350793838500977\n",
            "epoch: 2554 loss: 0.1634770631790161\n",
            "epoch: 2555 loss: 0.16344617307186127\n",
            "epoch: 2556 loss: 0.1634153574705124\n",
            "epoch: 2557 loss: 0.16338451206684113\n",
            "epoch: 2558 loss: 0.16335372626781464\n",
            "epoch: 2559 loss: 0.16332292556762695\n",
            "epoch: 2560 loss: 0.16329215466976166\n",
            "epoch: 2561 loss: 0.16326142847537994\n",
            "epoch: 2562 loss: 0.16323068737983704\n",
            "epoch: 2563 loss: 0.16319997608661652\n",
            "epoch: 2564 loss: 0.16316929459571838\n",
            "epoch: 2565 loss: 0.16313859820365906\n",
            "epoch: 2566 loss: 0.1631079465150833\n",
            "epoch: 2567 loss: 0.16307730972766876\n",
            "epoch: 2568 loss: 0.1630467027425766\n",
            "epoch: 2569 loss: 0.16301609575748444\n",
            "epoch: 2570 loss: 0.16298550367355347\n",
            "epoch: 2571 loss: 0.1629549264907837\n",
            "epoch: 2572 loss: 0.1629243642091751\n",
            "epoch: 2573 loss: 0.16289383172988892\n",
            "epoch: 2574 loss: 0.1628633290529251\n",
            "epoch: 2575 loss: 0.1628328114748001\n",
            "epoch: 2576 loss: 0.1628023386001587\n",
            "epoch: 2577 loss: 0.16277188062667847\n",
            "epoch: 2578 loss: 0.16274143755435944\n",
            "epoch: 2579 loss: 0.1627110093832016\n",
            "epoch: 2580 loss: 0.16268058121204376\n",
            "epoch: 2581 loss: 0.1626501977443695\n",
            "epoch: 2582 loss: 0.16261981427669525\n",
            "epoch: 2583 loss: 0.16258947551250458\n",
            "epoch: 2584 loss: 0.1625591218471527\n",
            "epoch: 2585 loss: 0.16252881288528442\n",
            "epoch: 2586 loss: 0.16249851882457733\n",
            "epoch: 2587 loss: 0.16246823966503143\n",
            "epoch: 2588 loss: 0.16243796050548553\n",
            "epoch: 2589 loss: 0.16240772604942322\n",
            "epoch: 2590 loss: 0.1623774915933609\n",
            "epoch: 2591 loss: 0.16234727203845978\n",
            "epoch: 2592 loss: 0.16231706738471985\n",
            "epoch: 2593 loss: 0.1622868925333023\n",
            "epoch: 2594 loss: 0.16225673258304596\n",
            "epoch: 2595 loss: 0.162226602435112\n",
            "epoch: 2596 loss: 0.16219645738601685\n",
            "epoch: 2597 loss: 0.16216634213924408\n",
            "epoch: 2598 loss: 0.1621362566947937\n",
            "epoch: 2599 loss: 0.16210617125034332\n",
            "epoch: 2600 loss: 0.16207611560821533\n",
            "epoch: 2601 loss: 0.16204607486724854\n",
            "epoch: 2602 loss: 0.16201604902744293\n",
            "epoch: 2603 loss: 0.16198605298995972\n",
            "epoch: 2604 loss: 0.1619560569524765\n",
            "epoch: 2605 loss: 0.16192607581615448\n",
            "epoch: 2606 loss: 0.16189613938331604\n",
            "epoch: 2607 loss: 0.1618662029504776\n",
            "epoch: 2608 loss: 0.16183626651763916\n",
            "epoch: 2609 loss: 0.1618063747882843\n",
            "epoch: 2610 loss: 0.16177648305892944\n",
            "epoch: 2611 loss: 0.16174662113189697\n",
            "epoch: 2612 loss: 0.1617167592048645\n",
            "epoch: 2613 loss: 0.1616869419813156\n",
            "epoch: 2614 loss: 0.16165710985660553\n",
            "epoch: 2615 loss: 0.16162730753421783\n",
            "epoch: 2616 loss: 0.16159753501415253\n",
            "epoch: 2617 loss: 0.16156776249408722\n",
            "epoch: 2618 loss: 0.1615380048751831\n",
            "epoch: 2619 loss: 0.16150829195976257\n",
            "epoch: 2620 loss: 0.16147857904434204\n",
            "epoch: 2621 loss: 0.1614488810300827\n",
            "epoch: 2622 loss: 0.16141918301582336\n",
            "epoch: 2623 loss: 0.1613895297050476\n",
            "epoch: 2624 loss: 0.16135987639427185\n",
            "epoch: 2625 loss: 0.1613302379846573\n",
            "epoch: 2626 loss: 0.1613006442785263\n",
            "epoch: 2627 loss: 0.16127103567123413\n",
            "epoch: 2628 loss: 0.16124145686626434\n",
            "epoch: 2629 loss: 0.16121189296245575\n",
            "epoch: 2630 loss: 0.16118235886096954\n",
            "epoch: 2631 loss: 0.16115283966064453\n",
            "epoch: 2632 loss: 0.16112332046031952\n",
            "epoch: 2633 loss: 0.1610938310623169\n",
            "epoch: 2634 loss: 0.16106435656547546\n",
            "epoch: 2635 loss: 0.16103488206863403\n",
            "epoch: 2636 loss: 0.16100545227527618\n",
            "epoch: 2637 loss: 0.16097602248191833\n",
            "epoch: 2638 loss: 0.16094659268856049\n",
            "epoch: 2639 loss: 0.1609172224998474\n",
            "epoch: 2640 loss: 0.16088783740997314\n",
            "epoch: 2641 loss: 0.16085848212242126\n",
            "epoch: 2642 loss: 0.16082912683486938\n",
            "epoch: 2643 loss: 0.1607998013496399\n",
            "epoch: 2644 loss: 0.1607704907655716\n",
            "epoch: 2645 loss: 0.16074120998382568\n",
            "epoch: 2646 loss: 0.16071194410324097\n",
            "epoch: 2647 loss: 0.16068266332149506\n",
            "epoch: 2648 loss: 0.16065341234207153\n",
            "epoch: 2649 loss: 0.1606241762638092\n",
            "epoch: 2650 loss: 0.16059498488903046\n",
            "epoch: 2651 loss: 0.16056577861309052\n",
            "epoch: 2652 loss: 0.16053661704063416\n",
            "epoch: 2653 loss: 0.1605074554681778\n",
            "epoch: 2654 loss: 0.16047830879688263\n",
            "epoch: 2655 loss: 0.16044917702674866\n",
            "epoch: 2656 loss: 0.16042007505893707\n",
            "epoch: 2657 loss: 0.1603909730911255\n",
            "epoch: 2658 loss: 0.1603618860244751\n",
            "epoch: 2659 loss: 0.1603328138589859\n",
            "epoch: 2660 loss: 0.16030378639698029\n",
            "epoch: 2661 loss: 0.16027475893497467\n",
            "epoch: 2662 loss: 0.16024571657180786\n",
            "epoch: 2663 loss: 0.16021673381328583\n",
            "epoch: 2664 loss: 0.16018778085708618\n",
            "epoch: 2665 loss: 0.16015881299972534\n",
            "epoch: 2666 loss: 0.1601298451423645\n",
            "epoch: 2667 loss: 0.16010092198848724\n",
            "epoch: 2668 loss: 0.16007202863693237\n",
            "epoch: 2669 loss: 0.1600431203842163\n",
            "epoch: 2670 loss: 0.16001422703266144\n",
            "epoch: 2671 loss: 0.15998536348342896\n",
            "epoch: 2672 loss: 0.15995651483535767\n",
            "epoch: 2673 loss: 0.15992766618728638\n",
            "epoch: 2674 loss: 0.15989886224269867\n",
            "epoch: 2675 loss: 0.15987007319927216\n",
            "epoch: 2676 loss: 0.15984126925468445\n",
            "epoch: 2677 loss: 0.15981251001358032\n",
            "epoch: 2678 loss: 0.1597837507724762\n",
            "epoch: 2679 loss: 0.15975502133369446\n",
            "epoch: 2680 loss: 0.1597263216972351\n",
            "epoch: 2681 loss: 0.15969759225845337\n",
            "epoch: 2682 loss: 0.1596689075231552\n",
            "epoch: 2683 loss: 0.15964023768901825\n",
            "epoch: 2684 loss: 0.15961159765720367\n",
            "epoch: 2685 loss: 0.1595829427242279\n",
            "epoch: 2686 loss: 0.15955431759357452\n",
            "epoch: 2687 loss: 0.15952570736408234\n",
            "epoch: 2688 loss: 0.15949711203575134\n",
            "epoch: 2689 loss: 0.15946851670742035\n",
            "epoch: 2690 loss: 0.15943998098373413\n",
            "epoch: 2691 loss: 0.15941143035888672\n",
            "epoch: 2692 loss: 0.1593829095363617\n",
            "epoch: 2693 loss: 0.15935440361499786\n",
            "epoch: 2694 loss: 0.15932589769363403\n",
            "epoch: 2695 loss: 0.1592974215745926\n",
            "epoch: 2696 loss: 0.15926894545555115\n",
            "epoch: 2697 loss: 0.1592405140399933\n",
            "epoch: 2698 loss: 0.15921206772327423\n",
            "epoch: 2699 loss: 0.15918366611003876\n",
            "epoch: 2700 loss: 0.1591552495956421\n",
            "epoch: 2701 loss: 0.1591268926858902\n",
            "epoch: 2702 loss: 0.1590985208749771\n",
            "epoch: 2703 loss: 0.15907013416290283\n",
            "epoch: 2704 loss: 0.15904182195663452\n",
            "epoch: 2705 loss: 0.15901349484920502\n",
            "epoch: 2706 loss: 0.1589851826429367\n",
            "epoch: 2707 loss: 0.1589568853378296\n",
            "epoch: 2708 loss: 0.15892861783504486\n",
            "epoch: 2709 loss: 0.15890038013458252\n",
            "epoch: 2710 loss: 0.15887212753295898\n",
            "epoch: 2711 loss: 0.15884390473365784\n",
            "epoch: 2712 loss: 0.1588156819343567\n",
            "epoch: 2713 loss: 0.15878747403621674\n",
            "epoch: 2714 loss: 0.15875932574272156\n",
            "epoch: 2715 loss: 0.158731147646904\n",
            "epoch: 2716 loss: 0.1587029993534088\n",
            "epoch: 2717 loss: 0.15867486596107483\n",
            "epoch: 2718 loss: 0.15864674746990204\n",
            "epoch: 2719 loss: 0.15861865878105164\n",
            "epoch: 2720 loss: 0.15859057009220123\n",
            "epoch: 2721 loss: 0.15856248140335083\n",
            "epoch: 2722 loss: 0.158534437417984\n",
            "epoch: 2723 loss: 0.158506378531456\n",
            "epoch: 2724 loss: 0.15847836434841156\n",
            "epoch: 2725 loss: 0.15845035016536713\n",
            "epoch: 2726 loss: 0.1584223508834839\n",
            "epoch: 2727 loss: 0.15839438140392303\n",
            "epoch: 2728 loss: 0.15836641192436218\n",
            "epoch: 2729 loss: 0.15833845734596252\n",
            "epoch: 2730 loss: 0.15831053256988525\n",
            "epoch: 2731 loss: 0.15828262269496918\n",
            "epoch: 2732 loss: 0.1582547128200531\n",
            "epoch: 2733 loss: 0.15822681784629822\n",
            "epoch: 2734 loss: 0.15819893777370453\n",
            "epoch: 2735 loss: 0.15817110240459442\n",
            "epoch: 2736 loss: 0.15814325213432312\n",
            "epoch: 2737 loss: 0.158115416765213\n",
            "epoch: 2738 loss: 0.15808764100074768\n",
            "epoch: 2739 loss: 0.15805982053279877\n",
            "epoch: 2740 loss: 0.15803202986717224\n",
            "epoch: 2741 loss: 0.1580042690038681\n",
            "epoch: 2742 loss: 0.15797650814056396\n",
            "epoch: 2743 loss: 0.1579487919807434\n",
            "epoch: 2744 loss: 0.15792109072208405\n",
            "epoch: 2745 loss: 0.1578933745622635\n",
            "epoch: 2746 loss: 0.1578657031059265\n",
            "epoch: 2747 loss: 0.15783800184726715\n",
            "epoch: 2748 loss: 0.15781034529209137\n",
            "epoch: 2749 loss: 0.15778270363807678\n",
            "epoch: 2750 loss: 0.1577550768852234\n",
            "epoch: 2751 loss: 0.15772747993469238\n",
            "epoch: 2752 loss: 0.15769986808300018\n",
            "epoch: 2753 loss: 0.15767228603363037\n",
            "epoch: 2754 loss: 0.15764470398426056\n",
            "epoch: 2755 loss: 0.15761716663837433\n",
            "epoch: 2756 loss: 0.1575896292924881\n",
            "epoch: 2757 loss: 0.15756210684776306\n",
            "epoch: 2758 loss: 0.15753459930419922\n",
            "epoch: 2759 loss: 0.15750712156295776\n",
            "epoch: 2760 loss: 0.1574796438217163\n",
            "epoch: 2761 loss: 0.15745216608047485\n",
            "epoch: 2762 loss: 0.1574247181415558\n",
            "epoch: 2763 loss: 0.1573972851037979\n",
            "epoch: 2764 loss: 0.15736989676952362\n",
            "epoch: 2765 loss: 0.15734247863292694\n",
            "epoch: 2766 loss: 0.15731509029865265\n",
            "epoch: 2767 loss: 0.15728771686553955\n",
            "epoch: 2768 loss: 0.15726035833358765\n",
            "epoch: 2769 loss: 0.15723301470279694\n",
            "epoch: 2770 loss: 0.1572057008743286\n",
            "epoch: 2771 loss: 0.1571783721446991\n",
            "epoch: 2772 loss: 0.15715107321739197\n",
            "epoch: 2773 loss: 0.15712381899356842\n",
            "epoch: 2774 loss: 0.15709653496742249\n",
            "epoch: 2775 loss: 0.15706928074359894\n",
            "epoch: 2776 loss: 0.15704204142093658\n",
            "epoch: 2777 loss: 0.15701480209827423\n",
            "epoch: 2778 loss: 0.15698760747909546\n",
            "epoch: 2779 loss: 0.1569603979587555\n",
            "epoch: 2780 loss: 0.1569332331418991\n",
            "epoch: 2781 loss: 0.15690606832504272\n",
            "epoch: 2782 loss: 0.15687893331050873\n",
            "epoch: 2783 loss: 0.15685178339481354\n",
            "epoch: 2784 loss: 0.15682466328144073\n",
            "epoch: 2785 loss: 0.15679755806922913\n",
            "epoch: 2786 loss: 0.15677043795585632\n",
            "epoch: 2787 loss: 0.1567433625459671\n",
            "epoch: 2788 loss: 0.15671633183956146\n",
            "epoch: 2789 loss: 0.15668927133083344\n",
            "epoch: 2790 loss: 0.1566622406244278\n",
            "epoch: 2791 loss: 0.15663522481918335\n",
            "epoch: 2792 loss: 0.1566082239151001\n",
            "epoch: 2793 loss: 0.15658120810985565\n",
            "epoch: 2794 loss: 0.1565542370080948\n",
            "epoch: 2795 loss: 0.1565272957086563\n",
            "epoch: 2796 loss: 0.15650033950805664\n",
            "epoch: 2797 loss: 0.15647341310977936\n",
            "epoch: 2798 loss: 0.15644648671150208\n",
            "epoch: 2799 loss: 0.156419575214386\n",
            "epoch: 2800 loss: 0.15639270842075348\n",
            "epoch: 2801 loss: 0.15636582672595978\n",
            "epoch: 2802 loss: 0.15633897483348846\n",
            "epoch: 2803 loss: 0.15631212294101715\n",
            "epoch: 2804 loss: 0.15628530085086823\n",
            "epoch: 2805 loss: 0.1562584787607193\n",
            "epoch: 2806 loss: 0.15623168647289276\n",
            "epoch: 2807 loss: 0.15620487928390503\n",
            "epoch: 2808 loss: 0.15617811679840088\n",
            "epoch: 2809 loss: 0.15615135431289673\n",
            "epoch: 2810 loss: 0.15612463653087616\n",
            "epoch: 2811 loss: 0.1560979038476944\n",
            "epoch: 2812 loss: 0.15607118606567383\n",
            "epoch: 2813 loss: 0.15604448318481445\n",
            "epoch: 2814 loss: 0.15601779520511627\n",
            "epoch: 2815 loss: 0.15599113702774048\n",
            "epoch: 2816 loss: 0.1559644490480423\n",
            "epoch: 2817 loss: 0.1559378057718277\n",
            "epoch: 2818 loss: 0.1559111773967743\n",
            "epoch: 2819 loss: 0.15588457882404327\n",
            "epoch: 2820 loss: 0.15585796535015106\n",
            "epoch: 2821 loss: 0.15583138167858124\n",
            "epoch: 2822 loss: 0.1558048129081726\n",
            "epoch: 2823 loss: 0.15577825903892517\n",
            "epoch: 2824 loss: 0.15575170516967773\n",
            "epoch: 2825 loss: 0.1557251662015915\n",
            "epoch: 2826 loss: 0.15569865703582764\n",
            "epoch: 2827 loss: 0.15567216277122498\n",
            "epoch: 2828 loss: 0.15564565360546112\n",
            "epoch: 2829 loss: 0.15561920404434204\n",
            "epoch: 2830 loss: 0.15559273958206177\n",
            "epoch: 2831 loss: 0.1555662900209427\n",
            "epoch: 2832 loss: 0.1555398553609848\n",
            "epoch: 2833 loss: 0.1555134505033493\n",
            "epoch: 2834 loss: 0.15548701584339142\n",
            "epoch: 2835 loss: 0.1554606407880783\n",
            "epoch: 2836 loss: 0.1554342657327652\n",
            "epoch: 2837 loss: 0.15540793538093567\n",
            "epoch: 2838 loss: 0.15538156032562256\n",
            "epoch: 2839 loss: 0.15535524487495422\n",
            "epoch: 2840 loss: 0.1553289294242859\n",
            "epoch: 2841 loss: 0.15530261397361755\n",
            "epoch: 2842 loss: 0.15527629852294922\n",
            "epoch: 2843 loss: 0.15525004267692566\n",
            "epoch: 2844 loss: 0.1552237570285797\n",
            "epoch: 2845 loss: 0.15519751608371735\n",
            "epoch: 2846 loss: 0.15517129004001617\n",
            "epoch: 2847 loss: 0.1551450788974762\n",
            "epoch: 2848 loss: 0.15511885285377502\n",
            "epoch: 2849 loss: 0.15509267151355743\n",
            "epoch: 2850 loss: 0.15506649017333984\n",
            "epoch: 2851 loss: 0.15504032373428345\n",
            "epoch: 2852 loss: 0.15501417219638824\n",
            "epoch: 2853 loss: 0.15498802065849304\n",
            "epoch: 2854 loss: 0.15496189892292023\n",
            "epoch: 2855 loss: 0.1549357920885086\n",
            "epoch: 2856 loss: 0.15490970015525818\n",
            "epoch: 2857 loss: 0.15488360822200775\n",
            "epoch: 2858 loss: 0.1548575460910797\n",
            "epoch: 2859 loss: 0.15483146905899048\n",
            "epoch: 2860 loss: 0.15480543673038483\n",
            "epoch: 2861 loss: 0.15477940440177917\n",
            "epoch: 2862 loss: 0.1547534018754959\n",
            "epoch: 2863 loss: 0.15472739934921265\n",
            "epoch: 2864 loss: 0.15470139682292938\n",
            "epoch: 2865 loss: 0.1546754240989685\n",
            "epoch: 2866 loss: 0.15464948117733002\n",
            "epoch: 2867 loss: 0.15462353825569153\n",
            "epoch: 2868 loss: 0.15459758043289185\n",
            "epoch: 2869 loss: 0.15457168221473694\n",
            "epoch: 2870 loss: 0.15454576909542084\n",
            "epoch: 2871 loss: 0.15451987087726593\n",
            "epoch: 2872 loss: 0.15449398756027222\n",
            "epoch: 2873 loss: 0.1544681340456009\n",
            "epoch: 2874 loss: 0.15444229543209076\n",
            "epoch: 2875 loss: 0.15441644191741943\n",
            "epoch: 2876 loss: 0.1543906331062317\n",
            "epoch: 2877 loss: 0.15436480939388275\n",
            "epoch: 2878 loss: 0.1543390303850174\n",
            "epoch: 2879 loss: 0.15431323647499084\n",
            "epoch: 2880 loss: 0.1542874574661255\n",
            "epoch: 2881 loss: 0.15426170825958252\n",
            "epoch: 2882 loss: 0.15423595905303955\n",
            "epoch: 2883 loss: 0.15421023964881897\n",
            "epoch: 2884 loss: 0.1541845202445984\n",
            "epoch: 2885 loss: 0.154158815741539\n",
            "epoch: 2886 loss: 0.15413311123847961\n",
            "epoch: 2887 loss: 0.15410743653774261\n",
            "epoch: 2888 loss: 0.15408176183700562\n",
            "epoch: 2889 loss: 0.1540561318397522\n",
            "epoch: 2890 loss: 0.15403050184249878\n",
            "epoch: 2891 loss: 0.15400487184524536\n",
            "epoch: 2892 loss: 0.15397925674915314\n",
            "epoch: 2893 loss: 0.1539536714553833\n",
            "epoch: 2894 loss: 0.15392808616161346\n",
            "epoch: 2895 loss: 0.15390251576900482\n",
            "epoch: 2896 loss: 0.15387694537639618\n",
            "epoch: 2897 loss: 0.15385141968727112\n",
            "epoch: 2898 loss: 0.15382586419582367\n",
            "epoch: 2899 loss: 0.153800368309021\n",
            "epoch: 2900 loss: 0.15377485752105713\n",
            "epoch: 2901 loss: 0.15374934673309326\n",
            "epoch: 2902 loss: 0.15372389554977417\n",
            "epoch: 2903 loss: 0.15369842946529388\n",
            "epoch: 2904 loss: 0.1536729782819748\n",
            "epoch: 2905 loss: 0.1536475419998169\n",
            "epoch: 2906 loss: 0.153622105717659\n",
            "epoch: 2907 loss: 0.1535966992378235\n",
            "epoch: 2908 loss: 0.15357132256031036\n",
            "epoch: 2909 loss: 0.15354591608047485\n",
            "epoch: 2910 loss: 0.15352053940296173\n",
            "epoch: 2911 loss: 0.153495192527771\n",
            "epoch: 2912 loss: 0.15346983075141907\n",
            "epoch: 2913 loss: 0.15344451367855072\n",
            "epoch: 2914 loss: 0.15341919660568237\n",
            "epoch: 2915 loss: 0.15339389443397522\n",
            "epoch: 2916 loss: 0.15336859226226807\n",
            "epoch: 2917 loss: 0.1533433198928833\n",
            "epoch: 2918 loss: 0.15331806242465973\n",
            "epoch: 2919 loss: 0.15329280495643616\n",
            "epoch: 2920 loss: 0.15326756238937378\n",
            "epoch: 2921 loss: 0.1532423347234726\n",
            "epoch: 2922 loss: 0.1532171219587326\n",
            "epoch: 2923 loss: 0.1531919240951538\n",
            "epoch: 2924 loss: 0.1531667411327362\n",
            "epoch: 2925 loss: 0.1531415581703186\n",
            "epoch: 2926 loss: 0.1531164050102234\n",
            "epoch: 2927 loss: 0.15309123694896698\n",
            "epoch: 2928 loss: 0.15306609869003296\n",
            "epoch: 2929 loss: 0.15304097533226013\n",
            "epoch: 2930 loss: 0.1530158817768097\n",
            "epoch: 2931 loss: 0.15299077332019806\n",
            "epoch: 2932 loss: 0.1529656946659088\n",
            "epoch: 2933 loss: 0.15294061601161957\n",
            "epoch: 2934 loss: 0.15291555225849152\n",
            "epoch: 2935 loss: 0.15289051830768585\n",
            "epoch: 2936 loss: 0.152865469455719\n",
            "epoch: 2937 loss: 0.15284046530723572\n",
            "epoch: 2938 loss: 0.15281546115875244\n",
            "epoch: 2939 loss: 0.15279045701026917\n",
            "epoch: 2940 loss: 0.15276546776294708\n",
            "epoch: 2941 loss: 0.1527405083179474\n",
            "epoch: 2942 loss: 0.1527155488729477\n",
            "epoch: 2943 loss: 0.1526906043291092\n",
            "epoch: 2944 loss: 0.15266567468643188\n",
            "epoch: 2945 loss: 0.15264077484607697\n",
            "epoch: 2946 loss: 0.15261584520339966\n",
            "epoch: 2947 loss: 0.15259096026420593\n",
            "epoch: 2948 loss: 0.1525660753250122\n",
            "epoch: 2949 loss: 0.15254120528697968\n",
            "epoch: 2950 loss: 0.15251635015010834\n",
            "epoch: 2951 loss: 0.1524915099143982\n",
            "epoch: 2952 loss: 0.15246666967868805\n",
            "epoch: 2953 loss: 0.1524418592453003\n",
            "epoch: 2954 loss: 0.15241706371307373\n",
            "epoch: 2955 loss: 0.15239228308200836\n",
            "epoch: 2956 loss: 0.1523674875497818\n",
            "epoch: 2957 loss: 0.15234272181987762\n",
            "epoch: 2958 loss: 0.15231795608997345\n",
            "epoch: 2959 loss: 0.15229322016239166\n",
            "epoch: 2960 loss: 0.15226849913597107\n",
            "epoch: 2961 loss: 0.15224379301071167\n",
            "epoch: 2962 loss: 0.15221908688545227\n",
            "epoch: 2963 loss: 0.15219439566135406\n",
            "epoch: 2964 loss: 0.15216971933841705\n",
            "epoch: 2965 loss: 0.15214505791664124\n",
            "epoch: 2966 loss: 0.15212039649486542\n",
            "epoch: 2967 loss: 0.1520957499742508\n",
            "epoch: 2968 loss: 0.15207113325595856\n",
            "epoch: 2969 loss: 0.15204651653766632\n",
            "epoch: 2970 loss: 0.15202192962169647\n",
            "epoch: 2971 loss: 0.15199731290340424\n",
            "epoch: 2972 loss: 0.15197275578975677\n",
            "epoch: 2973 loss: 0.15194818377494812\n",
            "epoch: 2974 loss: 0.15192361176013947\n",
            "epoch: 2975 loss: 0.1518990844488144\n",
            "epoch: 2976 loss: 0.15187455713748932\n",
            "epoch: 2977 loss: 0.15185004472732544\n",
            "epoch: 2978 loss: 0.15182554721832275\n",
            "epoch: 2979 loss: 0.15180104970932007\n",
            "epoch: 2980 loss: 0.15177656710147858\n",
            "epoch: 2981 loss: 0.15175208449363708\n",
            "epoch: 2982 loss: 0.15172763168811798\n",
            "epoch: 2983 loss: 0.15170320868492126\n",
            "epoch: 2984 loss: 0.15167878568172455\n",
            "epoch: 2985 loss: 0.15165436267852783\n",
            "epoch: 2986 loss: 0.1516299694776535\n",
            "epoch: 2987 loss: 0.15160556137561798\n",
            "epoch: 2988 loss: 0.15158118307590485\n",
            "epoch: 2989 loss: 0.1515568047761917\n",
            "epoch: 2990 loss: 0.15153245627880096\n",
            "epoch: 2991 loss: 0.1515081226825714\n",
            "epoch: 2992 loss: 0.15148378908634186\n",
            "epoch: 2993 loss: 0.1514594703912735\n",
            "epoch: 2994 loss: 0.15143518149852753\n",
            "epoch: 2995 loss: 0.15141086280345917\n",
            "epoch: 2996 loss: 0.1513865888118744\n",
            "epoch: 2997 loss: 0.1513623297214508\n",
            "epoch: 2998 loss: 0.15133807063102722\n",
            "epoch: 2999 loss: 0.15131382644176483\n"
          ],
          "name": "stdout"
        }
      ]
    },
    {
      "cell_type": "code",
      "metadata": {
        "colab": {
          "base_uri": "https://localhost:8080/",
          "height": 296
        },
        "id": "lgnrl_8o4GKM",
        "outputId": "89ff5197-029c-4f81-9cfb-18c4648cd611"
      },
      "source": [
        "plt.plot(range(epochs), losses)\n",
        "plt.ylabel(\"loss\")\n",
        "plt.xlabel(\"epoch\")\n",
        "#plt.title(\"calculating loss per epoch\")"
      ],
      "execution_count": 767,
      "outputs": [
        {
          "output_type": "execute_result",
          "data": {
            "text/plain": [
              "Text(0.5, 0, 'epoch')"
            ]
          },
          "metadata": {
            "tags": []
          },
          "execution_count": 767
        },
        {
          "output_type": "display_data",
          "data": {
            "image/png": "[encoded data removed]",
            "text/plain": [
              "<Figure size 432x288 with 1 Axes>"
            ]
          },
          "metadata": {
            "tags": [],
            "needs_background": "light"
          }
        }
      ]
    },
    {
      "cell_type": "code",
      "metadata": {
        "colab": {
          "base_uri": "https://localhost:8080/",
          "height": 265
        },
        "id": "l8xGeVUq4LSh",
        "outputId": "a5f87cd6-0547-4711-8112-2a2760daef32"
      },
      "source": [
        "plot_fit(\"trained mOdel\")"
      ],
      "execution_count": 768,
      "outputs": [
        {
          "output_type": "display_data",
          "data": {
            "image/png": "[encoded data removed]",
            "text/plain": [
              "<Figure size 432x288 with 1 Axes>"
            ]
          },
          "metadata": {
            "tags": [],
            "needs_background": "light"
          }
        }
      ]
    },
    {
      "cell_type": "code",
      "metadata": {
        "colab": {
          "base_uri": "https://localhost:8080/",
          "height": 333
        },
        "id": "BfD3XKrG5or-",
        "outputId": "f59dd0d8-0c50-4584-ecf9-2ea33336a401"
      },
      "source": [
        "#model testing\n",
        "\n",
        "point1 = torch.Tensor([1.0, -1.0])\n",
        "point2 = torch.Tensor([-1.0, 1.0])\n",
        "\n",
        "plt.plot(point1.numpy()[0], point1.numpy()[1], \"ro\")\n",
        "plt.plot(point2.numpy()[0], point2.numpy()[1], \"ko\")\n",
        "\n",
        "print(\"Red point Positive Probability ={}\".format(model.forward(point1).item()))\n",
        "print(\"Black point Positive Probability ={}\".format(model.forward(point2).item()))\n",
        "\n",
        "print(\"Red point in Class ={}\".format(model.predict(point1)))\n",
        "print(\"Black point in Class ={}\".format(model.predict(point2)))\n",
        "plot_fit(\"trained Model\")"
      ],
      "execution_count": 771,
      "outputs": [
        {
          "output_type": "stream",
          "text": [
            "Red point Positive Probability =0.9900645613670349\n",
            "Black point Positive Probability =0.006189143750816584\n",
            "Red point in Class =1\n",
            "Black point in Class =0\n"
          ],
          "name": "stdout"
        },
        {
          "output_type": "display_data",
          "data": {
            "image/png": "[encoded data removed]",
            "text/plain": [
              "<Figure size 432x288 with 1 Axes>"
            ]
          },
          "metadata": {
            "tags": [],
            "needs_background": "light"
          }
        }
      ]
    },
    {
      "cell_type": "code",
      "metadata": {
        "id": "Wa8_MhQ27N9V"
      },
      "source": [
        ""
      ],
      "execution_count": 769,
      "outputs": []
    },
    {
      "cell_type": "markdown",
      "metadata": {
        "id": "wJyv379W9oVu"
      },
      "source": [
        "# New Section"
      ]
    }
  ]
}